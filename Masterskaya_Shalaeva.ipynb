{
 "cells": [
  {
   "cell_type": "markdown",
   "metadata": {},
   "source": [
    "# Мэтчинг товаров"
   ]
  },
  {
   "cell_type": "markdown",
   "metadata": {},
   "source": [
    "Задача - разработать алгоритм, который подберет для каждого товара по пять наиболее похожих товаров."
   ]
  },
  {
   "cell_type": "markdown",
   "metadata": {},
   "source": [
    "### Подключение библиотек"
   ]
  },
  {
   "cell_type": "code",
   "execution_count": 1,
   "metadata": {},
   "outputs": [
    {
     "name": "stdout",
     "output_type": "stream",
     "text": [
      "Requirement already satisfied: faiss-cpu==1.7.4 in /Users/mariya/anaconda3/envs/music_genre/lib/python3.8/site-packages (1.7.4)\r\n"
     ]
    }
   ],
   "source": [
    "!pip install faiss-cpu==1.7.4"
   ]
  },
  {
   "cell_type": "code",
   "execution_count": 2,
   "metadata": {},
   "outputs": [
    {
     "name": "stdout",
     "output_type": "stream",
     "text": [
      "Requirement already satisfied: jupyternotify in /Users/mariya/anaconda3/envs/music_genre/lib/python3.8/site-packages (0.1.15)\n",
      "Requirement already satisfied: ipython in /Users/mariya/anaconda3/envs/music_genre/lib/python3.8/site-packages (from jupyternotify) (8.12.2)\n",
      "Requirement already satisfied: jupyter in /Users/mariya/anaconda3/envs/music_genre/lib/python3.8/site-packages (from jupyternotify) (1.0.0)\n",
      "Requirement already satisfied: backcall in /Users/mariya/anaconda3/envs/music_genre/lib/python3.8/site-packages (from ipython->jupyternotify) (0.2.0)\n",
      "Requirement already satisfied: decorator in /Users/mariya/anaconda3/envs/music_genre/lib/python3.8/site-packages (from ipython->jupyternotify) (5.1.1)\n",
      "Requirement already satisfied: jedi>=0.16 in /Users/mariya/anaconda3/envs/music_genre/lib/python3.8/site-packages (from ipython->jupyternotify) (0.19.1)\n",
      "Requirement already satisfied: matplotlib-inline in /Users/mariya/anaconda3/envs/music_genre/lib/python3.8/site-packages (from ipython->jupyternotify) (0.1.6)\n",
      "Requirement already satisfied: pickleshare in /Users/mariya/anaconda3/envs/music_genre/lib/python3.8/site-packages (from ipython->jupyternotify) (0.7.5)\n",
      "Requirement already satisfied: prompt-toolkit!=3.0.37,<3.1.0,>=3.0.30 in /Users/mariya/anaconda3/envs/music_genre/lib/python3.8/site-packages (from ipython->jupyternotify) (3.0.42)\n",
      "Requirement already satisfied: pygments>=2.4.0 in /Users/mariya/anaconda3/envs/music_genre/lib/python3.8/site-packages (from ipython->jupyternotify) (2.17.2)\n",
      "Requirement already satisfied: stack-data in /Users/mariya/anaconda3/envs/music_genre/lib/python3.8/site-packages (from ipython->jupyternotify) (0.2.0)\n",
      "Requirement already satisfied: traitlets>=5 in /Users/mariya/anaconda3/envs/music_genre/lib/python3.8/site-packages (from ipython->jupyternotify) (5.9.0)\n",
      "Requirement already satisfied: typing-extensions in /Users/mariya/anaconda3/envs/music_genre/lib/python3.8/site-packages (from ipython->jupyternotify) (4.7.1)\n",
      "Requirement already satisfied: pexpect>4.3 in /Users/mariya/anaconda3/envs/music_genre/lib/python3.8/site-packages (from ipython->jupyternotify) (4.8.0)\n",
      "Requirement already satisfied: appnope in /Users/mariya/anaconda3/envs/music_genre/lib/python3.8/site-packages (from ipython->jupyternotify) (0.1.3)\n",
      "Requirement already satisfied: notebook in /Users/mariya/anaconda3/envs/music_genre/lib/python3.8/site-packages (from jupyter->jupyternotify) (6.5.6)\n",
      "Requirement already satisfied: qtconsole in /Users/mariya/anaconda3/envs/music_genre/lib/python3.8/site-packages (from jupyter->jupyternotify) (5.5.1)\n",
      "Requirement already satisfied: jupyter-console in /Users/mariya/anaconda3/envs/music_genre/lib/python3.8/site-packages (from jupyter->jupyternotify) (6.6.3)\n",
      "Requirement already satisfied: nbconvert in /Users/mariya/anaconda3/envs/music_genre/lib/python3.8/site-packages (from jupyter->jupyternotify) (7.6.0)\n",
      "Requirement already satisfied: ipykernel in /Users/mariya/anaconda3/envs/music_genre/lib/python3.8/site-packages (from jupyter->jupyternotify) (6.16.2)\n",
      "Requirement already satisfied: ipywidgets in /Users/mariya/anaconda3/envs/music_genre/lib/python3.8/site-packages (from jupyter->jupyternotify) (7.8.0)\n",
      "Requirement already satisfied: parso<0.9.0,>=0.8.3 in /Users/mariya/anaconda3/envs/music_genre/lib/python3.8/site-packages (from jedi>=0.16->ipython->jupyternotify) (0.8.3)\n",
      "Requirement already satisfied: ptyprocess>=0.5 in /Users/mariya/anaconda3/envs/music_genre/lib/python3.8/site-packages (from pexpect>4.3->ipython->jupyternotify) (0.7.0)\n",
      "Requirement already satisfied: wcwidth in /Users/mariya/anaconda3/envs/music_genre/lib/python3.8/site-packages (from prompt-toolkit!=3.0.37,<3.1.0,>=3.0.30->ipython->jupyternotify) (0.2.10)\n",
      "Requirement already satisfied: debugpy>=1.0 in /Users/mariya/anaconda3/envs/music_genre/lib/python3.8/site-packages (from ipykernel->jupyter->jupyternotify) (1.6.7)\n",
      "Requirement already satisfied: jupyter-client>=6.1.12 in /Users/mariya/anaconda3/envs/music_genre/lib/python3.8/site-packages (from ipykernel->jupyter->jupyternotify) (7.3.4)\n",
      "Requirement already satisfied: nest-asyncio in /Users/mariya/anaconda3/envs/music_genre/lib/python3.8/site-packages (from ipykernel->jupyter->jupyternotify) (1.5.9)\n",
      "Requirement already satisfied: packaging in /Users/mariya/anaconda3/envs/music_genre/lib/python3.8/site-packages (from ipykernel->jupyter->jupyternotify) (23.2)\n",
      "Requirement already satisfied: psutil in /Users/mariya/anaconda3/envs/music_genre/lib/python3.8/site-packages (from ipykernel->jupyter->jupyternotify) (5.9.0)\n",
      "Requirement already satisfied: pyzmq>=17 in /Users/mariya/anaconda3/envs/music_genre/lib/python3.8/site-packages (from ipykernel->jupyter->jupyternotify) (23.2.0)\n",
      "Requirement already satisfied: tornado>=6.1 in /Users/mariya/anaconda3/envs/music_genre/lib/python3.8/site-packages (from ipykernel->jupyter->jupyternotify) (6.3.3)\n",
      "Requirement already satisfied: comm>=0.1.3 in /Users/mariya/anaconda3/envs/music_genre/lib/python3.8/site-packages (from ipywidgets->jupyter->jupyternotify) (0.2.1)\n",
      "Requirement already satisfied: ipython-genutils~=0.2.0 in /Users/mariya/anaconda3/envs/music_genre/lib/python3.8/site-packages (from ipywidgets->jupyter->jupyternotify) (0.2.0)\n",
      "Requirement already satisfied: widgetsnbextension~=3.6.5 in /Users/mariya/anaconda3/envs/music_genre/lib/python3.8/site-packages (from ipywidgets->jupyter->jupyternotify) (3.6.6)\n",
      "Requirement already satisfied: jupyterlab-widgets<3,>=1.0.0 in /Users/mariya/anaconda3/envs/music_genre/lib/python3.8/site-packages (from ipywidgets->jupyter->jupyternotify) (1.1.7)\n",
      "Requirement already satisfied: jupyter-core!=5.0.*,>=4.12 in /Users/mariya/anaconda3/envs/music_genre/lib/python3.8/site-packages (from jupyter-console->jupyter->jupyternotify) (5.5.0)\n",
      "Requirement already satisfied: beautifulsoup4 in /Users/mariya/anaconda3/envs/music_genre/lib/python3.8/site-packages (from nbconvert->jupyter->jupyternotify) (4.12.3)\n",
      "Requirement already satisfied: bleach!=5.0.0 in /Users/mariya/anaconda3/envs/music_genre/lib/python3.8/site-packages (from nbconvert->jupyter->jupyternotify) (6.1.0)\n",
      "Requirement already satisfied: defusedxml in /Users/mariya/anaconda3/envs/music_genre/lib/python3.8/site-packages (from nbconvert->jupyter->jupyternotify) (0.7.1)\n",
      "Requirement already satisfied: importlib-metadata>=3.6 in /Users/mariya/anaconda3/envs/music_genre/lib/python3.8/site-packages (from nbconvert->jupyter->jupyternotify) (7.0.1)\n",
      "Requirement already satisfied: jinja2>=3.0 in /Users/mariya/anaconda3/envs/music_genre/lib/python3.8/site-packages (from nbconvert->jupyter->jupyternotify) (3.1.3)\n",
      "Requirement already satisfied: jupyterlab-pygments in /Users/mariya/anaconda3/envs/music_genre/lib/python3.8/site-packages (from nbconvert->jupyter->jupyternotify) (0.3.0)\n",
      "Requirement already satisfied: markupsafe>=2.0 in /Users/mariya/anaconda3/envs/music_genre/lib/python3.8/site-packages (from nbconvert->jupyter->jupyternotify) (2.1.3)\n",
      "Requirement already satisfied: mistune<4,>=2.0.3 in /Users/mariya/anaconda3/envs/music_genre/lib/python3.8/site-packages (from nbconvert->jupyter->jupyternotify) (3.0.2)\n",
      "Requirement already satisfied: nbclient>=0.5.0 in /Users/mariya/anaconda3/envs/music_genre/lib/python3.8/site-packages (from nbconvert->jupyter->jupyternotify) (0.7.0)\n",
      "Requirement already satisfied: nbformat>=5.7 in /Users/mariya/anaconda3/envs/music_genre/lib/python3.8/site-packages (from nbconvert->jupyter->jupyternotify) (5.8.0)\n",
      "Requirement already satisfied: pandocfilters>=1.4.1 in /Users/mariya/anaconda3/envs/music_genre/lib/python3.8/site-packages (from nbconvert->jupyter->jupyternotify) (1.5.0)\n",
      "Requirement already satisfied: tinycss2 in /Users/mariya/anaconda3/envs/music_genre/lib/python3.8/site-packages (from nbconvert->jupyter->jupyternotify) (1.2.1)\n",
      "Requirement already satisfied: argon2-cffi in /Users/mariya/anaconda3/envs/music_genre/lib/python3.8/site-packages (from notebook->jupyter->jupyternotify) (23.1.0)\n",
      "Requirement already satisfied: Send2Trash>=1.8.0 in /Users/mariya/anaconda3/envs/music_genre/lib/python3.8/site-packages (from notebook->jupyter->jupyternotify) (1.8.2)\n",
      "Requirement already satisfied: terminado>=0.8.3 in /Users/mariya/anaconda3/envs/music_genre/lib/python3.8/site-packages (from notebook->jupyter->jupyternotify) (0.17.1)\n",
      "Requirement already satisfied: prometheus-client in /Users/mariya/anaconda3/envs/music_genre/lib/python3.8/site-packages (from notebook->jupyter->jupyternotify) (0.17.1)\n",
      "Requirement already satisfied: nbclassic>=0.4.7 in /Users/mariya/anaconda3/envs/music_genre/lib/python3.8/site-packages (from notebook->jupyter->jupyternotify) (1.0.0)\n",
      "Requirement already satisfied: qtpy>=2.4.0 in /Users/mariya/anaconda3/envs/music_genre/lib/python3.8/site-packages (from qtconsole->jupyter->jupyternotify) (2.4.1)\n"
     ]
    },
    {
     "name": "stdout",
     "output_type": "stream",
     "text": [
      "Requirement already satisfied: executing in /Users/mariya/anaconda3/envs/music_genre/lib/python3.8/site-packages (from stack-data->ipython->jupyternotify) (1.2.0)\n",
      "Requirement already satisfied: asttokens in /Users/mariya/anaconda3/envs/music_genre/lib/python3.8/site-packages (from stack-data->ipython->jupyternotify) (2.4.1)\n",
      "Requirement already satisfied: pure-eval in /Users/mariya/anaconda3/envs/music_genre/lib/python3.8/site-packages (from stack-data->ipython->jupyternotify) (0.2.2)\n",
      "Requirement already satisfied: six>=1.9.0 in /Users/mariya/anaconda3/envs/music_genre/lib/python3.8/site-packages (from bleach!=5.0.0->nbconvert->jupyter->jupyternotify) (1.16.0)\n",
      "Requirement already satisfied: webencodings in /Users/mariya/anaconda3/envs/music_genre/lib/python3.8/site-packages (from bleach!=5.0.0->nbconvert->jupyter->jupyternotify) (0.5.1)\n",
      "Requirement already satisfied: zipp>=0.5 in /Users/mariya/anaconda3/envs/music_genre/lib/python3.8/site-packages (from importlib-metadata>=3.6->nbconvert->jupyter->jupyternotify) (3.15.0)\n",
      "Requirement already satisfied: entrypoints in /Users/mariya/anaconda3/envs/music_genre/lib/python3.8/site-packages (from jupyter-client>=6.1.12->ipykernel->jupyter->jupyternotify) (0.4)\n",
      "Requirement already satisfied: python-dateutil>=2.8.2 in /Users/mariya/anaconda3/envs/music_genre/lib/python3.8/site-packages (from jupyter-client>=6.1.12->ipykernel->jupyter->jupyternotify) (2.8.2)\n",
      "Requirement already satisfied: platformdirs>=2.5 in /Users/mariya/anaconda3/envs/music_genre/lib/python3.8/site-packages (from jupyter-core!=5.0.*,>=4.12->jupyter-console->jupyter->jupyternotify) (3.10.0)\n",
      "Requirement already satisfied: jupyter-server>=1.8 in /Users/mariya/anaconda3/envs/music_genre/lib/python3.8/site-packages (from nbclassic>=0.4.7->notebook->jupyter->jupyternotify) (1.23.4)\n",
      "Requirement already satisfied: notebook-shim>=0.2.3 in /Users/mariya/anaconda3/envs/music_genre/lib/python3.8/site-packages (from nbclassic>=0.4.7->notebook->jupyter->jupyternotify) (0.2.3)\n",
      "Requirement already satisfied: fastjsonschema in /Users/mariya/anaconda3/envs/music_genre/lib/python3.8/site-packages (from nbformat>=5.7->nbconvert->jupyter->jupyternotify) (2.19.1)\n",
      "Requirement already satisfied: jsonschema>=2.6 in /Users/mariya/anaconda3/envs/music_genre/lib/python3.8/site-packages (from nbformat>=5.7->nbconvert->jupyter->jupyternotify) (4.17.3)\n",
      "Requirement already satisfied: argon2-cffi-bindings in /Users/mariya/anaconda3/envs/music_genre/lib/python3.8/site-packages (from argon2-cffi->notebook->jupyter->jupyternotify) (21.2.0)\n",
      "Requirement already satisfied: soupsieve>1.2 in /Users/mariya/anaconda3/envs/music_genre/lib/python3.8/site-packages (from beautifulsoup4->nbconvert->jupyter->jupyternotify) (2.3.2.post1)\n",
      "Requirement already satisfied: attrs>=17.4.0 in /Users/mariya/anaconda3/envs/music_genre/lib/python3.8/site-packages (from jsonschema>=2.6->nbformat>=5.7->nbconvert->jupyter->jupyternotify) (23.2.0)\n",
      "Requirement already satisfied: importlib-resources>=1.4.0 in /Users/mariya/anaconda3/envs/music_genre/lib/python3.8/site-packages (from jsonschema>=2.6->nbformat>=5.7->nbconvert->jupyter->jupyternotify) (6.0.0)\n",
      "Requirement already satisfied: pkgutil-resolve-name>=1.3.10 in /Users/mariya/anaconda3/envs/music_genre/lib/python3.8/site-packages (from jsonschema>=2.6->nbformat>=5.7->nbconvert->jupyter->jupyternotify) (1.3.10)\n",
      "Requirement already satisfied: pyrsistent!=0.17.0,!=0.17.1,!=0.17.2,>=0.14.0 in /Users/mariya/anaconda3/envs/music_genre/lib/python3.8/site-packages (from jsonschema>=2.6->nbformat>=5.7->nbconvert->jupyter->jupyternotify) (0.20.0)\n",
      "Requirement already satisfied: anyio<4,>=3.1.0 in /Users/mariya/anaconda3/envs/music_genre/lib/python3.8/site-packages (from jupyter-server>=1.8->nbclassic>=0.4.7->notebook->jupyter->jupyternotify) (3.7.1)\n",
      "Requirement already satisfied: websocket-client in /Users/mariya/anaconda3/envs/music_genre/lib/python3.8/site-packages (from jupyter-server>=1.8->nbclassic>=0.4.7->notebook->jupyter->jupyternotify) (1.6.1)\n",
      "Requirement already satisfied: cffi>=1.0.1 in /Users/mariya/anaconda3/envs/music_genre/lib/python3.8/site-packages (from argon2-cffi-bindings->argon2-cffi->notebook->jupyter->jupyternotify) (1.16.0)\n",
      "Requirement already satisfied: idna>=2.8 in /Users/mariya/anaconda3/envs/music_genre/lib/python3.8/site-packages (from anyio<4,>=3.1.0->jupyter-server>=1.8->nbclassic>=0.4.7->notebook->jupyter->jupyternotify) (3.6)\n",
      "Requirement already satisfied: sniffio>=1.1 in /Users/mariya/anaconda3/envs/music_genre/lib/python3.8/site-packages (from anyio<4,>=3.1.0->jupyter-server>=1.8->nbclassic>=0.4.7->notebook->jupyter->jupyternotify) (1.3.0)\n",
      "Requirement already satisfied: exceptiongroup in /Users/mariya/anaconda3/envs/music_genre/lib/python3.8/site-packages (from anyio<4,>=3.1.0->jupyter-server>=1.8->nbclassic>=0.4.7->notebook->jupyter->jupyternotify) (1.2.0)\n",
      "Requirement already satisfied: pycparser in /Users/mariya/anaconda3/envs/music_genre/lib/python3.8/site-packages (from cffi>=1.0.1->argon2-cffi-bindings->argon2-cffi->notebook->jupyter->jupyternotify) (2.21)\n"
     ]
    }
   ],
   "source": [
    "!pip install jupyternotify"
   ]
  },
  {
   "cell_type": "code",
   "execution_count": 3,
   "metadata": {},
   "outputs": [
    {
     "data": {
      "application/javascript": [
       "if (!(\"Notification\" in window)) {\n",
       "    alert(\"This browser does not support desktop notifications, so the %%notify magic will not work.\");\n",
       "} else if (Notification.permission !== 'granted' && Notification.permission !== 'denied') {\n",
       "    Notification.requestPermission(function (permission) {\n",
       "        if(!('permission' in Notification)) {\n",
       "            Notification.permission = permission;\n",
       "        }\n",
       "    })\n",
       "}\n"
      ],
      "text/plain": [
       "<IPython.core.display.Javascript object>"
      ]
     },
     "metadata": {},
     "output_type": "display_data"
    }
   ],
   "source": [
    "%load_ext jupyternotify"
   ]
  },
  {
   "cell_type": "code",
   "execution_count": 4,
   "metadata": {
    "scrolled": true
   },
   "outputs": [],
   "source": [
    "import pandas as pd\n",
    "import numpy as np\n",
    "import faiss\n",
    "\n",
    "# Графики\n",
    "import seaborn as sns\n",
    "import matplotlib.pyplot as plt\n",
    "\n",
    "# Обработка предупреждений\n",
    "import warnings\n",
    "\n",
    "# Подготовка данных\n",
    "from sklearn.model_selection import train_test_split\n",
    "\n",
    "# Время\n",
    "from time import time\n"
   ]
  },
  {
   "cell_type": "code",
   "execution_count": 5,
   "metadata": {},
   "outputs": [
    {
     "data": {
      "text/plain": [
       "'1.7.4'"
      ]
     },
     "execution_count": 5,
     "metadata": {},
     "output_type": "execute_result"
    }
   ],
   "source": [
    "faiss.__version__"
   ]
  },
  {
   "cell_type": "markdown",
   "metadata": {},
   "source": [
    "### Сеттинги"
   ]
  },
  {
   "cell_type": "code",
   "execution_count": 6,
   "metadata": {},
   "outputs": [],
   "source": [
    "# Отображение датафреймов\n",
    "pd.set_option('display.max_columns', None)"
   ]
  },
  {
   "cell_type": "code",
   "execution_count": 7,
   "metadata": {},
   "outputs": [],
   "source": [
    "# Игнор предупреждений\n",
    "warnings.filterwarnings('ignore')"
   ]
  },
  {
   "cell_type": "code",
   "execution_count": 8,
   "metadata": {},
   "outputs": [
    {
     "data": {
      "text/plain": [
       "<Figure size 4000x1000 with 0 Axes>"
      ]
     },
     "execution_count": 8,
     "metadata": {},
     "output_type": "execute_result"
    },
    {
     "data": {
      "text/plain": [
       "<Figure size 4000x1000 with 0 Axes>"
      ]
     },
     "metadata": {},
     "output_type": "display_data"
    }
   ],
   "source": [
    "# Графики\n",
    "plt.style.use('fivethirtyeight')\n",
    "plt.figure(figsize=(40,10))"
   ]
  },
  {
   "cell_type": "markdown",
   "metadata": {},
   "source": [
    "### Константы"
   ]
  },
  {
   "cell_type": "code",
   "execution_count": 9,
   "metadata": {},
   "outputs": [],
   "source": [
    "STATE = 111"
   ]
  },
  {
   "cell_type": "markdown",
   "metadata": {},
   "source": [
    "## Подготовка данных"
   ]
  },
  {
   "cell_type": "markdown",
   "metadata": {},
   "source": [
    "### Обзор данных"
   ]
  },
  {
   "cell_type": "code",
   "execution_count": 10,
   "metadata": {},
   "outputs": [],
   "source": [
    "data_train = pd.read_csv('train.csv', index_col=0)\n",
    "data_base = pd.read_csv('base.csv', index_col=0)\n",
    "data_val = pd.read_csv('validation.csv', index_col=0)\n",
    "data_val_ans = pd.read_csv('validation_answer.csv', index_col=0)"
   ]
  },
  {
   "cell_type": "code",
   "execution_count": 11,
   "metadata": {},
   "outputs": [
    {
     "data": {
      "text/html": [
       "<div>\n",
       "<style scoped>\n",
       "    .dataframe tbody tr th:only-of-type {\n",
       "        vertical-align: middle;\n",
       "    }\n",
       "\n",
       "    .dataframe tbody tr th {\n",
       "        vertical-align: top;\n",
       "    }\n",
       "\n",
       "    .dataframe thead th {\n",
       "        text-align: right;\n",
       "    }\n",
       "</style>\n",
       "<table border=\"1\" class=\"dataframe\">\n",
       "  <thead>\n",
       "    <tr style=\"text-align: right;\">\n",
       "      <th></th>\n",
       "      <th>0</th>\n",
       "      <th>1</th>\n",
       "      <th>2</th>\n",
       "      <th>3</th>\n",
       "      <th>4</th>\n",
       "      <th>5</th>\n",
       "      <th>6</th>\n",
       "      <th>7</th>\n",
       "      <th>8</th>\n",
       "      <th>9</th>\n",
       "      <th>10</th>\n",
       "      <th>11</th>\n",
       "      <th>12</th>\n",
       "      <th>13</th>\n",
       "      <th>14</th>\n",
       "      <th>15</th>\n",
       "      <th>16</th>\n",
       "      <th>17</th>\n",
       "      <th>18</th>\n",
       "      <th>19</th>\n",
       "      <th>20</th>\n",
       "      <th>21</th>\n",
       "      <th>22</th>\n",
       "      <th>23</th>\n",
       "      <th>24</th>\n",
       "      <th>25</th>\n",
       "      <th>26</th>\n",
       "      <th>27</th>\n",
       "      <th>28</th>\n",
       "      <th>29</th>\n",
       "      <th>30</th>\n",
       "      <th>31</th>\n",
       "      <th>32</th>\n",
       "      <th>33</th>\n",
       "      <th>34</th>\n",
       "      <th>35</th>\n",
       "      <th>36</th>\n",
       "      <th>37</th>\n",
       "      <th>38</th>\n",
       "      <th>39</th>\n",
       "      <th>40</th>\n",
       "      <th>41</th>\n",
       "      <th>42</th>\n",
       "      <th>43</th>\n",
       "      <th>44</th>\n",
       "      <th>45</th>\n",
       "      <th>46</th>\n",
       "      <th>47</th>\n",
       "      <th>48</th>\n",
       "      <th>49</th>\n",
       "      <th>50</th>\n",
       "      <th>51</th>\n",
       "      <th>52</th>\n",
       "      <th>53</th>\n",
       "      <th>54</th>\n",
       "      <th>55</th>\n",
       "      <th>56</th>\n",
       "      <th>57</th>\n",
       "      <th>58</th>\n",
       "      <th>59</th>\n",
       "      <th>60</th>\n",
       "      <th>61</th>\n",
       "      <th>62</th>\n",
       "      <th>63</th>\n",
       "      <th>64</th>\n",
       "      <th>65</th>\n",
       "      <th>66</th>\n",
       "      <th>67</th>\n",
       "      <th>68</th>\n",
       "      <th>69</th>\n",
       "      <th>70</th>\n",
       "      <th>71</th>\n",
       "    </tr>\n",
       "    <tr>\n",
       "      <th>Id</th>\n",
       "      <th></th>\n",
       "      <th></th>\n",
       "      <th></th>\n",
       "      <th></th>\n",
       "      <th></th>\n",
       "      <th></th>\n",
       "      <th></th>\n",
       "      <th></th>\n",
       "      <th></th>\n",
       "      <th></th>\n",
       "      <th></th>\n",
       "      <th></th>\n",
       "      <th></th>\n",
       "      <th></th>\n",
       "      <th></th>\n",
       "      <th></th>\n",
       "      <th></th>\n",
       "      <th></th>\n",
       "      <th></th>\n",
       "      <th></th>\n",
       "      <th></th>\n",
       "      <th></th>\n",
       "      <th></th>\n",
       "      <th></th>\n",
       "      <th></th>\n",
       "      <th></th>\n",
       "      <th></th>\n",
       "      <th></th>\n",
       "      <th></th>\n",
       "      <th></th>\n",
       "      <th></th>\n",
       "      <th></th>\n",
       "      <th></th>\n",
       "      <th></th>\n",
       "      <th></th>\n",
       "      <th></th>\n",
       "      <th></th>\n",
       "      <th></th>\n",
       "      <th></th>\n",
       "      <th></th>\n",
       "      <th></th>\n",
       "      <th></th>\n",
       "      <th></th>\n",
       "      <th></th>\n",
       "      <th></th>\n",
       "      <th></th>\n",
       "      <th></th>\n",
       "      <th></th>\n",
       "      <th></th>\n",
       "      <th></th>\n",
       "      <th></th>\n",
       "      <th></th>\n",
       "      <th></th>\n",
       "      <th></th>\n",
       "      <th></th>\n",
       "      <th></th>\n",
       "      <th></th>\n",
       "      <th></th>\n",
       "      <th></th>\n",
       "      <th></th>\n",
       "      <th></th>\n",
       "      <th></th>\n",
       "      <th></th>\n",
       "      <th></th>\n",
       "      <th></th>\n",
       "      <th></th>\n",
       "      <th></th>\n",
       "      <th></th>\n",
       "      <th></th>\n",
       "      <th></th>\n",
       "      <th></th>\n",
       "      <th></th>\n",
       "    </tr>\n",
       "  </thead>\n",
       "  <tbody>\n",
       "    <tr>\n",
       "      <th>0-base</th>\n",
       "      <td>-115.083890</td>\n",
       "      <td>11.152912</td>\n",
       "      <td>-64.426760</td>\n",
       "      <td>-118.88089</td>\n",
       "      <td>216.482440</td>\n",
       "      <td>-104.698060</td>\n",
       "      <td>-469.070588</td>\n",
       "      <td>44.348083</td>\n",
       "      <td>120.915344</td>\n",
       "      <td>181.449700</td>\n",
       "      <td>-124.06151</td>\n",
       "      <td>-32.458237</td>\n",
       "      <td>-57.420560</td>\n",
       "      <td>36.207405</td>\n",
       "      <td>182.71677</td>\n",
       "      <td>-28.071688</td>\n",
       "      <td>-5.209374</td>\n",
       "      <td>-1.732182</td>\n",
       "      <td>-91.09186</td>\n",
       "      <td>-79.46667</td>\n",
       "      <td>-103.939090</td>\n",
       "      <td>1507.231274</td>\n",
       "      <td>-32.591667</td>\n",
       "      <td>51.414360</td>\n",
       "      <td>-51.905360</td>\n",
       "      <td>813.770071</td>\n",
       "      <td>-41.556538</td>\n",
       "      <td>8.419807</td>\n",
       "      <td>-129.976640</td>\n",
       "      <td>148.76503</td>\n",
       "      <td>-10.069234</td>\n",
       "      <td>-143.00504</td>\n",
       "      <td>79.848694</td>\n",
       "      <td>-537.183707</td>\n",
       "      <td>2.773180</td>\n",
       "      <td>111.518680</td>\n",
       "      <td>4.257666</td>\n",
       "      <td>-153.34058</td>\n",
       "      <td>-123.62608</td>\n",
       "      <td>-39.707664</td>\n",
       "      <td>-12.768708</td>\n",
       "      <td>-4.170106</td>\n",
       "      <td>-152.967130</td>\n",
       "      <td>75.911520</td>\n",
       "      <td>-57.470088</td>\n",
       "      <td>17.266476</td>\n",
       "      <td>-98.871155</td>\n",
       "      <td>-138.06754</td>\n",
       "      <td>91.000380</td>\n",
       "      <td>-170.702000</td>\n",
       "      <td>-50.020390</td>\n",
       "      <td>59.794296</td>\n",
       "      <td>78.106380</td>\n",
       "      <td>-89.375725</td>\n",
       "      <td>89.412100</td>\n",
       "      <td>79.812180</td>\n",
       "      <td>-129.51361</td>\n",
       "      <td>-44.659496</td>\n",
       "      <td>-80.44221</td>\n",
       "      <td>5.149714</td>\n",
       "      <td>-64.518950</td>\n",
       "      <td>-138.77763</td>\n",
       "      <td>-42.808693</td>\n",
       "      <td>38.800827</td>\n",
       "      <td>-151.76218</td>\n",
       "      <td>-74.389090</td>\n",
       "      <td>63.66634</td>\n",
       "      <td>-4.703861</td>\n",
       "      <td>92.933610</td>\n",
       "      <td>115.269190</td>\n",
       "      <td>-112.756640</td>\n",
       "      <td>-60.830353</td>\n",
       "    </tr>\n",
       "    <tr>\n",
       "      <th>1-base</th>\n",
       "      <td>-34.562202</td>\n",
       "      <td>13.332763</td>\n",
       "      <td>-69.787610</td>\n",
       "      <td>-166.53348</td>\n",
       "      <td>57.680607</td>\n",
       "      <td>-86.098370</td>\n",
       "      <td>-85.076666</td>\n",
       "      <td>-35.637436</td>\n",
       "      <td>119.718636</td>\n",
       "      <td>195.234190</td>\n",
       "      <td>-141.30435</td>\n",
       "      <td>-126.768900</td>\n",
       "      <td>-68.853530</td>\n",
       "      <td>8.314717</td>\n",
       "      <td>143.08174</td>\n",
       "      <td>8.778257</td>\n",
       "      <td>15.157185</td>\n",
       "      <td>48.246360</td>\n",
       "      <td>-244.95486</td>\n",
       "      <td>-80.27942</td>\n",
       "      <td>-81.788040</td>\n",
       "      <td>429.880035</td>\n",
       "      <td>-5.937690</td>\n",
       "      <td>70.142654</td>\n",
       "      <td>66.576840</td>\n",
       "      <td>813.770071</td>\n",
       "      <td>3.214371</td>\n",
       "      <td>17.164303</td>\n",
       "      <td>-39.418385</td>\n",
       "      <td>148.15588</td>\n",
       "      <td>-7.579590</td>\n",
       "      <td>-174.36995</td>\n",
       "      <td>101.224630</td>\n",
       "      <td>-303.939233</td>\n",
       "      <td>16.914630</td>\n",
       "      <td>53.394676</td>\n",
       "      <td>33.451824</td>\n",
       "      <td>-148.55263</td>\n",
       "      <td>-110.34017</td>\n",
       "      <td>-33.277206</td>\n",
       "      <td>-8.688703</td>\n",
       "      <td>13.650302</td>\n",
       "      <td>-91.228745</td>\n",
       "      <td>38.445015</td>\n",
       "      <td>-31.948470</td>\n",
       "      <td>62.484820</td>\n",
       "      <td>-166.473360</td>\n",
       "      <td>-189.01042</td>\n",
       "      <td>-56.731556</td>\n",
       "      <td>-30.027319</td>\n",
       "      <td>59.171060</td>\n",
       "      <td>-56.711540</td>\n",
       "      <td>63.542606</td>\n",
       "      <td>-121.319170</td>\n",
       "      <td>97.426056</td>\n",
       "      <td>74.832840</td>\n",
       "      <td>-138.77705</td>\n",
       "      <td>58.887608</td>\n",
       "      <td>-71.59534</td>\n",
       "      <td>-251.952358</td>\n",
       "      <td>11.392853</td>\n",
       "      <td>-148.57166</td>\n",
       "      <td>-117.767525</td>\n",
       "      <td>41.100000</td>\n",
       "      <td>-157.82940</td>\n",
       "      <td>-94.446806</td>\n",
       "      <td>68.20211</td>\n",
       "      <td>24.346846</td>\n",
       "      <td>179.937930</td>\n",
       "      <td>116.834000</td>\n",
       "      <td>-84.888941</td>\n",
       "      <td>-59.524610</td>\n",
       "    </tr>\n",
       "    <tr>\n",
       "      <th>2-base</th>\n",
       "      <td>-54.233746</td>\n",
       "      <td>6.379371</td>\n",
       "      <td>-29.210136</td>\n",
       "      <td>-133.41383</td>\n",
       "      <td>150.895830</td>\n",
       "      <td>-99.435326</td>\n",
       "      <td>52.554795</td>\n",
       "      <td>62.381706</td>\n",
       "      <td>128.951450</td>\n",
       "      <td>164.381470</td>\n",
       "      <td>-140.82245</td>\n",
       "      <td>-22.486748</td>\n",
       "      <td>-51.666990</td>\n",
       "      <td>2.521726</td>\n",
       "      <td>140.58545</td>\n",
       "      <td>-22.039230</td>\n",
       "      <td>-7.128634</td>\n",
       "      <td>-5.184787</td>\n",
       "      <td>-111.71212</td>\n",
       "      <td>-79.02927</td>\n",
       "      <td>-82.452576</td>\n",
       "      <td>1507.231274</td>\n",
       "      <td>-0.421011</td>\n",
       "      <td>84.108010</td>\n",
       "      <td>63.344510</td>\n",
       "      <td>813.770071</td>\n",
       "      <td>-105.211050</td>\n",
       "      <td>18.844700</td>\n",
       "      <td>-94.789474</td>\n",
       "      <td>151.38771</td>\n",
       "      <td>-21.483440</td>\n",
       "      <td>-144.84537</td>\n",
       "      <td>48.502934</td>\n",
       "      <td>-780.449185</td>\n",
       "      <td>64.767310</td>\n",
       "      <td>79.781555</td>\n",
       "      <td>-13.390142</td>\n",
       "      <td>-150.06166</td>\n",
       "      <td>-118.75855</td>\n",
       "      <td>-40.896286</td>\n",
       "      <td>-15.222620</td>\n",
       "      <td>-1.860338</td>\n",
       "      <td>-93.820656</td>\n",
       "      <td>98.749070</td>\n",
       "      <td>-46.745782</td>\n",
       "      <td>65.927475</td>\n",
       "      <td>-10.286392</td>\n",
       "      <td>-125.32137</td>\n",
       "      <td>21.048609</td>\n",
       "      <td>-22.637775</td>\n",
       "      <td>68.915985</td>\n",
       "      <td>-54.902260</td>\n",
       "      <td>66.335470</td>\n",
       "      <td>-142.927920</td>\n",
       "      <td>83.030980</td>\n",
       "      <td>69.979630</td>\n",
       "      <td>-123.73389</td>\n",
       "      <td>65.320880</td>\n",
       "      <td>-114.03718</td>\n",
       "      <td>-529.396956</td>\n",
       "      <td>-101.581375</td>\n",
       "      <td>-134.65822</td>\n",
       "      <td>-76.397800</td>\n",
       "      <td>46.011803</td>\n",
       "      <td>-207.14442</td>\n",
       "      <td>127.325570</td>\n",
       "      <td>65.56618</td>\n",
       "      <td>66.325680</td>\n",
       "      <td>81.073490</td>\n",
       "      <td>116.594154</td>\n",
       "      <td>-1074.464888</td>\n",
       "      <td>-32.527206</td>\n",
       "    </tr>\n",
       "    <tr>\n",
       "      <th>3-base</th>\n",
       "      <td>-87.520130</td>\n",
       "      <td>4.037884</td>\n",
       "      <td>-87.803030</td>\n",
       "      <td>-185.06763</td>\n",
       "      <td>76.369540</td>\n",
       "      <td>-58.985165</td>\n",
       "      <td>-383.182845</td>\n",
       "      <td>-33.611237</td>\n",
       "      <td>122.031910</td>\n",
       "      <td>136.233580</td>\n",
       "      <td>-108.47044</td>\n",
       "      <td>-104.537780</td>\n",
       "      <td>-82.388490</td>\n",
       "      <td>-79.986740</td>\n",
       "      <td>113.59631</td>\n",
       "      <td>-38.995880</td>\n",
       "      <td>-4.787360</td>\n",
       "      <td>8.327808</td>\n",
       "      <td>-124.85576</td>\n",
       "      <td>-79.10902</td>\n",
       "      <td>-107.943275</td>\n",
       "      <td>1479.170530</td>\n",
       "      <td>-125.271614</td>\n",
       "      <td>24.656485</td>\n",
       "      <td>-16.921055</td>\n",
       "      <td>813.770071</td>\n",
       "      <td>-182.680270</td>\n",
       "      <td>14.715704</td>\n",
       "      <td>-62.932700</td>\n",
       "      <td>151.20198</td>\n",
       "      <td>10.613454</td>\n",
       "      <td>-134.93434</td>\n",
       "      <td>58.777730</td>\n",
       "      <td>-529.295053</td>\n",
       "      <td>43.665924</td>\n",
       "      <td>92.806305</td>\n",
       "      <td>-38.936657</td>\n",
       "      <td>-145.04530</td>\n",
       "      <td>-124.29577</td>\n",
       "      <td>-36.876730</td>\n",
       "      <td>-17.742870</td>\n",
       "      <td>10.536242</td>\n",
       "      <td>-124.584150</td>\n",
       "      <td>121.914150</td>\n",
       "      <td>-17.321358</td>\n",
       "      <td>105.217240</td>\n",
       "      <td>-94.379650</td>\n",
       "      <td>-63.76927</td>\n",
       "      <td>29.217487</td>\n",
       "      <td>-26.423973</td>\n",
       "      <td>5.869829</td>\n",
       "      <td>64.061550</td>\n",
       "      <td>63.513280</td>\n",
       "      <td>-112.258100</td>\n",
       "      <td>80.926590</td>\n",
       "      <td>72.636100</td>\n",
       "      <td>-137.31432</td>\n",
       "      <td>7.912551</td>\n",
       "      <td>-62.18892</td>\n",
       "      <td>-540.321044</td>\n",
       "      <td>-89.588715</td>\n",
       "      <td>-149.32669</td>\n",
       "      <td>-70.647940</td>\n",
       "      <td>-6.358921</td>\n",
       "      <td>-147.20105</td>\n",
       "      <td>-37.692750</td>\n",
       "      <td>66.20289</td>\n",
       "      <td>-20.566910</td>\n",
       "      <td>137.206940</td>\n",
       "      <td>117.474100</td>\n",
       "      <td>-1074.464888</td>\n",
       "      <td>-72.915490</td>\n",
       "    </tr>\n",
       "    <tr>\n",
       "      <th>4-base</th>\n",
       "      <td>-72.743850</td>\n",
       "      <td>6.522049</td>\n",
       "      <td>43.671265</td>\n",
       "      <td>-140.60803</td>\n",
       "      <td>5.820023</td>\n",
       "      <td>-112.074080</td>\n",
       "      <td>-397.711282</td>\n",
       "      <td>45.182500</td>\n",
       "      <td>122.167180</td>\n",
       "      <td>112.119064</td>\n",
       "      <td>-110.34245</td>\n",
       "      <td>-38.982060</td>\n",
       "      <td>-50.228867</td>\n",
       "      <td>-26.690920</td>\n",
       "      <td>135.27290</td>\n",
       "      <td>-7.510103</td>\n",
       "      <td>8.924209</td>\n",
       "      <td>111.576950</td>\n",
       "      <td>-130.83319</td>\n",
       "      <td>-79.31585</td>\n",
       "      <td>-57.843952</td>\n",
       "      <td>1262.919738</td>\n",
       "      <td>19.225910</td>\n",
       "      <td>59.811813</td>\n",
       "      <td>76.159670</td>\n",
       "      <td>312.698903</td>\n",
       "      <td>-76.726974</td>\n",
       "      <td>21.299923</td>\n",
       "      <td>-24.069107</td>\n",
       "      <td>167.38553</td>\n",
       "      <td>-44.059470</td>\n",
       "      <td>-148.13185</td>\n",
       "      <td>98.042610</td>\n",
       "      <td>-657.524388</td>\n",
       "      <td>96.363170</td>\n",
       "      <td>71.061520</td>\n",
       "      <td>-36.563557</td>\n",
       "      <td>-135.37244</td>\n",
       "      <td>-123.70898</td>\n",
       "      <td>-44.739437</td>\n",
       "      <td>-10.855220</td>\n",
       "      <td>8.354800</td>\n",
       "      <td>-168.328860</td>\n",
       "      <td>215.928070</td>\n",
       "      <td>-32.975979</td>\n",
       "      <td>66.864880</td>\n",
       "      <td>30.838630</td>\n",
       "      <td>-211.54037</td>\n",
       "      <td>57.695343</td>\n",
       "      <td>-67.822630</td>\n",
       "      <td>-29.389133</td>\n",
       "      <td>-34.123740</td>\n",
       "      <td>54.710550</td>\n",
       "      <td>-26.032013</td>\n",
       "      <td>90.673910</td>\n",
       "      <td>58.086998</td>\n",
       "      <td>-134.78206</td>\n",
       "      <td>77.620390</td>\n",
       "      <td>-176.61588</td>\n",
       "      <td>-529.762412</td>\n",
       "      <td>-100.565520</td>\n",
       "      <td>-125.31733</td>\n",
       "      <td>-57.199104</td>\n",
       "      <td>56.642403</td>\n",
       "      <td>-159.35184</td>\n",
       "      <td>85.944724</td>\n",
       "      <td>66.76632</td>\n",
       "      <td>-2.505783</td>\n",
       "      <td>65.315285</td>\n",
       "      <td>135.051590</td>\n",
       "      <td>-1074.464888</td>\n",
       "      <td>0.319401</td>\n",
       "    </tr>\n",
       "  </tbody>\n",
       "</table>\n",
       "</div>"
      ],
      "text/plain": [
       "                 0          1          2          3           4           5  \\\n",
       "Id                                                                            \n",
       "0-base -115.083890  11.152912 -64.426760 -118.88089  216.482440 -104.698060   \n",
       "1-base  -34.562202  13.332763 -69.787610 -166.53348   57.680607  -86.098370   \n",
       "2-base  -54.233746   6.379371 -29.210136 -133.41383  150.895830  -99.435326   \n",
       "3-base  -87.520130   4.037884 -87.803030 -185.06763   76.369540  -58.985165   \n",
       "4-base  -72.743850   6.522049  43.671265 -140.60803    5.820023 -112.074080   \n",
       "\n",
       "                 6          7           8           9         10          11  \\\n",
       "Id                                                                             \n",
       "0-base -469.070588  44.348083  120.915344  181.449700 -124.06151  -32.458237   \n",
       "1-base  -85.076666 -35.637436  119.718636  195.234190 -141.30435 -126.768900   \n",
       "2-base   52.554795  62.381706  128.951450  164.381470 -140.82245  -22.486748   \n",
       "3-base -383.182845 -33.611237  122.031910  136.233580 -108.47044 -104.537780   \n",
       "4-base -397.711282  45.182500  122.167180  112.119064 -110.34245  -38.982060   \n",
       "\n",
       "               12         13         14         15         16          17  \\\n",
       "Id                                                                          \n",
       "0-base -57.420560  36.207405  182.71677 -28.071688  -5.209374   -1.732182   \n",
       "1-base -68.853530   8.314717  143.08174   8.778257  15.157185   48.246360   \n",
       "2-base -51.666990   2.521726  140.58545 -22.039230  -7.128634   -5.184787   \n",
       "3-base -82.388490 -79.986740  113.59631 -38.995880  -4.787360    8.327808   \n",
       "4-base -50.228867 -26.690920  135.27290  -7.510103   8.924209  111.576950   \n",
       "\n",
       "               18        19          20           21          22         23  \\\n",
       "Id                                                                            \n",
       "0-base  -91.09186 -79.46667 -103.939090  1507.231274  -32.591667  51.414360   \n",
       "1-base -244.95486 -80.27942  -81.788040   429.880035   -5.937690  70.142654   \n",
       "2-base -111.71212 -79.02927  -82.452576  1507.231274   -0.421011  84.108010   \n",
       "3-base -124.85576 -79.10902 -107.943275  1479.170530 -125.271614  24.656485   \n",
       "4-base -130.83319 -79.31585  -57.843952  1262.919738   19.225910  59.811813   \n",
       "\n",
       "               24          25          26         27          28         29  \\\n",
       "Id                                                                            \n",
       "0-base -51.905360  813.770071  -41.556538   8.419807 -129.976640  148.76503   \n",
       "1-base  66.576840  813.770071    3.214371  17.164303  -39.418385  148.15588   \n",
       "2-base  63.344510  813.770071 -105.211050  18.844700  -94.789474  151.38771   \n",
       "3-base -16.921055  813.770071 -182.680270  14.715704  -62.932700  151.20198   \n",
       "4-base  76.159670  312.698903  -76.726974  21.299923  -24.069107  167.38553   \n",
       "\n",
       "               30         31          32          33         34          35  \\\n",
       "Id                                                                            \n",
       "0-base -10.069234 -143.00504   79.848694 -537.183707   2.773180  111.518680   \n",
       "1-base  -7.579590 -174.36995  101.224630 -303.939233  16.914630   53.394676   \n",
       "2-base -21.483440 -144.84537   48.502934 -780.449185  64.767310   79.781555   \n",
       "3-base  10.613454 -134.93434   58.777730 -529.295053  43.665924   92.806305   \n",
       "4-base -44.059470 -148.13185   98.042610 -657.524388  96.363170   71.061520   \n",
       "\n",
       "               36         37         38         39         40         41  \\\n",
       "Id                                                                         \n",
       "0-base   4.257666 -153.34058 -123.62608 -39.707664 -12.768708  -4.170106   \n",
       "1-base  33.451824 -148.55263 -110.34017 -33.277206  -8.688703  13.650302   \n",
       "2-base -13.390142 -150.06166 -118.75855 -40.896286 -15.222620  -1.860338   \n",
       "3-base -38.936657 -145.04530 -124.29577 -36.876730 -17.742870  10.536242   \n",
       "4-base -36.563557 -135.37244 -123.70898 -44.739437 -10.855220   8.354800   \n",
       "\n",
       "                42          43         44          45          46         47  \\\n",
       "Id                                                                             \n",
       "0-base -152.967130   75.911520 -57.470088   17.266476  -98.871155 -138.06754   \n",
       "1-base  -91.228745   38.445015 -31.948470   62.484820 -166.473360 -189.01042   \n",
       "2-base  -93.820656   98.749070 -46.745782   65.927475  -10.286392 -125.32137   \n",
       "3-base -124.584150  121.914150 -17.321358  105.217240  -94.379650  -63.76927   \n",
       "4-base -168.328860  215.928070 -32.975979   66.864880   30.838630 -211.54037   \n",
       "\n",
       "               48          49         50         51         52          53  \\\n",
       "Id                                                                           \n",
       "0-base  91.000380 -170.702000 -50.020390  59.794296  78.106380  -89.375725   \n",
       "1-base -56.731556  -30.027319  59.171060 -56.711540  63.542606 -121.319170   \n",
       "2-base  21.048609  -22.637775  68.915985 -54.902260  66.335470 -142.927920   \n",
       "3-base  29.217487  -26.423973   5.869829  64.061550  63.513280 -112.258100   \n",
       "4-base  57.695343  -67.822630 -29.389133 -34.123740  54.710550  -26.032013   \n",
       "\n",
       "               54         55         56         57         58          59  \\\n",
       "Id                                                                          \n",
       "0-base  89.412100  79.812180 -129.51361 -44.659496  -80.44221    5.149714   \n",
       "1-base  97.426056  74.832840 -138.77705  58.887608  -71.59534 -251.952358   \n",
       "2-base  83.030980  69.979630 -123.73389  65.320880 -114.03718 -529.396956   \n",
       "3-base  80.926590  72.636100 -137.31432   7.912551  -62.18892 -540.321044   \n",
       "4-base  90.673910  58.086998 -134.78206  77.620390 -176.61588 -529.762412   \n",
       "\n",
       "                60         61          62         63         64          65  \\\n",
       "Id                                                                            \n",
       "0-base  -64.518950 -138.77763  -42.808693  38.800827 -151.76218  -74.389090   \n",
       "1-base   11.392853 -148.57166 -117.767525  41.100000 -157.82940  -94.446806   \n",
       "2-base -101.581375 -134.65822  -76.397800  46.011803 -207.14442  127.325570   \n",
       "3-base  -89.588715 -149.32669  -70.647940  -6.358921 -147.20105  -37.692750   \n",
       "4-base -100.565520 -125.31733  -57.199104  56.642403 -159.35184   85.944724   \n",
       "\n",
       "              66         67          68          69           70         71  \n",
       "Id                                                                           \n",
       "0-base  63.66634  -4.703861   92.933610  115.269190  -112.756640 -60.830353  \n",
       "1-base  68.20211  24.346846  179.937930  116.834000   -84.888941 -59.524610  \n",
       "2-base  65.56618  66.325680   81.073490  116.594154 -1074.464888 -32.527206  \n",
       "3-base  66.20289 -20.566910  137.206940  117.474100 -1074.464888 -72.915490  \n",
       "4-base  66.76632  -2.505783   65.315285  135.051590 -1074.464888   0.319401  "
      ]
     },
     "metadata": {},
     "output_type": "display_data"
    },
    {
     "name": "stdout",
     "output_type": "stream",
     "text": [
      "\n",
      "<class 'pandas.core.frame.DataFrame'>\n",
      "Index: 2918139 entries, 0-base to 4744766-base\n",
      "Data columns (total 72 columns):\n",
      " #   Column  Dtype  \n",
      "---  ------  -----  \n",
      " 0   0       float64\n",
      " 1   1       float64\n",
      " 2   2       float64\n",
      " 3   3       float64\n",
      " 4   4       float64\n",
      " 5   5       float64\n",
      " 6   6       float64\n",
      " 7   7       float64\n",
      " 8   8       float64\n",
      " 9   9       float64\n",
      " 10  10      float64\n",
      " 11  11      float64\n",
      " 12  12      float64\n",
      " 13  13      float64\n",
      " 14  14      float64\n",
      " 15  15      float64\n",
      " 16  16      float64\n",
      " 17  17      float64\n",
      " 18  18      float64\n",
      " 19  19      float64\n",
      " 20  20      float64\n",
      " 21  21      float64\n",
      " 22  22      float64\n",
      " 23  23      float64\n",
      " 24  24      float64\n",
      " 25  25      float64\n",
      " 26  26      float64\n",
      " 27  27      float64\n",
      " 28  28      float64\n",
      " 29  29      float64\n",
      " 30  30      float64\n",
      " 31  31      float64\n",
      " 32  32      float64\n",
      " 33  33      float64\n",
      " 34  34      float64\n",
      " 35  35      float64\n",
      " 36  36      float64\n",
      " 37  37      float64\n",
      " 38  38      float64\n",
      " 39  39      float64\n",
      " 40  40      float64\n",
      " 41  41      float64\n",
      " 42  42      float64\n",
      " 43  43      float64\n",
      " 44  44      float64\n",
      " 45  45      float64\n",
      " 46  46      float64\n",
      " 47  47      float64\n",
      " 48  48      float64\n",
      " 49  49      float64\n",
      " 50  50      float64\n",
      " 51  51      float64\n",
      " 52  52      float64\n",
      " 53  53      float64\n",
      " 54  54      float64\n",
      " 55  55      float64\n",
      " 56  56      float64\n",
      " 57  57      float64\n",
      " 58  58      float64\n",
      " 59  59      float64\n",
      " 60  60      float64\n",
      " 61  61      float64\n",
      " 62  62      float64\n",
      " 63  63      float64\n",
      " 64  64      float64\n",
      " 65  65      float64\n",
      " 66  66      float64\n",
      " 67  67      float64\n",
      " 68  68      float64\n",
      " 69  69      float64\n",
      " 70  70      float64\n",
      " 71  71      float64\n",
      "dtypes: float64(72)\n",
      "memory usage: 1.6+ GB\n"
     ]
    }
   ],
   "source": [
    "display(data_base.head())\n",
    "print()\n",
    "data_base.info()"
   ]
  },
  {
   "cell_type": "markdown",
   "metadata": {},
   "source": [
    "<div class=\"alert alert-secondary\" role=\"alert\">\n",
    "<b>Заметка:</b>\n",
    "<br> \n",
    "Так как base включает в себя как train-выборку, так и validation-выборку, то предварительному обзору подвергаем только base.\n",
    "    \n",
    "В данных присутствует 71 абстрактный признак с вещественными значениями и таргет - типа object.\n",
    "    \n",
    "\n",
    "</div>"
   ]
  },
  {
   "cell_type": "code",
   "execution_count": 12,
   "metadata": {},
   "outputs": [
    {
     "data": {
      "text/plain": [
       "Index(['0', '1', '2', '3', '4', '5', '6', '7', '8', '9', '10', '11', '12',\n",
       "       '13', '14', '15', '16', '17', '18', '19', '20', '21', '22', '23', '24',\n",
       "       '25', '26', '27', '28', '29', '30', '31', '32', '33', '34', '35', '36',\n",
       "       '37', '38', '39', '40', '41', '42', '43', '44', '45', '46', '47', '48',\n",
       "       '49', '50', '51', '52', '53', '54', '55', '56', '57', '58', '59', '60',\n",
       "       '61', '62', '63', '64', '65', '66', '67', '68', '69', '70', '71',\n",
       "       'Target'],\n",
       "      dtype='object')"
      ]
     },
     "execution_count": 12,
     "metadata": {},
     "output_type": "execute_result"
    }
   ],
   "source": [
    "data_train.columns"
   ]
  },
  {
   "cell_type": "code",
   "execution_count": 13,
   "metadata": {},
   "outputs": [
    {
     "data": {
      "text/plain": [
       "Index(['0', '1', '2', '3', '4', '5', '6', '7', '8', '9', '10', '11', '12',\n",
       "       '13', '14', '15', '16', '17', '18', '19', '20', '21', '22', '23', '24',\n",
       "       '25', '26', '27', '28', '29', '30', '31', '32', '33', '34', '35', '36',\n",
       "       '37', '38', '39', '40', '41', '42', '43', '44', '45', '46', '47', '48',\n",
       "       '49', '50', '51', '52', '53', '54', '55', '56', '57', '58', '59', '60',\n",
       "       '61', '62', '63', '64', '65', '66', '67', '68', '69', '70', '71'],\n",
       "      dtype='object')"
      ]
     },
     "execution_count": 13,
     "metadata": {},
     "output_type": "execute_result"
    }
   ],
   "source": [
    "data_base.columns"
   ]
  },
  {
   "cell_type": "code",
   "execution_count": 14,
   "metadata": {},
   "outputs": [
    {
     "data": {
      "text/plain": [
       "Index(['0', '1', '2', '3', '4', '5', '6', '7', '8', '9', '10', '11', '12',\n",
       "       '13', '14', '15', '16', '17', '18', '19', '20', '21', '22', '23', '24',\n",
       "       '25', '26', '27', '28', '29', '30', '31', '32', '33', '34', '35', '36',\n",
       "       '37', '38', '39', '40', '41', '42', '43', '44', '45', '46', '47', '48',\n",
       "       '49', '50', '51', '52', '53', '54', '55', '56', '57', '58', '59', '60',\n",
       "       '61', '62', '63', '64', '65', '66', '67', '68', '69', '70', '71'],\n",
       "      dtype='object')"
      ]
     },
     "execution_count": 14,
     "metadata": {},
     "output_type": "execute_result"
    }
   ],
   "source": [
    "data_val.columns"
   ]
  },
  {
   "cell_type": "code",
   "execution_count": 15,
   "metadata": {},
   "outputs": [
    {
     "data": {
      "text/plain": [
       "Index(['Expected'], dtype='object')"
      ]
     },
     "execution_count": 15,
     "metadata": {},
     "output_type": "execute_result"
    }
   ],
   "source": [
    "data_val_ans.columns"
   ]
  },
  {
   "cell_type": "markdown",
   "metadata": {},
   "source": [
    "### Пропуски"
   ]
  },
  {
   "cell_type": "code",
   "execution_count": 16,
   "metadata": {},
   "outputs": [
    {
     "name": "stdout",
     "output_type": "stream",
     "text": [
      "Количество пропусков в base: 0     0\n",
      "1     0\n",
      "2     0\n",
      "3     0\n",
      "4     0\n",
      "     ..\n",
      "67    0\n",
      "68    0\n",
      "69    0\n",
      "70    0\n",
      "71    0\n",
      "Length: 72, dtype: int64 \n",
      "\n",
      "Количество пропусков в train: 0         0\n",
      "1         0\n",
      "2         0\n",
      "3         0\n",
      "4         0\n",
      "         ..\n",
      "68        0\n",
      "69        0\n",
      "70        0\n",
      "71        0\n",
      "Target    0\n",
      "Length: 73, dtype: int64 \n",
      "\n",
      "Количество пропусков в validation: 0     0\n",
      "1     0\n",
      "2     0\n",
      "3     0\n",
      "4     0\n",
      "     ..\n",
      "67    0\n",
      "68    0\n",
      "69    0\n",
      "70    0\n",
      "71    0\n",
      "Length: 72, dtype: int64 \n",
      "\n"
     ]
    }
   ],
   "source": [
    "print('Количество пропусков в base:', data_base.isna().sum(), '\\n')\n",
    "print('Количество пропусков в train:', data_train.isna().sum(), '\\n')\n",
    "print('Количество пропусков в validation:', data_val.isna().sum(), '\\n')"
   ]
  },
  {
   "cell_type": "markdown",
   "metadata": {},
   "source": [
    "<div class=\"alert alert-secondary\" role=\"alert\">\n",
    "<b>Заметка:</b>\n",
    "<br> \n",
    "Во всех дф отсутствуют пропуски.\n",
    "</div>"
   ]
  },
  {
   "cell_type": "markdown",
   "metadata": {},
   "source": [
    "### Дубликаты"
   ]
  },
  {
   "cell_type": "code",
   "execution_count": 17,
   "metadata": {},
   "outputs": [
    {
     "name": "stdout",
     "output_type": "stream",
     "text": [
      "Количество дубликатов в base: 0 \n",
      "\n",
      "Количество дубликатов в train: 0 \n",
      "\n",
      "Количество дубликатов в validation: 0 \n",
      "\n"
     ]
    }
   ],
   "source": [
    "print('Количество дубликатов в base:', data_base.duplicated().sum(), '\\n')\n",
    "print('Количество дубликатов в train:', data_train.duplicated().sum(), '\\n')\n",
    "print('Количество дубликатов в validation:', data_val.duplicated().sum(), '\\n')"
   ]
  },
  {
   "cell_type": "markdown",
   "metadata": {},
   "source": [
    "<div class=\"alert alert-secondary\" role=\"alert\">\n",
    "<b>Заметка:</b>\n",
    "<br> \n",
    "Ни в одном из dataframe нет дубликатов\n",
    "</div>"
   ]
  },
  {
   "cell_type": "markdown",
   "metadata": {},
   "source": [
    "### Выбросы"
   ]
  },
  {
   "cell_type": "code",
   "execution_count": 18,
   "metadata": {},
   "outputs": [
    {
     "data": {
      "text/plain": [
       "(291814, 72)"
      ]
     },
     "execution_count": 18,
     "metadata": {},
     "output_type": "execute_result"
    }
   ],
   "source": [
    "data, data_base_obv = train_test_split(data_base, test_size=0.1, random_state=STATE)\n",
    "data_base_obv.shape"
   ]
  },
  {
   "cell_type": "code",
   "execution_count": 19,
   "metadata": {},
   "outputs": [
    {
     "data": {
      "text/plain": [
       "Text(0, 0.5, 'Значение признака')"
      ]
     },
     "execution_count": 19,
     "metadata": {},
     "output_type": "execute_result"
    },
    {
     "data": {
      "image/png": "[encoded data removed]",
      "text/plain": [
       "<Figure size 640x480 with 1 Axes>"
      ]
     },
     "metadata": {},
     "output_type": "display_data"
    },
    {
     "data": {
      "application/javascript": [
       "$(document).ready(\n",
       "    function() {\n",
       "        function appendUniqueDiv(){\n",
       "            // append a div with our uuid so we can check that it's already\n",
       "            // been sent and avoid duplicates on page reload\n",
       "            var notifiedDiv = document.createElement(\"div\")\n",
       "            notifiedDiv.id = \"f24bbf6b-ae5b-4fd2-b518-8b51886e4fbc\"\n",
       "            element.append(notifiedDiv)\n",
       "        }\n",
       "\n",
       "        // only send notifications if the pageload is complete; this will\n",
       "        // help stop extra notifications when a saved notebook is loaded,\n",
       "        // which during testing gives us state \"interactive\", not \"complete\"\n",
       "        if (document.readyState === 'complete') {\n",
       "            // check for the div that signifies that the notification\n",
       "            // was already sent\n",
       "            if (document.getElementById(\"f24bbf6b-ae5b-4fd2-b518-8b51886e4fbc\") === null) {\n",
       "                var notificationPayload = {\"requireInteraction\": false, \"icon\": \"/static/base/images/favicon.ico\", \"body\": \"Cell execution has finished!\"};\n",
       "                if (Notification.permission !== 'denied') {\n",
       "                    if (Notification.permission !== 'granted') { \n",
       "                        Notification.requestPermission(function (permission) {\n",
       "                            if(!('permission' in Notification)) {\n",
       "                                Notification.permission = permission\n",
       "                            }\n",
       "                        })\n",
       "                    }\n",
       "                    if (Notification.permission === 'granted') {\n",
       "                    var notification = new Notification(\"Jupyter Notebook\", notificationPayload)\n",
       "                    appendUniqueDiv()\n",
       "                    notification.onclick = function () {\n",
       "                        window.focus();\n",
       "                        this.close();\n",
       "                        };\n",
       "                    } \n",
       "                }     \n",
       "            }\n",
       "        }\n",
       "    }\n",
       ")\n"
      ],
      "text/plain": [
       "<IPython.core.display.Javascript object>"
      ]
     },
     "metadata": {},
     "output_type": "display_data"
    }
   ],
   "source": [
    "%%notify\n",
    "data_base_obv.iloc[:, 1:36].boxplot();\n",
    "plt.title('Боксплоты базовой выборки');\n",
    "plt.xlabel('Признак');\n",
    "plt.ylabel('Значение признака');"
   ]
  },
  {
   "cell_type": "code",
   "execution_count": 20,
   "metadata": {},
   "outputs": [
    {
     "data": {
      "image/png": "[encoded data removed]",
      "text/plain": [
       "<Figure size 640x480 with 1 Axes>"
      ]
     },
     "metadata": {},
     "output_type": "display_data"
    }
   ],
   "source": [
    "data_base_obv.iloc[:, 36:].boxplot();\n",
    "plt.title('Боксплоты базовой выборки');\n",
    "plt.xlabel('Признак');\n",
    "plt.ylabel('Значение признака');"
   ]
  },
  {
   "cell_type": "markdown",
   "metadata": {},
   "source": [
    "<div class=\"alert alert-secondary\" role=\"alert\">\n",
    "<b>Заметка:</b>\n",
    "<br> \n",
    "У каждого из признаков есть большое количество выбросов\n",
    "</div>"
   ]
  },
  {
   "cell_type": "code",
   "execution_count": 21,
   "metadata": {},
   "outputs": [
    {
     "data": {
      "image/png": "[encoded data removed]",
      "text/plain": [
       "<Figure size 640x480 with 72 Axes>"
      ]
     },
     "metadata": {},
     "output_type": "display_data"
    }
   ],
   "source": [
    "data_base_obv.hist();"
   ]
  },
  {
   "cell_type": "markdown",
   "metadata": {},
   "source": [
    "### Мультиколлинеарность"
   ]
  },
  {
   "cell_type": "code",
   "execution_count": 22,
   "metadata": {},
   "outputs": [
    {
     "data": {
      "text/plain": [
       "72"
      ]
     },
     "execution_count": 22,
     "metadata": {},
     "output_type": "execute_result"
    }
   ],
   "source": [
    "(data_base_obv.corr() > 0.7).sum().sum()"
   ]
  },
  {
   "cell_type": "markdown",
   "metadata": {},
   "source": [
    "<div class=\"alert alert-secondary\" role=\"alert\">\n",
    "<b>Заметка:</b>\n",
    "<br> \n",
    "Значения корреляции, превышающей 0,7, составляют 72 штуки, то есть это корреляцией с самими собой, а между другими признаками сильной корреляции нет.\n",
    "</div>"
   ]
  },
  {
   "cell_type": "markdown",
   "metadata": {},
   "source": [
    "### Метрика"
   ]
  },
  {
   "cell_type": "code",
   "execution_count": 23,
   "metadata": {},
   "outputs": [],
   "source": [
    "base_index = {k: v for k, v in enumerate(data_base.index.to_list())}"
   ]
  },
  {
   "cell_type": "code",
   "execution_count": 24,
   "metadata": {},
   "outputs": [],
   "source": [
    "def acc_5(D, I, targets):\n",
    "    acc = 0\n",
    "    for target, el in zip(targets.values.tolist(), I.tolist()):\n",
    "        acc += int(target in [base_index[D] for D in el])\n",
    "    return 100*acc/len(I)"
   ]
  },
  {
   "cell_type": "markdown",
   "metadata": {},
   "source": [
    "## Обучение моделей"
   ]
  },
  {
   "cell_type": "code",
   "execution_count": 25,
   "metadata": {},
   "outputs": [],
   "source": [
    "dim = data_base.shape[1]\n",
    "k = 5\n",
    "nlist = 1000"
   ]
  },
  {
   "cell_type": "code",
   "execution_count": 26,
   "metadata": {},
   "outputs": [],
   "source": [
    "quantizer = faiss.IndexFlatL2(dim)"
   ]
  },
  {
   "cell_type": "code",
   "execution_count": 27,
   "metadata": {},
   "outputs": [],
   "source": [
    "index = faiss.IndexIVFFlat(quantizer, dim, nlist)"
   ]
  },
  {
   "cell_type": "markdown",
   "metadata": {},
   "source": [
    "<div class=\"alert alert-secondary\" role=\"alert\">\n",
    "<b>Заметка:</b>\n",
    "<br> \n",
    "Начиная с этого момента, мой компьютер перестает обрабатывать код. Просто показывает, что ячейка обрабатывается, но за десять часов никакого результата. Плюсы - я познакомилась с документацией faiss, довольно интересно. Минусы - как бы я ни шаманила, все стоит: ни ошибки, ни корректной обработки\n",
    "</div>"
   ]
  },
  {
   "cell_type": "code",
   "execution_count": null,
   "metadata": {},
   "outputs": [],
   "source": [
    "%%notify\n",
    "index.train(np.ascontiguousarray(data_base.values[:40000, :]).astype('float32'))"
   ]
  },
  {
   "cell_type": "code",
   "execution_count": null,
   "metadata": {},
   "outputs": [],
   "source": [
    "%%notify\n",
    "index.add(np.ascontiguousarray(data_base.values).astype('float32'))"
   ]
  },
  {
   "cell_type": "code",
   "execution_count": null,
   "metadata": {},
   "outputs": [],
   "source": [
    "index.ntotal"
   ]
  },
  {
   "cell_type": "code",
   "execution_count": null,
   "metadata": {},
   "outputs": [],
   "source": [
    "%%notify\n",
    "\n",
    "start = time()\n",
    "D, I = index.search(np.ascontiguousarray(data_val.values).astype('float32'), k)\n",
    "end = time()\n",
    "\n",
    "round((end-start)/60, 3)"
   ]
  },
  {
   "cell_type": "code",
   "execution_count": null,
   "metadata": {},
   "outputs": [],
   "source": [
    "print('Accuracy@5 =', acc_5(D, I, data_val_ans))"
   ]
  }
 ],
 "metadata": {
  "ExecuteTimeLog": [
   {
    "duration": 1128,
    "start_time": "2024-03-10T12:30:07.771Z"
   },
   {
    "duration": 2,
    "start_time": "2024-03-10T12:30:35.930Z"
   },
   {
    "duration": 2,
    "start_time": "2024-03-10T12:31:03.076Z"
   },
   {
    "duration": 2751,
    "start_time": "2024-03-10T12:31:37.841Z"
   },
   {
    "duration": 166,
    "start_time": "2024-03-10T12:32:05.409Z"
   },
   {
    "duration": 1158,
    "start_time": "2024-03-11T16:21:37.603Z"
   },
   {
    "duration": 2,
    "start_time": "2024-03-11T16:21:38.763Z"
   },
   {
    "duration": 6,
    "start_time": "2024-03-11T16:21:38.767Z"
   },
   {
    "duration": 2855,
    "start_time": "2024-03-11T16:21:38.774Z"
   },
   {
    "duration": 179,
    "start_time": "2024-03-11T16:21:41.630Z"
   },
   {
    "duration": 100,
    "start_time": "2024-03-11T16:23:16.590Z"
   },
   {
    "duration": 85,
    "start_time": "2024-03-11T16:24:37.536Z"
   },
   {
    "duration": 346,
    "start_time": "2024-03-11T16:26:55.799Z"
   },
   {
    "duration": 311,
    "start_time": "2024-03-11T16:27:53.182Z"
   },
   {
    "duration": 90,
    "start_time": "2024-03-11T16:28:36.425Z"
   },
   {
    "duration": 52,
    "start_time": "2024-03-11T16:30:22.926Z"
   },
   {
    "duration": 123,
    "start_time": "2024-03-11T16:30:46.368Z"
   },
   {
    "duration": 82,
    "start_time": "2024-03-11T16:31:04.722Z"
   },
   {
    "duration": 55,
    "start_time": "2024-03-11T16:31:15.976Z"
   },
   {
    "duration": 77,
    "start_time": "2024-03-11T16:37:44.299Z"
   },
   {
    "duration": 53,
    "start_time": "2024-03-11T16:38:24.601Z"
   },
   {
    "duration": 109,
    "start_time": "2024-03-11T16:38:34.837Z"
   },
   {
    "duration": 54,
    "start_time": "2024-03-11T16:38:37.450Z"
   },
   {
    "duration": 80,
    "start_time": "2024-03-11T16:39:12.780Z"
   },
   {
    "duration": 169,
    "start_time": "2024-03-11T16:39:38.637Z"
   },
   {
    "duration": 169,
    "start_time": "2024-03-11T16:39:50.140Z"
   },
   {
    "duration": 25,
    "start_time": "2024-03-11T16:40:33.815Z"
   },
   {
    "duration": 228,
    "start_time": "2024-03-11T16:40:47.961Z"
   },
   {
    "duration": 239,
    "start_time": "2024-03-11T16:41:01.654Z"
   },
   {
    "duration": 34,
    "start_time": "2024-03-11T16:42:07.904Z"
   },
   {
    "duration": 74,
    "start_time": "2024-03-11T16:43:45.290Z"
   },
   {
    "duration": 726,
    "start_time": "2024-03-11T16:43:54.540Z"
   },
   {
    "duration": 211,
    "start_time": "2024-03-11T16:44:03.838Z"
   },
   {
    "duration": 200,
    "start_time": "2024-03-11T16:44:10.622Z"
   },
   {
    "duration": 43,
    "start_time": "2024-03-11T16:44:15.836Z"
   },
   {
    "duration": 246,
    "start_time": "2024-03-11T16:44:28.048Z"
   },
   {
    "duration": 105,
    "start_time": "2024-03-11T16:44:35.900Z"
   },
   {
    "duration": 41,
    "start_time": "2024-03-11T16:44:39.474Z"
   },
   {
    "duration": 38,
    "start_time": "2024-03-11T16:45:02.028Z"
   },
   {
    "duration": 170,
    "start_time": "2024-03-11T16:45:07.468Z"
   },
   {
    "duration": 162,
    "start_time": "2024-03-11T16:45:13.604Z"
   },
   {
    "duration": 166,
    "start_time": "2024-03-11T16:45:20.317Z"
   },
   {
    "duration": 40,
    "start_time": "2024-03-11T16:45:26.200Z"
   },
   {
    "duration": 41,
    "start_time": "2024-03-11T16:45:38.919Z"
   },
   {
    "duration": 42,
    "start_time": "2024-03-11T16:45:42.828Z"
   },
   {
    "duration": 39,
    "start_time": "2024-03-11T16:45:46.260Z"
   },
   {
    "duration": 1110,
    "start_time": "2024-03-11T16:55:07.533Z"
   },
   {
    "duration": 1173,
    "start_time": "2024-03-11T16:55:29.728Z"
   },
   {
    "duration": 37222,
    "start_time": "2024-03-11T16:55:53.436Z"
   },
   {
    "duration": 0,
    "start_time": "2024-03-11T16:57:17.481Z"
   },
   {
    "duration": 4,
    "start_time": "2024-03-11T16:57:21.230Z"
   },
   {
    "duration": 3263,
    "start_time": "2024-03-11T16:59:31.777Z"
   },
   {
    "duration": 21,
    "start_time": "2024-03-11T16:59:40.802Z"
   },
   {
    "duration": 3,
    "start_time": "2024-03-11T17:00:09.524Z"
   },
   {
    "duration": 10,
    "start_time": "2024-03-11T17:01:08.638Z"
   },
   {
    "duration": 9,
    "start_time": "2024-03-11T17:01:20.358Z"
   },
   {
    "duration": 4,
    "start_time": "2024-03-11T17:01:39.288Z"
   },
   {
    "duration": 9,
    "start_time": "2024-03-11T17:02:26.428Z"
   },
   {
    "duration": 203,
    "start_time": "2024-03-11T17:02:44.885Z"
   },
   {
    "duration": 3,
    "start_time": "2024-03-11T17:02:53.800Z"
   },
   {
    "duration": 234,
    "start_time": "2024-03-11T17:03:54.315Z"
   },
   {
    "duration": 157,
    "start_time": "2024-03-11T17:04:19.089Z"
   },
   {
    "duration": 153,
    "start_time": "2024-03-11T17:04:35.947Z"
   },
   {
    "duration": 36,
    "start_time": "2024-03-11T17:04:40.660Z"
   },
   {
    "duration": 39,
    "start_time": "2024-03-11T17:04:42.793Z"
   },
   {
    "duration": 18,
    "start_time": "2024-03-11T17:05:10.134Z"
   },
   {
    "duration": 17,
    "start_time": "2024-03-11T17:05:14.748Z"
   },
   {
    "duration": 18,
    "start_time": "2024-03-11T17:05:24.103Z"
   },
   {
    "duration": 19,
    "start_time": "2024-03-11T17:05:42.227Z"
   },
   {
    "duration": 19,
    "start_time": "2024-03-11T17:05:50.932Z"
   },
   {
    "duration": 156,
    "start_time": "2024-03-11T17:06:14.031Z"
   },
   {
    "duration": 18,
    "start_time": "2024-03-11T17:06:21.775Z"
   },
   {
    "duration": 16,
    "start_time": "2024-03-11T17:07:13.766Z"
   },
   {
    "duration": 141,
    "start_time": "2024-03-11T17:07:29.934Z"
   },
   {
    "duration": 123,
    "start_time": "2024-03-11T17:07:46.720Z"
   },
   {
    "duration": 10,
    "start_time": "2024-03-11T17:08:08.074Z"
   },
   {
    "duration": 11,
    "start_time": "2024-03-11T17:08:16.465Z"
   },
   {
    "duration": 131,
    "start_time": "2024-03-11T17:08:26.556Z"
   },
   {
    "duration": 1495,
    "start_time": "2024-03-11T17:08:32.194Z"
   },
   {
    "duration": 8,
    "start_time": "2024-03-11T17:08:35.711Z"
   },
   {
    "duration": 132,
    "start_time": "2024-03-11T17:08:47.532Z"
   },
   {
    "duration": 15,
    "start_time": "2024-03-11T17:08:58.014Z"
   },
   {
    "duration": 16,
    "start_time": "2024-03-11T17:09:00.550Z"
   },
   {
    "duration": 90,
    "start_time": "2024-03-11T17:16:59.534Z"
   },
   {
    "duration": 47,
    "start_time": "2024-03-13T16:24:08.815Z"
   },
   {
    "duration": 1167,
    "start_time": "2024-03-13T16:24:14.713Z"
   },
   {
    "duration": 3,
    "start_time": "2024-03-13T16:24:41.253Z"
   },
   {
    "duration": 3,
    "start_time": "2024-03-13T16:24:43.590Z"
   },
   {
    "duration": 1161,
    "start_time": "2024-03-13T16:24:45.606Z"
   },
   {
    "duration": 166,
    "start_time": "2024-03-13T16:24:46.769Z"
   },
   {
    "duration": 70,
    "start_time": "2024-03-13T16:24:50.359Z"
   },
   {
    "duration": 14,
    "start_time": "2024-03-13T16:25:00.585Z"
   },
   {
    "duration": 4,
    "start_time": "2024-03-13T16:25:12.357Z"
   },
   {
    "duration": 4,
    "start_time": "2024-03-13T16:25:17.192Z"
   },
   {
    "duration": 10,
    "start_time": "2024-03-13T16:25:22.550Z"
   },
   {
    "duration": 502,
    "start_time": "2024-03-13T16:27:01.350Z"
   },
   {
    "duration": 63,
    "start_time": "2024-03-13T16:27:22.656Z"
   },
   {
    "duration": 14,
    "start_time": "2024-03-13T16:27:29.542Z"
   },
   {
    "duration": 3,
    "start_time": "2024-03-13T16:28:20.747Z"
   },
   {
    "duration": 206,
    "start_time": "2024-03-13T16:29:32.866Z"
   },
   {
    "duration": 23,
    "start_time": "2024-03-13T16:30:25.838Z"
   },
   {
    "duration": 9,
    "start_time": "2024-03-13T16:31:13.818Z"
   },
   {
    "duration": 122,
    "start_time": "2024-03-13T16:32:01.238Z"
   },
   {
    "duration": 134,
    "start_time": "2024-03-13T16:32:10.151Z"
   },
   {
    "duration": 145,
    "start_time": "2024-03-13T16:32:41.913Z"
   },
   {
    "duration": 145,
    "start_time": "2024-03-13T16:32:48.301Z"
   },
   {
    "duration": 144,
    "start_time": "2024-03-13T16:32:58.300Z"
   },
   {
    "duration": 231,
    "start_time": "2024-03-13T16:33:20.551Z"
   },
   {
    "duration": 29,
    "start_time": "2024-03-13T16:36:57.955Z"
   },
   {
    "duration": 30,
    "start_time": "2024-03-13T16:37:11.098Z"
   },
   {
    "duration": 24,
    "start_time": "2024-03-13T16:37:39.644Z"
   },
   {
    "duration": 25,
    "start_time": "2024-03-13T16:37:49.801Z"
   },
   {
    "duration": 28,
    "start_time": "2024-03-13T16:38:00.134Z"
   },
   {
    "duration": 28,
    "start_time": "2024-03-13T16:38:10.794Z"
   },
   {
    "duration": 22,
    "start_time": "2024-03-13T16:38:34.373Z"
   },
   {
    "duration": 26,
    "start_time": "2024-03-13T16:41:17.527Z"
   },
   {
    "duration": 32,
    "start_time": "2024-03-13T16:41:21.967Z"
   },
   {
    "duration": 19,
    "start_time": "2024-03-13T16:42:03.391Z"
   },
   {
    "duration": 17,
    "start_time": "2024-03-13T16:42:27.774Z"
   },
   {
    "duration": 17,
    "start_time": "2024-03-13T16:42:47.075Z"
   },
   {
    "duration": 11,
    "start_time": "2024-03-13T16:43:00.586Z"
   },
   {
    "duration": 30,
    "start_time": "2024-03-13T16:43:04.771Z"
   },
   {
    "duration": 25,
    "start_time": "2024-03-13T16:43:12.860Z"
   },
   {
    "duration": 24,
    "start_time": "2024-03-13T16:43:23.959Z"
   },
   {
    "duration": 25,
    "start_time": "2024-03-13T16:43:34.569Z"
   },
   {
    "duration": 25,
    "start_time": "2024-03-13T16:43:44.047Z"
   },
   {
    "duration": 230,
    "start_time": "2024-03-13T16:44:03.261Z"
   },
   {
    "duration": 25,
    "start_time": "2024-03-13T16:45:34.140Z"
   },
   {
    "duration": 24,
    "start_time": "2024-03-13T16:45:42.089Z"
   },
   {
    "duration": 28,
    "start_time": "2024-03-13T16:45:46.858Z"
   },
   {
    "duration": 24,
    "start_time": "2024-03-13T16:45:52.320Z"
   },
   {
    "duration": 26,
    "start_time": "2024-03-13T16:45:55.018Z"
   },
   {
    "duration": 24,
    "start_time": "2024-03-13T16:45:58.910Z"
   },
   {
    "duration": 25,
    "start_time": "2024-03-13T16:46:04.405Z"
   },
   {
    "duration": 34,
    "start_time": "2024-03-13T16:46:14.111Z"
   },
   {
    "duration": 27,
    "start_time": "2024-03-13T16:46:26.043Z"
   },
   {
    "duration": 2333,
    "start_time": "2024-03-13T16:55:32.009Z"
   },
   {
    "duration": 2226,
    "start_time": "2024-03-13T16:55:42.923Z"
   },
   {
    "duration": 419,
    "start_time": "2024-03-13T16:56:58.511Z"
   },
   {
    "duration": 315,
    "start_time": "2024-03-13T16:57:01.571Z"
   },
   {
    "duration": 280,
    "start_time": "2024-03-13T16:57:43.033Z"
   },
   {
    "duration": 3535,
    "start_time": "2024-03-13T16:58:09.837Z"
   },
   {
    "duration": 410,
    "start_time": "2024-03-13T16:58:40.045Z"
   },
   {
    "duration": 599,
    "start_time": "2024-03-13T16:59:26.434Z"
   },
   {
    "duration": 327,
    "start_time": "2024-03-13T17:00:10.658Z"
   },
   {
    "duration": 100,
    "start_time": "2024-03-13T17:02:54.690Z"
   },
   {
    "duration": 51,
    "start_time": "2024-03-13T17:12:23.404Z"
   },
   {
    "duration": 5,
    "start_time": "2024-03-13T17:12:32.732Z"
   },
   {
    "duration": 275,
    "start_time": "2024-03-13T17:13:07.111Z"
   },
   {
    "duration": 30,
    "start_time": "2024-03-13T17:13:17.212Z"
   },
   {
    "duration": 29,
    "start_time": "2024-03-13T17:13:38.586Z"
   },
   {
    "duration": 31,
    "start_time": "2024-03-13T17:13:58.190Z"
   },
   {
    "duration": 77,
    "start_time": "2024-03-13T17:14:05.641Z"
   },
   {
    "duration": 28,
    "start_time": "2024-03-13T17:14:09.128Z"
   },
   {
    "duration": 29,
    "start_time": "2024-03-13T17:14:12.735Z"
   },
   {
    "duration": 37,
    "start_time": "2024-03-13T17:14:26.698Z"
   },
   {
    "duration": 13,
    "start_time": "2024-03-13T17:14:40.728Z"
   },
   {
    "duration": 28,
    "start_time": "2024-03-13T17:14:49.883Z"
   },
   {
    "duration": 39,
    "start_time": "2024-03-13T17:15:06.589Z"
   },
   {
    "duration": 312,
    "start_time": "2024-03-13T17:15:22.448Z"
   },
   {
    "duration": 308,
    "start_time": "2024-03-13T17:15:26.927Z"
   },
   {
    "duration": 515,
    "start_time": "2024-03-13T17:15:32.438Z"
   },
   {
    "duration": 286,
    "start_time": "2024-03-13T17:15:37.993Z"
   },
   {
    "duration": 106,
    "start_time": "2024-03-13T17:15:54.624Z"
   },
   {
    "duration": 11,
    "start_time": "2024-03-13T17:16:11.047Z"
   },
   {
    "duration": 1468,
    "start_time": "2024-03-13T17:16:20.019Z"
   },
   {
    "duration": 3,
    "start_time": "2024-03-13T17:16:21.489Z"
   },
   {
    "duration": 8,
    "start_time": "2024-03-13T17:16:21.493Z"
   },
   {
    "duration": 917,
    "start_time": "2024-03-13T17:16:21.503Z"
   },
   {
    "duration": 179,
    "start_time": "2024-03-13T17:16:22.422Z"
   },
   {
    "duration": 14,
    "start_time": "2024-03-13T17:16:22.603Z"
   },
   {
    "duration": 240,
    "start_time": "2024-03-13T17:16:22.623Z"
   },
   {
    "duration": 59,
    "start_time": "2024-03-13T17:16:22.864Z"
   },
   {
    "duration": 332,
    "start_time": "2024-03-13T17:16:22.925Z"
   },
   {
    "duration": 317,
    "start_time": "2024-03-13T17:16:23.259Z"
   },
   {
    "duration": 711,
    "start_time": "2024-03-13T17:16:23.578Z"
   },
   {
    "duration": 276,
    "start_time": "2024-03-13T17:16:24.290Z"
   },
   {
    "duration": 118,
    "start_time": "2024-03-13T17:16:24.568Z"
   },
   {
    "duration": 4,
    "start_time": "2024-03-13T17:16:24.687Z"
   },
   {
    "duration": 5,
    "start_time": "2024-03-13T17:16:24.693Z"
   },
   {
    "duration": 138,
    "start_time": "2024-03-13T17:16:24.699Z"
   },
   {
    "duration": 0,
    "start_time": "2024-03-13T17:16:24.839Z"
   },
   {
    "duration": 0,
    "start_time": "2024-03-13T17:16:24.841Z"
   },
   {
    "duration": 0,
    "start_time": "2024-03-13T17:16:24.842Z"
   },
   {
    "duration": 0,
    "start_time": "2024-03-13T17:16:24.843Z"
   },
   {
    "duration": 0,
    "start_time": "2024-03-13T17:16:24.845Z"
   },
   {
    "duration": 0,
    "start_time": "2024-03-13T17:16:24.847Z"
   },
   {
    "duration": 0,
    "start_time": "2024-03-13T17:16:24.848Z"
   },
   {
    "duration": 64,
    "start_time": "2024-03-13T17:16:43.409Z"
   },
   {
    "duration": 13,
    "start_time": "2024-03-13T17:16:49.602Z"
   },
   {
    "duration": 1579,
    "start_time": "2024-03-13T17:17:17.590Z"
   },
   {
    "duration": 1605,
    "start_time": "2024-03-13T17:17:21.983Z"
   },
   {
    "duration": 214,
    "start_time": "2024-03-13T17:18:31.481Z"
   },
   {
    "duration": 1615,
    "start_time": "2024-03-13T17:19:00.584Z"
   },
   {
    "duration": 1561,
    "start_time": "2024-03-13T17:19:18.745Z"
   },
   {
    "duration": 1564,
    "start_time": "2024-03-13T17:19:32.242Z"
   },
   {
    "duration": 10,
    "start_time": "2024-03-13T17:20:15.392Z"
   },
   {
    "duration": 1610,
    "start_time": "2024-03-13T17:20:19.358Z"
   },
   {
    "duration": 939,
    "start_time": "2024-03-13T17:20:26.184Z"
   },
   {
    "duration": 2200,
    "start_time": "2024-03-13T17:21:08.809Z"
   },
   {
    "duration": 1671,
    "start_time": "2024-03-16T12:01:58.141Z"
   },
   {
    "duration": 3,
    "start_time": "2024-03-16T12:01:59.817Z"
   },
   {
    "duration": 19,
    "start_time": "2024-03-16T12:01:59.822Z"
   },
   {
    "duration": 1218,
    "start_time": "2024-03-16T12:01:59.843Z"
   },
   {
    "duration": 167,
    "start_time": "2024-03-16T12:02:01.063Z"
   },
   {
    "duration": 8,
    "start_time": "2024-03-16T12:02:01.232Z"
   },
   {
    "duration": 239,
    "start_time": "2024-03-16T12:02:01.242Z"
   },
   {
    "duration": 60,
    "start_time": "2024-03-16T12:02:01.482Z"
   },
   {
    "duration": 357,
    "start_time": "2024-03-16T12:02:01.543Z"
   },
   {
    "duration": 341,
    "start_time": "2024-03-16T12:02:01.902Z"
   },
   {
    "duration": 663,
    "start_time": "2024-03-16T12:02:02.245Z"
   },
   {
    "duration": 277,
    "start_time": "2024-03-16T12:02:02.910Z"
   },
   {
    "duration": 107,
    "start_time": "2024-03-16T12:02:03.189Z"
   },
   {
    "duration": 3,
    "start_time": "2024-03-16T12:02:03.298Z"
   },
   {
    "duration": 16,
    "start_time": "2024-03-16T12:02:03.303Z"
   },
   {
    "duration": 1574,
    "start_time": "2024-03-16T12:02:03.321Z"
   },
   {
    "duration": 2202,
    "start_time": "2024-03-16T12:02:04.897Z"
   },
   {
    "duration": 62,
    "start_time": "2024-03-16T12:02:07.100Z"
   },
   {
    "duration": 159,
    "start_time": "2024-03-16T12:02:07.163Z"
   },
   {
    "duration": 48,
    "start_time": "2024-03-16T12:02:07.324Z"
   },
   {
    "duration": 18,
    "start_time": "2024-03-16T12:02:07.373Z"
   },
   {
    "duration": 43,
    "start_time": "2024-03-16T12:02:07.392Z"
   },
   {
    "duration": 94,
    "start_time": "2024-03-16T12:02:07.436Z"
   },
   {
    "duration": 127,
    "start_time": "2024-03-16T12:02:07.532Z"
   },
   {
    "duration": 491,
    "start_time": "2024-03-16T12:03:09.328Z"
   },
   {
    "duration": 500,
    "start_time": "2024-03-16T12:04:00.195Z"
   },
   {
    "duration": 932,
    "start_time": "2024-03-16T12:21:03.547Z"
   },
   {
    "duration": 869,
    "start_time": "2024-03-16T12:21:22.022Z"
   },
   {
    "duration": 12,
    "start_time": "2024-03-16T12:21:45.106Z"
   },
   {
    "duration": 9,
    "start_time": "2024-03-16T12:21:48.281Z"
   },
   {
    "duration": 9,
    "start_time": "2024-03-16T12:21:51.374Z"
   },
   {
    "duration": 476,
    "start_time": "2024-03-16T12:22:51.154Z"
   },
   {
    "duration": 934,
    "start_time": "2024-03-16T12:23:00.687Z"
   },
   {
    "duration": 905,
    "start_time": "2024-03-16T12:23:05.491Z"
   },
   {
    "duration": 21,
    "start_time": "2024-03-16T12:24:28.641Z"
   },
   {
    "duration": 35,
    "start_time": "2024-03-16T12:24:42.152Z"
   },
   {
    "duration": 17,
    "start_time": "2024-03-16T12:25:41.340Z"
   },
   {
    "duration": 287,
    "start_time": "2024-03-16T12:27:13.630Z"
   },
   {
    "duration": 368,
    "start_time": "2024-03-16T12:27:23.435Z"
   },
   {
    "duration": 21,
    "start_time": "2024-03-16T12:28:05.915Z"
   },
   {
    "duration": 31,
    "start_time": "2024-03-16T12:28:38.603Z"
   },
   {
    "duration": 8,
    "start_time": "2024-03-16T12:28:46.249Z"
   },
   {
    "duration": 8,
    "start_time": "2024-03-16T12:29:04.434Z"
   },
   {
    "duration": 8,
    "start_time": "2024-03-16T12:29:23.039Z"
   },
   {
    "duration": 12,
    "start_time": "2024-03-16T12:30:58.363Z"
   },
   {
    "duration": 9,
    "start_time": "2024-03-16T12:31:07.866Z"
   },
   {
    "duration": 1465,
    "start_time": "2024-03-16T12:31:14.274Z"
   },
   {
    "duration": 3,
    "start_time": "2024-03-16T12:31:15.740Z"
   },
   {
    "duration": 23,
    "start_time": "2024-03-16T12:31:15.745Z"
   },
   {
    "duration": 941,
    "start_time": "2024-03-16T12:31:15.770Z"
   },
   {
    "duration": 158,
    "start_time": "2024-03-16T12:31:16.713Z"
   },
   {
    "duration": 902,
    "start_time": "2024-03-16T12:31:16.872Z"
   },
   {
    "duration": 986,
    "start_time": "2024-03-16T12:31:17.776Z"
   },
   {
    "duration": 125,
    "start_time": "2024-03-16T12:31:18.764Z"
   },
   {
    "duration": 0,
    "start_time": "2024-03-16T12:31:18.893Z"
   },
   {
    "duration": 0,
    "start_time": "2024-03-16T12:31:18.894Z"
   },
   {
    "duration": 0,
    "start_time": "2024-03-16T12:31:18.895Z"
   },
   {
    "duration": 0,
    "start_time": "2024-03-16T12:31:18.896Z"
   },
   {
    "duration": 0,
    "start_time": "2024-03-16T12:31:18.896Z"
   },
   {
    "duration": 1,
    "start_time": "2024-03-16T12:31:18.897Z"
   },
   {
    "duration": 0,
    "start_time": "2024-03-16T12:31:18.899Z"
   },
   {
    "duration": 0,
    "start_time": "2024-03-16T12:31:18.900Z"
   },
   {
    "duration": 0,
    "start_time": "2024-03-16T12:31:18.917Z"
   },
   {
    "duration": 0,
    "start_time": "2024-03-16T12:31:18.919Z"
   },
   {
    "duration": 0,
    "start_time": "2024-03-16T12:31:18.920Z"
   },
   {
    "duration": 0,
    "start_time": "2024-03-16T12:31:18.921Z"
   },
   {
    "duration": 0,
    "start_time": "2024-03-16T12:31:18.923Z"
   },
   {
    "duration": 0,
    "start_time": "2024-03-16T12:31:18.924Z"
   },
   {
    "duration": 0,
    "start_time": "2024-03-16T12:31:18.926Z"
   },
   {
    "duration": 0,
    "start_time": "2024-03-16T12:31:18.927Z"
   },
   {
    "duration": 0,
    "start_time": "2024-03-16T12:31:18.929Z"
   },
   {
    "duration": 0,
    "start_time": "2024-03-16T12:31:18.930Z"
   },
   {
    "duration": 0,
    "start_time": "2024-03-16T12:31:18.932Z"
   },
   {
    "duration": 0,
    "start_time": "2024-03-16T12:31:18.933Z"
   },
   {
    "duration": 0,
    "start_time": "2024-03-16T12:31:18.935Z"
   },
   {
    "duration": 0,
    "start_time": "2024-03-16T12:31:18.936Z"
   },
   {
    "duration": 0,
    "start_time": "2024-03-16T12:31:18.937Z"
   },
   {
    "duration": 12,
    "start_time": "2024-03-16T12:31:30.477Z"
   },
   {
    "duration": 34,
    "start_time": "2024-03-16T12:31:34.008Z"
   },
   {
    "duration": 18,
    "start_time": "2024-03-16T12:31:40.615Z"
   },
   {
    "duration": 30,
    "start_time": "2024-03-16T12:31:43.265Z"
   },
   {
    "duration": 24,
    "start_time": "2024-03-16T12:31:56.297Z"
   },
   {
    "duration": 57,
    "start_time": "2024-03-16T12:31:56.877Z"
   },
   {
    "duration": 25,
    "start_time": "2024-03-16T12:32:23.572Z"
   },
   {
    "duration": 1443,
    "start_time": "2024-03-16T12:32:30.891Z"
   },
   {
    "duration": 2,
    "start_time": "2024-03-16T12:32:32.336Z"
   },
   {
    "duration": 14,
    "start_time": "2024-03-16T12:32:32.340Z"
   },
   {
    "duration": 878,
    "start_time": "2024-03-16T12:32:32.356Z"
   },
   {
    "duration": 155,
    "start_time": "2024-03-16T12:32:33.236Z"
   },
   {
    "duration": 883,
    "start_time": "2024-03-16T12:32:33.393Z"
   },
   {
    "duration": 900,
    "start_time": "2024-03-16T12:32:34.278Z"
   },
   {
    "duration": 108,
    "start_time": "2024-03-16T12:32:35.180Z"
   },
   {
    "duration": 0,
    "start_time": "2024-03-16T12:32:35.290Z"
   },
   {
    "duration": 0,
    "start_time": "2024-03-16T12:32:35.292Z"
   },
   {
    "duration": 0,
    "start_time": "2024-03-16T12:32:35.293Z"
   },
   {
    "duration": 0,
    "start_time": "2024-03-16T12:32:35.295Z"
   },
   {
    "duration": 0,
    "start_time": "2024-03-16T12:32:35.296Z"
   },
   {
    "duration": 0,
    "start_time": "2024-03-16T12:32:35.298Z"
   },
   {
    "duration": 0,
    "start_time": "2024-03-16T12:32:35.299Z"
   },
   {
    "duration": 0,
    "start_time": "2024-03-16T12:32:35.300Z"
   },
   {
    "duration": 0,
    "start_time": "2024-03-16T12:32:35.302Z"
   },
   {
    "duration": 0,
    "start_time": "2024-03-16T12:32:35.318Z"
   },
   {
    "duration": 0,
    "start_time": "2024-03-16T12:32:35.319Z"
   },
   {
    "duration": 0,
    "start_time": "2024-03-16T12:32:35.320Z"
   },
   {
    "duration": 0,
    "start_time": "2024-03-16T12:32:35.322Z"
   },
   {
    "duration": 0,
    "start_time": "2024-03-16T12:32:35.323Z"
   },
   {
    "duration": 0,
    "start_time": "2024-03-16T12:32:35.324Z"
   },
   {
    "duration": 0,
    "start_time": "2024-03-16T12:32:35.326Z"
   },
   {
    "duration": 0,
    "start_time": "2024-03-16T12:32:35.327Z"
   },
   {
    "duration": 0,
    "start_time": "2024-03-16T12:32:35.328Z"
   },
   {
    "duration": 0,
    "start_time": "2024-03-16T12:32:35.329Z"
   },
   {
    "duration": 0,
    "start_time": "2024-03-16T12:32:35.331Z"
   },
   {
    "duration": 0,
    "start_time": "2024-03-16T12:32:35.332Z"
   },
   {
    "duration": 0,
    "start_time": "2024-03-16T12:32:35.333Z"
   },
   {
    "duration": 0,
    "start_time": "2024-03-16T12:32:35.335Z"
   },
   {
    "duration": 33,
    "start_time": "2024-03-16T12:33:03.498Z"
   },
   {
    "duration": 18,
    "start_time": "2024-03-16T12:33:04.930Z"
   },
   {
    "duration": 34,
    "start_time": "2024-03-16T12:33:06.221Z"
   },
   {
    "duration": 931,
    "start_time": "2024-03-16T12:35:46.860Z"
   },
   {
    "duration": 1350,
    "start_time": "2024-03-16T12:35:51.368Z"
   },
   {
    "duration": 2,
    "start_time": "2024-03-16T12:35:52.720Z"
   },
   {
    "duration": 10,
    "start_time": "2024-03-16T12:35:52.723Z"
   },
   {
    "duration": 846,
    "start_time": "2024-03-16T12:35:52.734Z"
   },
   {
    "duration": 180,
    "start_time": "2024-03-16T12:35:53.582Z"
   },
   {
    "duration": 929,
    "start_time": "2024-03-16T12:35:53.764Z"
   },
   {
    "duration": 986,
    "start_time": "2024-03-16T12:35:54.695Z"
   },
   {
    "duration": 10,
    "start_time": "2024-03-16T12:35:55.683Z"
   },
   {
    "duration": 71,
    "start_time": "2024-03-16T12:35:55.695Z"
   },
   {
    "duration": 40,
    "start_time": "2024-03-16T12:35:55.769Z"
   },
   {
    "duration": 33,
    "start_time": "2024-03-16T12:35:55.811Z"
   },
   {
    "duration": 147,
    "start_time": "2024-03-16T12:35:55.846Z"
   },
   {
    "duration": 0,
    "start_time": "2024-03-16T12:35:55.994Z"
   },
   {
    "duration": 0,
    "start_time": "2024-03-16T12:35:55.996Z"
   },
   {
    "duration": 0,
    "start_time": "2024-03-16T12:35:55.997Z"
   },
   {
    "duration": 0,
    "start_time": "2024-03-16T12:35:55.999Z"
   },
   {
    "duration": 0,
    "start_time": "2024-03-16T12:35:56.000Z"
   },
   {
    "duration": 0,
    "start_time": "2024-03-16T12:35:56.002Z"
   },
   {
    "duration": 0,
    "start_time": "2024-03-16T12:35:56.018Z"
   },
   {
    "duration": 0,
    "start_time": "2024-03-16T12:35:56.019Z"
   },
   {
    "duration": 0,
    "start_time": "2024-03-16T12:35:56.020Z"
   },
   {
    "duration": 0,
    "start_time": "2024-03-16T12:35:56.022Z"
   },
   {
    "duration": 0,
    "start_time": "2024-03-16T12:35:56.023Z"
   },
   {
    "duration": 0,
    "start_time": "2024-03-16T12:35:56.024Z"
   },
   {
    "duration": 0,
    "start_time": "2024-03-16T12:35:56.026Z"
   },
   {
    "duration": 0,
    "start_time": "2024-03-16T12:35:56.027Z"
   },
   {
    "duration": 0,
    "start_time": "2024-03-16T12:35:56.029Z"
   },
   {
    "duration": 0,
    "start_time": "2024-03-16T12:35:56.030Z"
   },
   {
    "duration": 0,
    "start_time": "2024-03-16T12:35:56.032Z"
   },
   {
    "duration": 0,
    "start_time": "2024-03-16T12:35:56.034Z"
   },
   {
    "duration": 13,
    "start_time": "2024-03-16T12:39:03.768Z"
   },
   {
    "duration": 1419,
    "start_time": "2024-03-16T12:39:07.465Z"
   },
   {
    "duration": 3,
    "start_time": "2024-03-16T12:39:08.886Z"
   },
   {
    "duration": 5,
    "start_time": "2024-03-16T12:39:08.890Z"
   },
   {
    "duration": 893,
    "start_time": "2024-03-16T12:39:08.896Z"
   },
   {
    "duration": 185,
    "start_time": "2024-03-16T12:39:09.792Z"
   },
   {
    "duration": 1031,
    "start_time": "2024-03-16T12:39:09.979Z"
   },
   {
    "duration": 1126,
    "start_time": "2024-03-16T12:39:11.012Z"
   },
   {
    "duration": 8,
    "start_time": "2024-03-16T12:39:12.140Z"
   },
   {
    "duration": 34,
    "start_time": "2024-03-16T12:39:12.149Z"
   },
   {
    "duration": 35,
    "start_time": "2024-03-16T12:39:12.184Z"
   },
   {
    "duration": 123,
    "start_time": "2024-03-16T12:39:12.221Z"
   },
   {
    "duration": 0,
    "start_time": "2024-03-16T12:39:12.345Z"
   },
   {
    "duration": 0,
    "start_time": "2024-03-16T12:39:12.346Z"
   },
   {
    "duration": 0,
    "start_time": "2024-03-16T12:39:12.348Z"
   },
   {
    "duration": 0,
    "start_time": "2024-03-16T12:39:12.349Z"
   },
   {
    "duration": 0,
    "start_time": "2024-03-16T12:39:12.350Z"
   },
   {
    "duration": 0,
    "start_time": "2024-03-16T12:39:12.351Z"
   },
   {
    "duration": 0,
    "start_time": "2024-03-16T12:39:12.352Z"
   },
   {
    "duration": 0,
    "start_time": "2024-03-16T12:39:12.353Z"
   },
   {
    "duration": 0,
    "start_time": "2024-03-16T12:39:12.355Z"
   },
   {
    "duration": 0,
    "start_time": "2024-03-16T12:39:12.357Z"
   },
   {
    "duration": 0,
    "start_time": "2024-03-16T12:39:12.358Z"
   },
   {
    "duration": 0,
    "start_time": "2024-03-16T12:39:12.360Z"
   },
   {
    "duration": 0,
    "start_time": "2024-03-16T12:39:12.361Z"
   },
   {
    "duration": 0,
    "start_time": "2024-03-16T12:39:12.362Z"
   },
   {
    "duration": 0,
    "start_time": "2024-03-16T12:39:12.364Z"
   },
   {
    "duration": 0,
    "start_time": "2024-03-16T12:39:12.365Z"
   },
   {
    "duration": 0,
    "start_time": "2024-03-16T12:39:12.366Z"
   },
   {
    "duration": 0,
    "start_time": "2024-03-16T12:39:12.368Z"
   },
   {
    "duration": 0,
    "start_time": "2024-03-16T12:39:12.369Z"
   },
   {
    "duration": 11,
    "start_time": "2024-03-16T12:40:47.234Z"
   },
   {
    "duration": 35,
    "start_time": "2024-03-16T12:41:00.527Z"
   },
   {
    "duration": 1356,
    "start_time": "2024-03-16T12:41:07.485Z"
   },
   {
    "duration": 2,
    "start_time": "2024-03-16T12:41:08.843Z"
   },
   {
    "duration": 8,
    "start_time": "2024-03-16T12:41:08.846Z"
   },
   {
    "duration": 886,
    "start_time": "2024-03-16T12:41:08.855Z"
   },
   {
    "duration": 162,
    "start_time": "2024-03-16T12:41:09.743Z"
   },
   {
    "duration": 951,
    "start_time": "2024-03-16T12:41:09.907Z"
   },
   {
    "duration": 1067,
    "start_time": "2024-03-16T12:41:10.860Z"
   },
   {
    "duration": 9,
    "start_time": "2024-03-16T12:41:11.929Z"
   },
   {
    "duration": 36,
    "start_time": "2024-03-16T12:41:11.940Z"
   },
   {
    "duration": 40,
    "start_time": "2024-03-16T12:41:11.979Z"
   },
   {
    "duration": 47,
    "start_time": "2024-03-16T12:41:12.021Z"
   },
   {
    "duration": 310,
    "start_time": "2024-03-16T12:41:12.069Z"
   },
   {
    "duration": 266,
    "start_time": "2024-03-16T12:41:12.381Z"
   },
   {
    "duration": 37,
    "start_time": "2024-03-16T12:41:12.648Z"
   },
   {
    "duration": 324,
    "start_time": "2024-03-16T12:41:12.687Z"
   },
   {
    "duration": 275,
    "start_time": "2024-03-16T12:41:13.013Z"
   },
   {
    "duration": 709,
    "start_time": "2024-03-16T12:41:13.290Z"
   },
   {
    "duration": 272,
    "start_time": "2024-03-16T12:41:14.001Z"
   },
   {
    "duration": 110,
    "start_time": "2024-03-16T12:41:14.274Z"
   },
   {
    "duration": 3,
    "start_time": "2024-03-16T12:41:14.386Z"
   },
   {
    "duration": 5,
    "start_time": "2024-03-16T12:41:14.391Z"
   },
   {
    "duration": 1557,
    "start_time": "2024-03-16T12:41:14.398Z"
   },
   {
    "duration": 2294,
    "start_time": "2024-03-16T12:41:15.957Z"
   },
   {
    "duration": 112,
    "start_time": "2024-03-16T12:41:18.253Z"
   },
   {
    "duration": 327,
    "start_time": "2024-03-16T12:41:18.418Z"
   },
   {
    "duration": 92,
    "start_time": "2024-03-16T12:41:18.746Z"
   },
   {
    "duration": 19,
    "start_time": "2024-03-16T12:41:18.839Z"
   },
   {
    "duration": 80,
    "start_time": "2024-03-16T12:41:18.860Z"
   },
   {
    "duration": 191,
    "start_time": "2024-03-16T12:41:18.941Z"
   },
   {
    "duration": 229,
    "start_time": "2024-03-16T12:41:19.133Z"
   },
   {
    "duration": 4,
    "start_time": "2024-03-16T12:44:32.368Z"
   },
   {
    "duration": 4,
    "start_time": "2024-03-16T12:44:36.465Z"
   },
   {
    "duration": 182,
    "start_time": "2024-03-16T12:45:47.636Z"
   },
   {
    "duration": 60,
    "start_time": "2024-03-16T12:46:02.447Z"
   },
   {
    "duration": 220,
    "start_time": "2024-03-16T12:46:38.323Z"
   },
   {
    "duration": 9,
    "start_time": "2024-03-16T12:46:54.868Z"
   },
   {
    "duration": 67,
    "start_time": "2024-03-16T12:46:59.339Z"
   },
   {
    "duration": 38,
    "start_time": "2024-03-16T12:53:37.891Z"
   },
   {
    "duration": 36,
    "start_time": "2024-03-16T12:59:02.430Z"
   },
   {
    "duration": 18,
    "start_time": "2024-03-16T12:59:44.085Z"
   },
   {
    "duration": 34,
    "start_time": "2024-03-16T13:02:49.351Z"
   },
   {
    "duration": 294,
    "start_time": "2024-03-16T13:03:33.201Z"
   },
   {
    "duration": 409,
    "start_time": "2024-03-16T13:03:37.677Z"
   },
   {
    "duration": 58,
    "start_time": "2024-03-16T13:06:40.838Z"
   },
   {
    "duration": 56,
    "start_time": "2024-03-16T13:06:46.123Z"
   },
   {
    "duration": 283,
    "start_time": "2024-03-16T13:06:47.128Z"
   },
   {
    "duration": 54,
    "start_time": "2024-03-16T13:06:55.404Z"
   },
   {
    "duration": 261,
    "start_time": "2024-03-16T13:06:56.351Z"
   },
   {
    "duration": 38,
    "start_time": "2024-03-16T13:10:23.603Z"
   },
   {
    "duration": 3268,
    "start_time": "2024-03-16T13:11:37.415Z"
   },
   {
    "duration": 43,
    "start_time": "2024-03-16T13:12:23.667Z"
   },
   {
    "duration": 42,
    "start_time": "2024-03-16T13:17:30.452Z"
   },
   {
    "duration": 18,
    "start_time": "2024-03-16T13:17:50.753Z"
   },
   {
    "duration": 35,
    "start_time": "2024-03-16T13:18:40.935Z"
   },
   {
    "duration": 27,
    "start_time": "2024-03-16T13:28:11.050Z"
   },
   {
    "duration": 17,
    "start_time": "2024-03-16T13:28:24.973Z"
   },
   {
    "duration": 4,
    "start_time": "2024-03-16T13:30:08.136Z"
   },
   {
    "duration": 35,
    "start_time": "2024-03-16T13:34:06.058Z"
   },
   {
    "duration": 13,
    "start_time": "2024-03-16T13:34:20.356Z"
   },
   {
    "duration": 14,
    "start_time": "2024-03-16T13:36:18.220Z"
   },
   {
    "duration": 1648,
    "start_time": "2024-03-16T13:38:00.719Z"
   },
   {
    "duration": 1573,
    "start_time": "2024-03-16T13:38:05.484Z"
   },
   {
    "duration": 176,
    "start_time": "2024-03-16T13:41:22.958Z"
   },
   {
    "duration": 174,
    "start_time": "2024-03-16T13:41:27.123Z"
   },
   {
    "duration": 15,
    "start_time": "2024-03-16T13:44:13.871Z"
   },
   {
    "duration": 166,
    "start_time": "2024-03-16T13:45:11.554Z"
   },
   {
    "duration": 185,
    "start_time": "2024-03-16T13:45:19.586Z"
   },
   {
    "duration": 115,
    "start_time": "2024-03-16T13:46:44.141Z"
   },
   {
    "duration": 119,
    "start_time": "2024-03-16T13:46:47.035Z"
   },
   {
    "duration": 171,
    "start_time": "2024-03-16T13:49:35.396Z"
   },
   {
    "duration": 193,
    "start_time": "2024-03-16T13:50:41.144Z"
   },
   {
    "duration": 198,
    "start_time": "2024-03-16T13:50:48.928Z"
   },
   {
    "duration": 169,
    "start_time": "2024-03-16T13:50:55.189Z"
   },
   {
    "duration": 174,
    "start_time": "2024-03-16T13:50:59.612Z"
   },
   {
    "duration": 204,
    "start_time": "2024-03-16T13:51:05.050Z"
   },
   {
    "duration": 375,
    "start_time": "2024-03-16T13:51:11.712Z"
   },
   {
    "duration": 711,
    "start_time": "2024-03-16T13:51:16.118Z"
   },
   {
    "duration": 801,
    "start_time": "2024-03-16T13:51:22.577Z"
   },
   {
    "duration": 708,
    "start_time": "2024-03-16T13:51:28.416Z"
   },
   {
    "duration": 866,
    "start_time": "2024-03-16T13:51:31.335Z"
   },
   {
    "duration": 678,
    "start_time": "2024-03-16T13:51:37.120Z"
   },
   {
    "duration": 70,
    "start_time": "2024-03-16T13:53:25.587Z"
   },
   {
    "duration": 1220,
    "start_time": "2024-03-16T13:53:29.615Z"
   },
   {
    "duration": 74,
    "start_time": "2024-03-16T13:54:12.825Z"
   },
   {
    "duration": 65,
    "start_time": "2024-03-16T13:54:47.112Z"
   },
   {
    "duration": 68,
    "start_time": "2024-03-16T13:54:50.042Z"
   },
   {
    "duration": 11,
    "start_time": "2024-03-16T13:54:54.087Z"
   },
   {
    "duration": 79,
    "start_time": "2024-03-16T13:54:58.433Z"
   },
   {
    "duration": 73,
    "start_time": "2024-03-16T13:55:21.748Z"
   },
   {
    "duration": 11,
    "start_time": "2024-03-16T13:55:27.909Z"
   },
   {
    "duration": 9,
    "start_time": "2024-03-16T13:55:37.720Z"
   },
   {
    "duration": 21,
    "start_time": "2024-03-16T13:56:06.399Z"
   },
   {
    "duration": 16,
    "start_time": "2024-03-16T13:56:26.577Z"
   },
   {
    "duration": 41,
    "start_time": "2024-03-17T09:13:16.498Z"
   },
   {
    "duration": 1468,
    "start_time": "2024-03-17T09:13:24.388Z"
   },
   {
    "duration": 3,
    "start_time": "2024-03-17T09:13:25.857Z"
   },
   {
    "duration": 5,
    "start_time": "2024-03-17T09:13:25.861Z"
   },
   {
    "duration": 1028,
    "start_time": "2024-03-17T09:13:25.868Z"
   },
   {
    "duration": 144,
    "start_time": "2024-03-17T09:13:26.897Z"
   },
   {
    "duration": 859,
    "start_time": "2024-03-17T09:13:27.044Z"
   },
   {
    "duration": 917,
    "start_time": "2024-03-17T09:13:27.904Z"
   },
   {
    "duration": 23,
    "start_time": "2024-03-17T09:13:28.823Z"
   },
   {
    "duration": 8,
    "start_time": "2024-03-17T09:13:28.847Z"
   },
   {
    "duration": 716,
    "start_time": "2024-03-17T09:13:28.858Z"
   },
   {
    "duration": 112,
    "start_time": "2024-03-17T09:13:29.575Z"
   },
   {
    "duration": 13,
    "start_time": "2024-03-17T09:13:29.688Z"
   },
   {
    "duration": 1511,
    "start_time": "2024-03-17T09:13:29.702Z"
   },
   {
    "duration": 169,
    "start_time": "2024-03-17T09:13:31.215Z"
   },
   {
    "duration": 181,
    "start_time": "2024-03-17T09:13:31.386Z"
   },
   {
    "duration": 143,
    "start_time": "2024-03-17T09:13:31.569Z"
   },
   {
    "duration": 41,
    "start_time": "2024-03-17T09:13:31.713Z"
   },
   {
    "duration": 44,
    "start_time": "2024-03-17T09:13:31.756Z"
   },
   {
    "duration": 50,
    "start_time": "2024-03-17T09:13:31.801Z"
   },
   {
    "duration": 47,
    "start_time": "2024-03-17T09:13:31.853Z"
   },
   {
    "duration": 52,
    "start_time": "2024-03-17T09:13:31.901Z"
   },
   {
    "duration": 34,
    "start_time": "2024-03-17T09:13:31.954Z"
   },
   {
    "duration": 63,
    "start_time": "2024-03-17T09:13:31.990Z"
   },
   {
    "duration": 45,
    "start_time": "2024-03-17T09:13:32.054Z"
   },
   {
    "duration": 94,
    "start_time": "2024-03-17T09:13:32.100Z"
   },
   {
    "duration": 241,
    "start_time": "2024-03-17T09:13:32.196Z"
   },
   {
    "duration": 38,
    "start_time": "2024-03-17T09:13:32.438Z"
   },
   {
    "duration": 119,
    "start_time": "2024-03-17T09:13:32.479Z"
   },
   {
    "duration": 16,
    "start_time": "2024-03-17T09:13:32.600Z"
   },
   {
    "duration": 32,
    "start_time": "2024-03-17T09:13:32.617Z"
   },
   {
    "duration": 252,
    "start_time": "2024-03-17T09:13:32.651Z"
   },
   {
    "duration": 113,
    "start_time": "2024-03-17T09:13:32.905Z"
   },
   {
    "duration": 0,
    "start_time": "2024-03-17T09:13:33.020Z"
   },
   {
    "duration": 0,
    "start_time": "2024-03-17T09:13:33.021Z"
   },
   {
    "duration": 0,
    "start_time": "2024-03-17T09:13:33.022Z"
   },
   {
    "duration": 0,
    "start_time": "2024-03-17T09:13:33.023Z"
   },
   {
    "duration": 0,
    "start_time": "2024-03-17T09:13:33.024Z"
   },
   {
    "duration": 0,
    "start_time": "2024-03-17T09:13:33.025Z"
   },
   {
    "duration": 0,
    "start_time": "2024-03-17T09:13:33.026Z"
   },
   {
    "duration": 0,
    "start_time": "2024-03-17T09:13:33.027Z"
   },
   {
    "duration": 0,
    "start_time": "2024-03-17T09:13:33.028Z"
   },
   {
    "duration": 0,
    "start_time": "2024-03-17T09:13:33.029Z"
   },
   {
    "duration": 0,
    "start_time": "2024-03-17T09:13:33.045Z"
   },
   {
    "duration": 0,
    "start_time": "2024-03-17T09:13:33.046Z"
   },
   {
    "duration": 0,
    "start_time": "2024-03-17T09:13:33.047Z"
   },
   {
    "duration": 0,
    "start_time": "2024-03-17T09:13:33.048Z"
   },
   {
    "duration": 0,
    "start_time": "2024-03-17T09:13:33.049Z"
   },
   {
    "duration": 0,
    "start_time": "2024-03-17T09:13:33.050Z"
   },
   {
    "duration": 0,
    "start_time": "2024-03-17T09:13:33.051Z"
   },
   {
    "duration": 23,
    "start_time": "2024-03-17T09:14:01.659Z"
   },
   {
    "duration": 24,
    "start_time": "2024-03-17T09:15:15.499Z"
   },
   {
    "duration": 20,
    "start_time": "2024-03-17T09:15:25.371Z"
   },
   {
    "duration": 15,
    "start_time": "2024-03-17T09:15:39.127Z"
   },
   {
    "duration": 727,
    "start_time": "2024-03-17T09:15:39.722Z"
   },
   {
    "duration": 7,
    "start_time": "2024-03-17T09:16:03.199Z"
   },
   {
    "duration": 8,
    "start_time": "2024-03-17T09:16:30.565Z"
   },
   {
    "duration": 9,
    "start_time": "2024-03-17T09:16:44.636Z"
   },
   {
    "duration": 9,
    "start_time": "2024-03-17T09:16:53.031Z"
   },
   {
    "duration": 101,
    "start_time": "2024-03-17T09:16:56.568Z"
   },
   {
    "duration": 9,
    "start_time": "2024-03-17T09:17:33.909Z"
   },
   {
    "duration": 83,
    "start_time": "2024-03-17T09:17:34.480Z"
   },
   {
    "duration": 660,
    "start_time": "2024-03-17T09:17:57.232Z"
   },
   {
    "duration": 251,
    "start_time": "2024-03-17T09:18:01.819Z"
   },
   {
    "duration": 24,
    "start_time": "2024-03-17T09:18:57.662Z"
   },
   {
    "duration": 21,
    "start_time": "2024-03-17T09:19:04.274Z"
   },
   {
    "duration": 11,
    "start_time": "2024-03-17T09:19:31.703Z"
   },
   {
    "duration": 11,
    "start_time": "2024-03-17T09:20:02.800Z"
   },
   {
    "duration": 20,
    "start_time": "2024-03-17T09:20:08.509Z"
   },
   {
    "duration": 20,
    "start_time": "2024-03-17T09:20:13.216Z"
   },
   {
    "duration": 13,
    "start_time": "2024-03-17T09:20:24.822Z"
   },
   {
    "duration": 20,
    "start_time": "2024-03-17T09:20:32.806Z"
   },
   {
    "duration": 11,
    "start_time": "2024-03-17T09:21:51.821Z"
   },
   {
    "duration": 28,
    "start_time": "2024-03-17T09:23:16.903Z"
   },
   {
    "duration": 19,
    "start_time": "2024-03-17T09:23:34.575Z"
   },
   {
    "duration": 19,
    "start_time": "2024-03-17T09:23:41.278Z"
   },
   {
    "duration": 17,
    "start_time": "2024-03-17T09:23:46.583Z"
   },
   {
    "duration": 15,
    "start_time": "2024-03-17T09:23:58.790Z"
   },
   {
    "duration": 16,
    "start_time": "2024-03-17T09:24:45.042Z"
   },
   {
    "duration": 9,
    "start_time": "2024-03-17T09:27:20.763Z"
   },
   {
    "duration": 33,
    "start_time": "2024-03-17T09:28:19.610Z"
   },
   {
    "duration": 29,
    "start_time": "2024-03-17T09:28:52.596Z"
   },
   {
    "duration": 50,
    "start_time": "2024-03-17T09:31:04.360Z"
   },
   {
    "duration": 36,
    "start_time": "2024-03-17T09:33:19.322Z"
   },
   {
    "duration": 2747,
    "start_time": "2024-03-17T09:34:19.611Z"
   },
   {
    "duration": 2705,
    "start_time": "2024-03-17T09:34:53.920Z"
   },
   {
    "duration": 2700,
    "start_time": "2024-03-17T09:35:31.788Z"
   },
   {
    "duration": 1337,
    "start_time": "2024-03-17T09:36:52.233Z"
   },
   {
    "duration": 3,
    "start_time": "2024-03-17T09:36:53.571Z"
   },
   {
    "duration": 28,
    "start_time": "2024-03-17T09:36:53.575Z"
   },
   {
    "duration": 801,
    "start_time": "2024-03-17T09:36:53.604Z"
   },
   {
    "duration": 145,
    "start_time": "2024-03-17T09:36:54.407Z"
   },
   {
    "duration": 803,
    "start_time": "2024-03-17T09:36:54.554Z"
   },
   {
    "duration": 885,
    "start_time": "2024-03-17T09:36:55.358Z"
   },
   {
    "duration": 16,
    "start_time": "2024-03-17T09:36:56.245Z"
   },
   {
    "duration": 33,
    "start_time": "2024-03-17T09:36:56.262Z"
   },
   {
    "duration": 731,
    "start_time": "2024-03-17T09:36:56.297Z"
   },
   {
    "duration": 22,
    "start_time": "2024-03-17T09:36:57.029Z"
   },
   {
    "duration": 102,
    "start_time": "2024-03-17T09:36:57.053Z"
   },
   {
    "duration": 205,
    "start_time": "2024-03-17T09:36:57.157Z"
   },
   {
    "duration": 20,
    "start_time": "2024-03-17T09:36:57.365Z"
   },
   {
    "duration": 69,
    "start_time": "2024-03-17T09:36:57.387Z"
   },
   {
    "duration": 2908,
    "start_time": "2024-03-17T09:36:57.458Z"
   },
   {
    "duration": 0,
    "start_time": "2024-03-17T09:37:00.491Z"
   },
   {
    "duration": 0,
    "start_time": "2024-03-17T09:37:00.545Z"
   },
   {
    "duration": 0,
    "start_time": "2024-03-17T09:37:00.547Z"
   },
   {
    "duration": 0,
    "start_time": "2024-03-17T09:37:00.548Z"
   },
   {
    "duration": 0,
    "start_time": "2024-03-17T09:37:00.549Z"
   },
   {
    "duration": 0,
    "start_time": "2024-03-17T09:37:00.550Z"
   },
   {
    "duration": 0,
    "start_time": "2024-03-17T09:37:00.552Z"
   },
   {
    "duration": 0,
    "start_time": "2024-03-17T09:37:00.553Z"
   },
   {
    "duration": 0,
    "start_time": "2024-03-17T09:37:00.554Z"
   },
   {
    "duration": 0,
    "start_time": "2024-03-17T09:37:00.555Z"
   },
   {
    "duration": 0,
    "start_time": "2024-03-17T09:37:00.556Z"
   },
   {
    "duration": 0,
    "start_time": "2024-03-17T09:37:00.557Z"
   },
   {
    "duration": 0,
    "start_time": "2024-03-17T09:37:00.558Z"
   },
   {
    "duration": 0,
    "start_time": "2024-03-17T09:37:00.559Z"
   },
   {
    "duration": 0,
    "start_time": "2024-03-17T09:37:00.560Z"
   },
   {
    "duration": 0,
    "start_time": "2024-03-17T09:37:00.562Z"
   },
   {
    "duration": 0,
    "start_time": "2024-03-17T09:37:00.562Z"
   },
   {
    "duration": 0,
    "start_time": "2024-03-17T09:37:00.565Z"
   },
   {
    "duration": 0,
    "start_time": "2024-03-17T09:37:00.567Z"
   },
   {
    "duration": 0,
    "start_time": "2024-03-17T09:37:00.568Z"
   },
   {
    "duration": 0,
    "start_time": "2024-03-17T09:37:00.569Z"
   },
   {
    "duration": 0,
    "start_time": "2024-03-17T09:37:00.570Z"
   },
   {
    "duration": 0,
    "start_time": "2024-03-17T09:37:00.571Z"
   },
   {
    "duration": 0,
    "start_time": "2024-03-17T09:37:00.572Z"
   },
   {
    "duration": 0,
    "start_time": "2024-03-17T09:37:00.573Z"
   },
   {
    "duration": 0,
    "start_time": "2024-03-17T09:37:00.574Z"
   },
   {
    "duration": 0,
    "start_time": "2024-03-17T09:37:00.575Z"
   },
   {
    "duration": 0,
    "start_time": "2024-03-17T09:37:00.577Z"
   },
   {
    "duration": 1,
    "start_time": "2024-03-17T09:37:00.577Z"
   },
   {
    "duration": 0,
    "start_time": "2024-03-17T09:37:00.579Z"
   },
   {
    "duration": 0,
    "start_time": "2024-03-17T09:37:00.580Z"
   },
   {
    "duration": 0,
    "start_time": "2024-03-17T09:37:00.645Z"
   },
   {
    "duration": 0,
    "start_time": "2024-03-17T09:37:00.646Z"
   },
   {
    "duration": 0,
    "start_time": "2024-03-17T09:37:00.647Z"
   },
   {
    "duration": 0,
    "start_time": "2024-03-17T09:37:00.648Z"
   },
   {
    "duration": 0,
    "start_time": "2024-03-17T09:37:00.650Z"
   },
   {
    "duration": 0,
    "start_time": "2024-03-17T09:37:00.651Z"
   },
   {
    "duration": 0,
    "start_time": "2024-03-17T09:37:00.652Z"
   },
   {
    "duration": 2840,
    "start_time": "2024-03-17T09:38:17.252Z"
   },
   {
    "duration": 2783,
    "start_time": "2024-03-17T09:39:41.963Z"
   },
   {
    "duration": 2800,
    "start_time": "2024-03-17T09:40:17.599Z"
   },
   {
    "duration": 2916,
    "start_time": "2024-03-17T09:41:03.630Z"
   },
   {
    "duration": 24,
    "start_time": "2024-03-17T09:41:46.661Z"
   },
   {
    "duration": 51,
    "start_time": "2024-03-17T09:42:28.487Z"
   },
   {
    "duration": 168,
    "start_time": "2024-03-17T09:42:36.641Z"
   },
   {
    "duration": 161,
    "start_time": "2024-03-17T09:42:49.743Z"
   },
   {
    "duration": 235,
    "start_time": "2024-03-17T09:42:54.699Z"
   },
   {
    "duration": 352,
    "start_time": "2024-03-17T09:42:59.944Z"
   },
   {
    "duration": 25,
    "start_time": "2024-03-17T09:43:30.909Z"
   },
   {
    "duration": 35,
    "start_time": "2024-03-17T09:43:35.105Z"
   },
   {
    "duration": 50,
    "start_time": "2024-03-17T09:44:25.707Z"
   },
   {
    "duration": 13,
    "start_time": "2024-03-17T09:46:12.088Z"
   },
   {
    "duration": 13242,
    "start_time": "2024-03-17T09:46:35.442Z"
   },
   {
    "duration": 1319,
    "start_time": "2024-03-17T09:47:43.964Z"
   },
   {
    "duration": 2,
    "start_time": "2024-03-17T09:47:45.285Z"
   },
   {
    "duration": 33,
    "start_time": "2024-03-17T09:47:45.288Z"
   },
   {
    "duration": 804,
    "start_time": "2024-03-17T09:47:45.322Z"
   },
   {
    "duration": 155,
    "start_time": "2024-03-17T09:47:46.127Z"
   },
   {
    "duration": 840,
    "start_time": "2024-03-17T09:47:46.284Z"
   },
   {
    "duration": 895,
    "start_time": "2024-03-17T09:47:47.125Z"
   },
   {
    "duration": 23,
    "start_time": "2024-03-17T09:47:48.022Z"
   },
   {
    "duration": 46,
    "start_time": "2024-03-17T09:47:48.046Z"
   },
   {
    "duration": 15,
    "start_time": "2024-03-17T09:47:48.095Z"
   },
   {
    "duration": 19,
    "start_time": "2024-03-17T09:47:48.111Z"
   },
   {
    "duration": 727,
    "start_time": "2024-03-17T09:47:48.131Z"
   },
   {
    "duration": 14,
    "start_time": "2024-03-17T09:47:48.860Z"
   },
   {
    "duration": 105,
    "start_time": "2024-03-17T09:47:48.876Z"
   },
   {
    "duration": 344,
    "start_time": "2024-03-17T09:47:48.982Z"
   },
   {
    "duration": 24,
    "start_time": "2024-03-17T09:47:49.328Z"
   },
   {
    "duration": 44,
    "start_time": "2024-03-17T09:47:49.354Z"
   },
   {
    "duration": 68,
    "start_time": "2024-03-17T09:47:49.399Z"
   },
   {
    "duration": 54,
    "start_time": "2024-03-17T09:47:49.469Z"
   },
   {
    "duration": 24,
    "start_time": "2024-03-17T09:47:49.524Z"
   },
   {
    "duration": 1284,
    "start_time": "2024-03-17T09:47:49.549Z"
   },
   {
    "duration": 161,
    "start_time": "2024-03-17T09:47:50.834Z"
   },
   {
    "duration": 151,
    "start_time": "2024-03-17T09:47:50.996Z"
   },
   {
    "duration": 108,
    "start_time": "2024-03-17T09:47:51.148Z"
   },
   {
    "duration": 29,
    "start_time": "2024-03-17T09:47:51.258Z"
   },
   {
    "duration": 21,
    "start_time": "2024-03-17T09:47:51.289Z"
   },
   {
    "duration": 36,
    "start_time": "2024-03-17T09:47:51.311Z"
   },
   {
    "duration": 30,
    "start_time": "2024-03-17T09:47:51.351Z"
   },
   {
    "duration": 37,
    "start_time": "2024-03-17T09:47:51.383Z"
   },
   {
    "duration": 39,
    "start_time": "2024-03-17T09:47:51.421Z"
   },
   {
    "duration": 39,
    "start_time": "2024-03-17T09:47:51.461Z"
   },
   {
    "duration": 47,
    "start_time": "2024-03-17T09:47:51.501Z"
   },
   {
    "duration": 44,
    "start_time": "2024-03-17T09:47:51.550Z"
   },
   {
    "duration": 246,
    "start_time": "2024-03-17T09:47:51.595Z"
   },
   {
    "duration": 31,
    "start_time": "2024-03-17T09:47:51.845Z"
   },
   {
    "duration": 34,
    "start_time": "2024-03-17T09:47:51.877Z"
   },
   {
    "duration": 35,
    "start_time": "2024-03-17T09:47:51.913Z"
   },
   {
    "duration": 40,
    "start_time": "2024-03-17T09:47:51.950Z"
   },
   {
    "duration": 235,
    "start_time": "2024-03-17T09:47:51.992Z"
   },
   {
    "duration": 102,
    "start_time": "2024-03-17T09:47:52.229Z"
   },
   {
    "duration": 0,
    "start_time": "2024-03-17T09:47:52.333Z"
   },
   {
    "duration": 0,
    "start_time": "2024-03-17T09:47:52.335Z"
   },
   {
    "duration": 0,
    "start_time": "2024-03-17T09:47:52.336Z"
   },
   {
    "duration": 0,
    "start_time": "2024-03-17T09:47:52.337Z"
   },
   {
    "duration": 0,
    "start_time": "2024-03-17T09:47:52.345Z"
   },
   {
    "duration": 0,
    "start_time": "2024-03-17T09:47:52.346Z"
   },
   {
    "duration": 0,
    "start_time": "2024-03-17T09:47:52.347Z"
   },
   {
    "duration": 0,
    "start_time": "2024-03-17T09:47:52.349Z"
   },
   {
    "duration": 0,
    "start_time": "2024-03-17T09:47:52.350Z"
   },
   {
    "duration": 0,
    "start_time": "2024-03-17T09:47:52.351Z"
   },
   {
    "duration": 0,
    "start_time": "2024-03-17T09:47:52.352Z"
   },
   {
    "duration": 0,
    "start_time": "2024-03-17T09:47:52.354Z"
   },
   {
    "duration": 0,
    "start_time": "2024-03-17T09:47:52.355Z"
   },
   {
    "duration": 0,
    "start_time": "2024-03-17T09:47:52.355Z"
   },
   {
    "duration": 0,
    "start_time": "2024-03-17T09:47:52.357Z"
   },
   {
    "duration": 0,
    "start_time": "2024-03-17T09:47:52.358Z"
   },
   {
    "duration": 0,
    "start_time": "2024-03-17T09:47:52.359Z"
   },
   {
    "duration": 16,
    "start_time": "2024-03-17T09:49:30.807Z"
   },
   {
    "duration": 14,
    "start_time": "2024-03-17T09:50:36.630Z"
   },
   {
    "duration": 13,
    "start_time": "2024-03-17T09:50:52.558Z"
   },
   {
    "duration": 16,
    "start_time": "2024-03-17T09:51:03.447Z"
   },
   {
    "duration": 15,
    "start_time": "2024-03-17T10:00:01.672Z"
   },
   {
    "duration": 17,
    "start_time": "2024-03-17T10:00:18.326Z"
   },
   {
    "duration": 17,
    "start_time": "2024-03-17T10:00:30.898Z"
   },
   {
    "duration": 20,
    "start_time": "2024-03-17T10:00:48.232Z"
   },
   {
    "duration": 49,
    "start_time": "2024-03-17T10:01:02.921Z"
   },
   {
    "duration": 36,
    "start_time": "2024-03-17T10:01:09.063Z"
   },
   {
    "duration": 37,
    "start_time": "2024-03-17T10:01:18.114Z"
   },
   {
    "duration": 12,
    "start_time": "2024-03-17T10:01:41.746Z"
   },
   {
    "duration": 14,
    "start_time": "2024-03-17T10:01:55.591Z"
   },
   {
    "duration": 159,
    "start_time": "2024-03-17T10:03:03.563Z"
   },
   {
    "duration": 277,
    "start_time": "2024-03-17T10:03:06.975Z"
   },
   {
    "duration": 145,
    "start_time": "2024-03-17T10:03:23.297Z"
   },
   {
    "duration": 152,
    "start_time": "2024-03-17T10:03:29.878Z"
   },
   {
    "duration": 148,
    "start_time": "2024-03-17T10:04:42.074Z"
   },
   {
    "duration": 147,
    "start_time": "2024-03-17T10:05:28.867Z"
   },
   {
    "duration": 156,
    "start_time": "2024-03-17T10:05:34.220Z"
   },
   {
    "duration": 14,
    "start_time": "2024-03-17T10:05:46.971Z"
   },
   {
    "duration": 14,
    "start_time": "2024-03-17T10:06:23.085Z"
   },
   {
    "duration": 18,
    "start_time": "2024-03-17T10:06:37.957Z"
   },
   {
    "duration": 146,
    "start_time": "2024-03-17T10:06:41.128Z"
   },
   {
    "duration": 159,
    "start_time": "2024-03-17T10:06:49.396Z"
   },
   {
    "duration": 14,
    "start_time": "2024-03-17T10:07:53.784Z"
   },
   {
    "duration": 19,
    "start_time": "2024-03-17T10:08:08.490Z"
   },
   {
    "duration": 31,
    "start_time": "2024-03-17T10:08:15.338Z"
   },
   {
    "duration": 19,
    "start_time": "2024-03-17T10:08:39.719Z"
   },
   {
    "duration": 24,
    "start_time": "2024-03-17T10:08:47.219Z"
   },
   {
    "duration": 19,
    "start_time": "2024-03-17T10:08:57.463Z"
   },
   {
    "duration": 17,
    "start_time": "2024-03-17T10:09:03.106Z"
   },
   {
    "duration": 18,
    "start_time": "2024-03-17T10:09:11.055Z"
   },
   {
    "duration": 18,
    "start_time": "2024-03-17T10:09:34.415Z"
   },
   {
    "duration": 17,
    "start_time": "2024-03-17T10:09:57.454Z"
   },
   {
    "duration": 19,
    "start_time": "2024-03-17T10:10:03.499Z"
   },
   {
    "duration": 12,
    "start_time": "2024-03-17T10:10:19.729Z"
   },
   {
    "duration": 34,
    "start_time": "2024-03-17T10:10:44.821Z"
   },
   {
    "duration": 29,
    "start_time": "2024-03-17T10:11:02.188Z"
   },
   {
    "duration": 13,
    "start_time": "2024-03-17T10:11:13.137Z"
   },
   {
    "duration": 34,
    "start_time": "2024-03-17T10:11:35.905Z"
   },
   {
    "duration": 7,
    "start_time": "2024-03-17T10:11:40.072Z"
   },
   {
    "duration": 16,
    "start_time": "2024-03-17T10:11:49.018Z"
   },
   {
    "duration": 18,
    "start_time": "2024-03-17T10:12:37.728Z"
   },
   {
    "duration": 31,
    "start_time": "2024-03-17T10:12:43.336Z"
   },
   {
    "duration": 115,
    "start_time": "2024-03-17T10:13:56.630Z"
   },
   {
    "duration": 112,
    "start_time": "2024-03-17T10:13:59.043Z"
   },
   {
    "duration": 19,
    "start_time": "2024-03-17T10:14:14.192Z"
   },
   {
    "duration": 19,
    "start_time": "2024-03-17T10:14:32.971Z"
   },
   {
    "duration": 103,
    "start_time": "2024-03-17T10:14:35.881Z"
   },
   {
    "duration": 15,
    "start_time": "2024-03-17T10:14:43.880Z"
   },
   {
    "duration": 26,
    "start_time": "2024-03-17T10:15:07.074Z"
   },
   {
    "duration": 83,
    "start_time": "2024-03-17T10:15:19.903Z"
   },
   {
    "duration": 226,
    "start_time": "2024-03-17T10:16:08.957Z"
   },
   {
    "duration": 1240,
    "start_time": "2024-03-17T10:16:31.892Z"
   },
   {
    "duration": 2,
    "start_time": "2024-03-17T10:16:34.991Z"
   },
   {
    "duration": 2,
    "start_time": "2024-03-17T10:16:36.116Z"
   },
   {
    "duration": 766,
    "start_time": "2024-03-17T10:16:39.045Z"
   },
   {
    "duration": 149,
    "start_time": "2024-03-17T10:16:39.813Z"
   },
   {
    "duration": 822,
    "start_time": "2024-03-17T10:16:43.856Z"
   },
   {
    "duration": 914,
    "start_time": "2024-03-17T10:16:46.443Z"
   },
   {
    "duration": 15,
    "start_time": "2024-03-17T10:16:50.694Z"
   },
   {
    "duration": 195,
    "start_time": "2024-03-17T10:16:55.413Z"
   },
   {
    "duration": 118,
    "start_time": "2024-03-17T10:16:58.541Z"
   },
   {
    "duration": 153,
    "start_time": "2024-03-17T10:17:48.701Z"
   },
   {
    "duration": 174,
    "start_time": "2024-03-17T10:17:53.125Z"
   },
   {
    "duration": 302,
    "start_time": "2024-03-17T10:17:56.476Z"
   },
   {
    "duration": 250,
    "start_time": "2024-03-17T10:18:04.244Z"
   },
   {
    "duration": 1227,
    "start_time": "2024-03-17T10:18:07.932Z"
   },
   {
    "duration": 632,
    "start_time": "2024-03-17T10:18:13.860Z"
   },
   {
    "duration": 762,
    "start_time": "2024-03-17T10:18:39.130Z"
   },
   {
    "duration": 184,
    "start_time": "2024-03-17T10:18:42.995Z"
   },
   {
    "duration": 1287,
    "start_time": "2024-03-17T10:18:46.814Z"
   },
   {
    "duration": 24,
    "start_time": "2024-03-17T10:19:16.736Z"
   },
   {
    "duration": 27,
    "start_time": "2024-03-17T10:19:58.225Z"
   },
   {
    "duration": 58,
    "start_time": "2024-03-17T10:24:49.682Z"
   },
   {
    "duration": 31,
    "start_time": "2024-03-17T10:25:14.915Z"
   },
   {
    "duration": 30,
    "start_time": "2024-03-17T10:25:26.209Z"
   },
   {
    "duration": 25,
    "start_time": "2024-03-17T10:25:56.012Z"
   },
   {
    "duration": 20,
    "start_time": "2024-03-17T10:26:08.355Z"
   },
   {
    "duration": 107,
    "start_time": "2024-03-17T10:26:32.263Z"
   },
   {
    "duration": 13,
    "start_time": "2024-03-17T10:26:42.332Z"
   },
   {
    "duration": 19,
    "start_time": "2024-03-17T10:26:45.354Z"
   },
   {
    "duration": 13,
    "start_time": "2024-03-17T10:26:49.013Z"
   },
   {
    "duration": 44,
    "start_time": "2024-03-17T10:27:10.151Z"
   },
   {
    "duration": 137,
    "start_time": "2024-03-17T10:27:12.393Z"
   },
   {
    "duration": 247,
    "start_time": "2024-03-17T10:27:15.936Z"
   },
   {
    "duration": 102,
    "start_time": "2024-03-17T10:27:52.032Z"
   },
   {
    "duration": 358,
    "start_time": "2024-03-17T10:27:54.853Z"
   },
   {
    "duration": 238,
    "start_time": "2024-03-17T10:28:01.590Z"
   },
   {
    "duration": 14,
    "start_time": "2024-03-17T10:28:07.835Z"
   },
   {
    "duration": 21,
    "start_time": "2024-03-17T10:28:11.401Z"
   },
   {
    "duration": 641,
    "start_time": "2024-03-17T10:28:14.490Z"
   },
   {
    "duration": 18,
    "start_time": "2024-03-17T10:28:19.237Z"
   },
   {
    "duration": 89,
    "start_time": "2024-03-17T10:28:20.729Z"
   },
   {
    "duration": 459,
    "start_time": "2024-03-17T10:28:26.419Z"
   },
   {
    "duration": 13,
    "start_time": "2024-03-17T10:28:28.404Z"
   },
   {
    "duration": 42,
    "start_time": "2024-03-17T10:28:30.243Z"
   },
   {
    "duration": 43,
    "start_time": "2024-03-17T10:28:31.515Z"
   },
   {
    "duration": 42,
    "start_time": "2024-03-17T10:28:36.056Z"
   },
   {
    "duration": 88,
    "start_time": "2024-03-17T10:28:48.119Z"
   },
   {
    "duration": 8,
    "start_time": "2024-03-17T10:29:48.316Z"
   },
   {
    "duration": 8,
    "start_time": "2024-03-17T10:29:53.194Z"
   },
   {
    "duration": 77,
    "start_time": "2024-03-17T10:29:53.843Z"
   },
   {
    "duration": 338,
    "start_time": "2024-03-17T10:29:56.025Z"
   },
   {
    "duration": 152,
    "start_time": "2024-03-17T10:30:04.833Z"
   },
   {
    "duration": 6,
    "start_time": "2024-03-17T10:30:11.006Z"
   },
   {
    "duration": 34,
    "start_time": "2024-03-17T10:30:13.151Z"
   },
   {
    "duration": 42,
    "start_time": "2024-03-17T10:30:14.004Z"
   },
   {
    "duration": 42,
    "start_time": "2024-03-17T10:30:14.660Z"
   },
   {
    "duration": 80,
    "start_time": "2024-03-17T10:30:18.674Z"
   },
   {
    "duration": 11,
    "start_time": "2024-03-17T10:30:24.786Z"
   },
   {
    "duration": 1126,
    "start_time": "2024-03-17T10:30:28.414Z"
   },
   {
    "duration": 92,
    "start_time": "2024-03-17T10:30:32.372Z"
   },
   {
    "duration": 115,
    "start_time": "2024-03-17T10:30:53.061Z"
   },
   {
    "duration": 84,
    "start_time": "2024-03-17T10:31:00.977Z"
   },
   {
    "duration": 26,
    "start_time": "2024-03-17T10:31:07.411Z"
   },
   {
    "duration": 14,
    "start_time": "2024-03-17T10:31:09.342Z"
   },
   {
    "duration": 24,
    "start_time": "2024-03-17T10:31:10.678Z"
   },
   {
    "duration": 25,
    "start_time": "2024-03-17T10:31:13.959Z"
   },
   {
    "duration": 24,
    "start_time": "2024-03-17T10:31:15.620Z"
   },
   {
    "duration": 26,
    "start_time": "2024-03-17T10:31:18.161Z"
   },
   {
    "duration": 14,
    "start_time": "2024-03-17T10:31:19.775Z"
   },
   {
    "duration": 24,
    "start_time": "2024-03-17T10:31:20.589Z"
   },
   {
    "duration": 37,
    "start_time": "2024-03-17T10:31:21.517Z"
   },
   {
    "duration": 298,
    "start_time": "2024-03-17T10:31:22.549Z"
   },
   {
    "duration": 31,
    "start_time": "2024-03-17T10:31:27.328Z"
   },
   {
    "duration": 24,
    "start_time": "2024-03-17T10:31:31.274Z"
   },
   {
    "duration": 14,
    "start_time": "2024-03-17T10:31:31.989Z"
   },
   {
    "duration": 24,
    "start_time": "2024-03-17T10:31:32.699Z"
   },
   {
    "duration": 201,
    "start_time": "2024-03-17T10:31:34.398Z"
   },
   {
    "duration": 132,
    "start_time": "2024-03-17T10:34:49.991Z"
   },
   {
    "duration": 1228,
    "start_time": "2024-03-17T10:34:52.728Z"
   },
   {
    "duration": 13,
    "start_time": "2024-03-17T10:36:49.306Z"
   },
   {
    "duration": 1238,
    "start_time": "2024-03-17T10:37:04.603Z"
   },
   {
    "duration": 2,
    "start_time": "2024-03-17T10:37:07.487Z"
   },
   {
    "duration": 3,
    "start_time": "2024-03-17T10:37:08.813Z"
   },
   {
    "duration": 769,
    "start_time": "2024-03-17T10:37:11.458Z"
   },
   {
    "duration": 152,
    "start_time": "2024-03-17T10:37:12.387Z"
   },
   {
    "duration": 855,
    "start_time": "2024-03-17T10:37:17.404Z"
   },
   {
    "duration": 936,
    "start_time": "2024-03-17T10:37:19.369Z"
   },
   {
    "duration": 19,
    "start_time": "2024-03-17T10:37:24.251Z"
   },
   {
    "duration": 175,
    "start_time": "2024-03-17T10:37:26.914Z"
   },
   {
    "duration": 1230,
    "start_time": "2024-03-17T10:37:28.941Z"
   },
   {
    "duration": 27,
    "start_time": "2024-03-17T10:37:32.458Z"
   },
   {
    "duration": 143,
    "start_time": "2024-03-17T10:37:35.504Z"
   },
   {
    "duration": 58,
    "start_time": "2024-03-17T10:37:39.916Z"
   },
   {
    "duration": 105,
    "start_time": "2024-03-17T10:37:43.117Z"
   },
   {
    "duration": 13,
    "start_time": "2024-03-17T10:37:50.993Z"
   },
   {
    "duration": 20,
    "start_time": "2024-03-17T10:39:30.484Z"
   },
   {
    "duration": 104,
    "start_time": "2024-03-17T10:39:32.984Z"
   },
   {
    "duration": 43,
    "start_time": "2024-03-17T10:39:50.403Z"
   },
   {
    "duration": 50,
    "start_time": "2024-03-17T10:40:16.777Z"
   },
   {
    "duration": 340,
    "start_time": "2024-03-17T10:40:24.274Z"
   },
   {
    "duration": 155,
    "start_time": "2024-03-17T10:40:28.341Z"
   },
   {
    "duration": 13,
    "start_time": "2024-03-17T10:41:18.286Z"
   },
   {
    "duration": 19,
    "start_time": "2024-03-17T10:41:46.255Z"
   },
   {
    "duration": 638,
    "start_time": "2024-03-17T10:43:15.349Z"
   },
   {
    "duration": 12,
    "start_time": "2024-03-17T10:43:19.180Z"
   },
   {
    "duration": 7,
    "start_time": "2024-03-17T10:43:36.212Z"
   },
   {
    "duration": 80,
    "start_time": "2024-03-17T10:46:50.055Z"
   },
   {
    "duration": 148,
    "start_time": "2024-03-17T10:46:53.464Z"
   },
   {
    "duration": 13,
    "start_time": "2024-03-17T10:46:57.043Z"
   },
   {
    "duration": 33,
    "start_time": "2024-03-17T10:49:23.669Z"
   },
   {
    "duration": 52,
    "start_time": "2024-03-17T10:49:25.780Z"
   },
   {
    "duration": 88,
    "start_time": "2024-03-17T10:50:28.702Z"
   },
   {
    "duration": 10,
    "start_time": "2024-03-17T10:50:46.519Z"
   },
   {
    "duration": 180,
    "start_time": "2024-03-17T10:50:50.476Z"
   },
   {
    "duration": 11,
    "start_time": "2024-03-17T10:51:25.968Z"
   },
   {
    "duration": 1090,
    "start_time": "2024-03-17T10:51:30.639Z"
   },
   {
    "duration": 100,
    "start_time": "2024-03-17T10:51:31.758Z"
   },
   {
    "duration": 117,
    "start_time": "2024-03-17T10:51:50.715Z"
   },
   {
    "duration": 84,
    "start_time": "2024-03-17T10:52:09.299Z"
   },
   {
    "duration": 24,
    "start_time": "2024-03-17T10:52:13.370Z"
   },
   {
    "duration": 13,
    "start_time": "2024-03-17T10:52:14.819Z"
   },
   {
    "duration": 24,
    "start_time": "2024-03-17T10:52:20.182Z"
   },
   {
    "duration": 27,
    "start_time": "2024-03-17T10:52:36.963Z"
   },
   {
    "duration": 24,
    "start_time": "2024-03-17T10:52:38.397Z"
   },
   {
    "duration": 26,
    "start_time": "2024-03-17T10:53:09.506Z"
   },
   {
    "duration": 13,
    "start_time": "2024-03-17T10:53:12.496Z"
   },
   {
    "duration": 30,
    "start_time": "2024-03-17T10:53:13.889Z"
   },
   {
    "duration": 37,
    "start_time": "2024-03-17T10:53:15.591Z"
   },
   {
    "duration": 212,
    "start_time": "2024-03-17T10:53:16.812Z"
   },
   {
    "duration": 27,
    "start_time": "2024-03-17T10:53:30.349Z"
   },
   {
    "duration": 23,
    "start_time": "2024-03-17T10:53:40.627Z"
   },
   {
    "duration": 12,
    "start_time": "2024-03-17T10:53:41.656Z"
   },
   {
    "duration": 32,
    "start_time": "2024-03-17T10:53:43.241Z"
   },
   {
    "duration": 203,
    "start_time": "2024-03-17T10:53:43.881Z"
   },
   {
    "duration": 9,
    "start_time": "2024-03-17T10:57:49.883Z"
   },
   {
    "duration": 9,
    "start_time": "2024-03-17T10:57:57.756Z"
   },
   {
    "duration": 7,
    "start_time": "2024-03-17T10:58:19.743Z"
   },
   {
    "duration": 12,
    "start_time": "2024-03-17T10:59:25.580Z"
   },
   {
    "duration": 17,
    "start_time": "2024-03-17T10:59:49.482Z"
   },
   {
    "duration": 12,
    "start_time": "2024-03-17T10:59:56.339Z"
   },
   {
    "duration": 267,
    "start_time": "2024-03-17T11:00:04.629Z"
   },
   {
    "duration": 274,
    "start_time": "2024-03-17T11:00:08.315Z"
   },
   {
    "duration": 292,
    "start_time": "2024-03-17T11:00:24.401Z"
   },
   {
    "duration": 344,
    "start_time": "2024-03-17T11:02:29.707Z"
   },
   {
    "duration": 23,
    "start_time": "2024-03-17T11:07:27.896Z"
   },
   {
    "duration": 1261,
    "start_time": "2024-03-17T12:05:13.992Z"
   },
   {
    "duration": 2,
    "start_time": "2024-03-17T12:05:15.255Z"
   },
   {
    "duration": 40,
    "start_time": "2024-03-17T12:05:15.259Z"
   },
   {
    "duration": 840,
    "start_time": "2024-03-17T12:05:15.301Z"
   },
   {
    "duration": 147,
    "start_time": "2024-03-17T12:05:16.143Z"
   },
   {
    "duration": 810,
    "start_time": "2024-03-17T12:05:16.292Z"
   },
   {
    "duration": 951,
    "start_time": "2024-03-17T12:05:17.103Z"
   },
   {
    "duration": 16,
    "start_time": "2024-03-17T12:05:18.056Z"
   },
   {
    "duration": 197,
    "start_time": "2024-03-17T12:05:18.073Z"
   },
   {
    "duration": 1237,
    "start_time": "2024-03-17T12:05:18.271Z"
   },
   {
    "duration": 24,
    "start_time": "2024-03-17T12:05:19.510Z"
   },
   {
    "duration": 131,
    "start_time": "2024-03-17T12:05:19.545Z"
   },
   {
    "duration": 56,
    "start_time": "2024-03-17T12:05:19.677Z"
   },
   {
    "duration": 117,
    "start_time": "2024-03-17T12:05:19.735Z"
   },
   {
    "duration": 13,
    "start_time": "2024-03-17T12:05:19.854Z"
   },
   {
    "duration": 19,
    "start_time": "2024-03-17T12:05:19.868Z"
   },
   {
    "duration": 76,
    "start_time": "2024-03-17T12:05:19.888Z"
   },
   {
    "duration": 169,
    "start_time": "2024-03-17T12:05:19.965Z"
   },
   {
    "duration": 16,
    "start_time": "2024-03-17T12:05:20.135Z"
   },
   {
    "duration": 21,
    "start_time": "2024-03-17T12:05:20.152Z"
   },
   {
    "duration": 774,
    "start_time": "2024-03-17T12:05:20.175Z"
   },
   {
    "duration": 15,
    "start_time": "2024-03-17T12:05:20.950Z"
   },
   {
    "duration": 93,
    "start_time": "2024-03-17T12:05:20.966Z"
   },
   {
    "duration": 152,
    "start_time": "2024-03-17T12:05:21.060Z"
   },
   {
    "duration": 13,
    "start_time": "2024-03-17T12:05:21.213Z"
   },
   {
    "duration": 47,
    "start_time": "2024-03-17T12:05:21.227Z"
   },
   {
    "duration": 43,
    "start_time": "2024-03-17T12:05:21.275Z"
   },
   {
    "duration": 49,
    "start_time": "2024-03-17T12:05:21.319Z"
   },
   {
    "duration": 101,
    "start_time": "2024-03-17T12:05:21.369Z"
   },
   {
    "duration": 12,
    "start_time": "2024-03-17T12:05:21.471Z"
   },
   {
    "duration": 1129,
    "start_time": "2024-03-17T12:05:21.484Z"
   },
   {
    "duration": 100,
    "start_time": "2024-03-17T12:05:22.614Z"
   },
   {
    "duration": 127,
    "start_time": "2024-03-17T12:05:22.715Z"
   },
   {
    "duration": 85,
    "start_time": "2024-03-17T12:05:22.844Z"
   },
   {
    "duration": 36,
    "start_time": "2024-03-17T12:05:22.931Z"
   },
   {
    "duration": 14,
    "start_time": "2024-03-17T12:05:22.969Z"
   },
   {
    "duration": 29,
    "start_time": "2024-03-17T12:05:22.985Z"
   },
   {
    "duration": 38,
    "start_time": "2024-03-17T12:05:23.015Z"
   },
   {
    "duration": 40,
    "start_time": "2024-03-17T12:05:23.054Z"
   },
   {
    "duration": 25,
    "start_time": "2024-03-17T12:05:23.095Z"
   },
   {
    "duration": 24,
    "start_time": "2024-03-17T12:05:23.123Z"
   },
   {
    "duration": 24,
    "start_time": "2024-03-17T12:05:23.148Z"
   },
   {
    "duration": 36,
    "start_time": "2024-03-17T12:05:23.173Z"
   },
   {
    "duration": 322,
    "start_time": "2024-03-17T12:05:23.210Z"
   },
   {
    "duration": 29,
    "start_time": "2024-03-17T12:05:23.533Z"
   },
   {
    "duration": 42,
    "start_time": "2024-03-17T12:05:23.563Z"
   },
   {
    "duration": 36,
    "start_time": "2024-03-17T12:05:23.606Z"
   },
   {
    "duration": 49,
    "start_time": "2024-03-17T12:05:23.643Z"
   },
   {
    "duration": 212,
    "start_time": "2024-03-17T12:05:23.694Z"
   },
   {
    "duration": 10,
    "start_time": "2024-03-17T12:05:23.908Z"
   },
   {
    "duration": 347,
    "start_time": "2024-03-17T12:05:23.919Z"
   },
   {
    "duration": 25,
    "start_time": "2024-03-17T12:05:24.267Z"
   },
   {
    "duration": 86,
    "start_time": "2024-03-17T12:05:24.293Z"
   },
   {
    "duration": 55,
    "start_time": "2024-03-17T12:06:10.693Z"
   },
   {
    "duration": 14,
    "start_time": "2024-03-17T12:06:29.734Z"
   },
   {
    "duration": 28,
    "start_time": "2024-03-17T12:06:38.445Z"
   },
   {
    "duration": 6,
    "start_time": "2024-03-17T12:06:46.916Z"
   },
   {
    "duration": 5,
    "start_time": "2024-03-17T12:06:53.466Z"
   },
   {
    "duration": 6,
    "start_time": "2024-03-17T12:06:57.912Z"
   },
   {
    "duration": 4,
    "start_time": "2024-03-17T12:07:46.805Z"
   },
   {
    "duration": 5,
    "start_time": "2024-03-17T12:07:54.191Z"
   },
   {
    "duration": 4,
    "start_time": "2024-03-17T12:08:28.272Z"
   },
   {
    "duration": 5,
    "start_time": "2024-03-17T12:08:39.273Z"
   },
   {
    "duration": 8,
    "start_time": "2024-03-17T12:11:03.346Z"
   },
   {
    "duration": 6,
    "start_time": "2024-03-17T12:12:37.597Z"
   },
   {
    "duration": 98,
    "start_time": "2024-03-17T12:13:25.057Z"
   },
   {
    "duration": 4,
    "start_time": "2024-03-17T12:14:26.444Z"
   },
   {
    "duration": 4,
    "start_time": "2024-03-17T12:14:29.598Z"
   },
   {
    "duration": 8,
    "start_time": "2024-03-17T12:14:34.301Z"
   },
   {
    "duration": 23,
    "start_time": "2024-03-17T12:18:49.194Z"
   },
   {
    "duration": 11,
    "start_time": "2024-03-17T12:23:35.757Z"
   },
   {
    "duration": 7,
    "start_time": "2024-03-17T12:25:47.089Z"
   },
   {
    "duration": 3,
    "start_time": "2024-03-17T12:26:07.490Z"
   },
   {
    "duration": 20,
    "start_time": "2024-03-17T12:33:52.184Z"
   },
   {
    "duration": 2,
    "start_time": "2024-03-17T12:34:00.111Z"
   },
   {
    "duration": 4,
    "start_time": "2024-03-17T12:34:09.541Z"
   },
   {
    "duration": 2,
    "start_time": "2024-03-17T12:35:39.395Z"
   },
   {
    "duration": 2,
    "start_time": "2024-03-17T12:37:16.952Z"
   },
   {
    "duration": 3,
    "start_time": "2024-03-17T12:38:06.352Z"
   },
   {
    "duration": 68,
    "start_time": "2024-03-17T12:47:10.007Z"
   },
   {
    "duration": 12,
    "start_time": "2024-03-17T12:47:26.619Z"
   },
   {
    "duration": 10,
    "start_time": "2024-03-17T12:47:42.372Z"
   },
   {
    "duration": 10,
    "start_time": "2024-03-17T12:48:00.852Z"
   },
   {
    "duration": 10,
    "start_time": "2024-03-17T12:48:07.381Z"
   },
   {
    "duration": 4,
    "start_time": "2024-03-17T12:48:35.577Z"
   },
   {
    "duration": 5,
    "start_time": "2024-03-17T12:48:39.925Z"
   },
   {
    "duration": 13,
    "start_time": "2024-03-17T12:49:36.832Z"
   },
   {
    "duration": 4,
    "start_time": "2024-03-17T12:50:38.783Z"
   },
   {
    "duration": 12,
    "start_time": "2024-03-17T12:50:40.866Z"
   },
   {
    "duration": 4,
    "start_time": "2024-03-17T12:52:07.828Z"
   },
   {
    "duration": 16,
    "start_time": "2024-03-17T12:52:10.039Z"
   },
   {
    "duration": 4,
    "start_time": "2024-03-17T12:53:32.293Z"
   },
   {
    "duration": 29,
    "start_time": "2024-03-17T12:53:34.186Z"
   },
   {
    "duration": 5,
    "start_time": "2024-03-17T12:54:31.919Z"
   },
   {
    "duration": 13,
    "start_time": "2024-03-17T12:54:33.049Z"
   },
   {
    "duration": 3,
    "start_time": "2024-03-17T12:55:43.252Z"
   },
   {
    "duration": 3,
    "start_time": "2024-03-17T12:56:04.402Z"
   },
   {
    "duration": 4,
    "start_time": "2024-03-17T12:56:17.325Z"
   },
   {
    "duration": 25,
    "start_time": "2024-03-17T12:56:19.672Z"
   },
   {
    "duration": 8,
    "start_time": "2024-03-17T12:57:58.109Z"
   },
   {
    "duration": 1300,
    "start_time": "2024-03-17T12:58:05.408Z"
   },
   {
    "duration": 3,
    "start_time": "2024-03-17T12:58:06.709Z"
   },
   {
    "duration": 4,
    "start_time": "2024-03-17T12:58:06.713Z"
   },
   {
    "duration": 798,
    "start_time": "2024-03-17T12:58:06.719Z"
   },
   {
    "duration": 155,
    "start_time": "2024-03-17T12:58:07.519Z"
   },
   {
    "duration": 796,
    "start_time": "2024-03-17T12:58:07.676Z"
   },
   {
    "duration": 890,
    "start_time": "2024-03-17T12:58:08.474Z"
   },
   {
    "duration": 16,
    "start_time": "2024-03-17T12:58:09.366Z"
   },
   {
    "duration": 180,
    "start_time": "2024-03-17T12:58:09.384Z"
   },
   {
    "duration": 1199,
    "start_time": "2024-03-17T12:58:09.566Z"
   },
   {
    "duration": 29,
    "start_time": "2024-03-17T12:58:10.767Z"
   },
   {
    "duration": 129,
    "start_time": "2024-03-17T12:58:10.797Z"
   },
   {
    "duration": 62,
    "start_time": "2024-03-17T12:58:10.927Z"
   },
   {
    "duration": 104,
    "start_time": "2024-03-17T12:58:10.990Z"
   },
   {
    "duration": 12,
    "start_time": "2024-03-17T12:58:11.096Z"
   },
   {
    "duration": 18,
    "start_time": "2024-03-17T12:58:11.109Z"
   },
   {
    "duration": 63,
    "start_time": "2024-03-17T12:58:11.128Z"
   },
   {
    "duration": 158,
    "start_time": "2024-03-17T12:58:11.193Z"
   },
   {
    "duration": 12,
    "start_time": "2024-03-17T12:58:11.352Z"
   },
   {
    "duration": 18,
    "start_time": "2024-03-17T12:58:11.365Z"
   },
   {
    "duration": 761,
    "start_time": "2024-03-17T12:58:11.384Z"
   },
   {
    "duration": 13,
    "start_time": "2024-03-17T12:58:12.147Z"
   },
   {
    "duration": 89,
    "start_time": "2024-03-17T12:58:12.162Z"
   },
   {
    "duration": 149,
    "start_time": "2024-03-17T12:58:12.253Z"
   },
   {
    "duration": 12,
    "start_time": "2024-03-17T12:58:12.403Z"
   },
   {
    "duration": 43,
    "start_time": "2024-03-17T12:58:12.416Z"
   },
   {
    "duration": 41,
    "start_time": "2024-03-17T12:58:12.461Z"
   },
   {
    "duration": 53,
    "start_time": "2024-03-17T12:58:12.505Z"
   },
   {
    "duration": 95,
    "start_time": "2024-03-17T12:58:12.560Z"
   },
   {
    "duration": 11,
    "start_time": "2024-03-17T12:58:12.656Z"
   },
   {
    "duration": 1079,
    "start_time": "2024-03-17T12:58:12.669Z"
   },
   {
    "duration": 100,
    "start_time": "2024-03-17T12:58:13.749Z"
   },
   {
    "duration": 122,
    "start_time": "2024-03-17T12:58:13.851Z"
   },
   {
    "duration": 87,
    "start_time": "2024-03-17T12:58:13.974Z"
   },
   {
    "duration": 24,
    "start_time": "2024-03-17T12:58:14.062Z"
   },
   {
    "duration": 29,
    "start_time": "2024-03-17T12:58:14.087Z"
   },
   {
    "duration": 27,
    "start_time": "2024-03-17T12:58:14.117Z"
   },
   {
    "duration": 25,
    "start_time": "2024-03-17T12:58:14.145Z"
   },
   {
    "duration": 24,
    "start_time": "2024-03-17T12:58:14.171Z"
   },
   {
    "duration": 26,
    "start_time": "2024-03-17T12:58:14.197Z"
   },
   {
    "duration": 26,
    "start_time": "2024-03-17T12:58:14.224Z"
   },
   {
    "duration": 51,
    "start_time": "2024-03-17T12:58:14.251Z"
   },
   {
    "duration": 37,
    "start_time": "2024-03-17T12:58:14.303Z"
   },
   {
    "duration": 314,
    "start_time": "2024-03-17T12:58:14.341Z"
   },
   {
    "duration": 26,
    "start_time": "2024-03-17T12:58:14.657Z"
   },
   {
    "duration": 27,
    "start_time": "2024-03-17T12:58:14.684Z"
   },
   {
    "duration": 27,
    "start_time": "2024-03-17T12:58:14.713Z"
   },
   {
    "duration": 24,
    "start_time": "2024-03-17T12:58:14.744Z"
   },
   {
    "duration": 208,
    "start_time": "2024-03-17T12:58:14.770Z"
   },
   {
    "duration": 10,
    "start_time": "2024-03-17T12:58:14.980Z"
   },
   {
    "duration": 336,
    "start_time": "2024-03-17T12:58:14.992Z"
   },
   {
    "duration": 26,
    "start_time": "2024-03-17T12:58:15.330Z"
   },
   {
    "duration": 67,
    "start_time": "2024-03-17T12:58:15.358Z"
   },
   {
    "duration": 5,
    "start_time": "2024-03-17T12:58:15.426Z"
   },
   {
    "duration": 37,
    "start_time": "2024-03-17T12:58:15.433Z"
   },
   {
    "duration": 28,
    "start_time": "2024-03-17T12:58:15.471Z"
   },
   {
    "duration": 41,
    "start_time": "2024-03-17T12:58:15.500Z"
   },
   {
    "duration": 36,
    "start_time": "2024-03-17T12:58:15.542Z"
   },
   {
    "duration": 130,
    "start_time": "2024-03-17T12:58:15.579Z"
   },
   {
    "duration": 0,
    "start_time": "2024-03-17T12:58:15.710Z"
   },
   {
    "duration": 3,
    "start_time": "2024-03-17T12:58:50.033Z"
   },
   {
    "duration": 26,
    "start_time": "2024-03-17T12:58:54.219Z"
   },
   {
    "duration": 5,
    "start_time": "2024-03-17T13:02:21.720Z"
   },
   {
    "duration": 26,
    "start_time": "2024-03-17T13:02:23.312Z"
   },
   {
    "duration": 4,
    "start_time": "2024-03-17T13:02:41.002Z"
   },
   {
    "duration": 60,
    "start_time": "2024-03-17T13:02:42.367Z"
   },
   {
    "duration": 20,
    "start_time": "2024-03-17T13:05:07.592Z"
   },
   {
    "duration": 37,
    "start_time": "2024-03-17T13:06:29.525Z"
   },
   {
    "duration": 26,
    "start_time": "2024-03-17T13:06:47.745Z"
   },
   {
    "duration": 13,
    "start_time": "2024-03-17T13:07:03.606Z"
   },
   {
    "duration": 29,
    "start_time": "2024-03-17T13:07:42.825Z"
   },
   {
    "duration": 6,
    "start_time": "2024-03-17T13:08:15.799Z"
   },
   {
    "duration": 54,
    "start_time": "2024-03-17T13:08:17.340Z"
   },
   {
    "duration": 19,
    "start_time": "2024-03-17T13:08:25.840Z"
   },
   {
    "duration": 1286,
    "start_time": "2024-03-17T13:08:36.598Z"
   },
   {
    "duration": 2,
    "start_time": "2024-03-17T13:08:37.886Z"
   },
   {
    "duration": 6,
    "start_time": "2024-03-17T13:08:37.889Z"
   },
   {
    "duration": 782,
    "start_time": "2024-03-17T13:08:37.896Z"
   },
   {
    "duration": 148,
    "start_time": "2024-03-17T13:08:38.680Z"
   },
   {
    "duration": 839,
    "start_time": "2024-03-17T13:08:38.830Z"
   },
   {
    "duration": 856,
    "start_time": "2024-03-17T13:08:39.670Z"
   },
   {
    "duration": 19,
    "start_time": "2024-03-17T13:08:40.528Z"
   },
   {
    "duration": 164,
    "start_time": "2024-03-17T13:08:40.548Z"
   },
   {
    "duration": 1193,
    "start_time": "2024-03-17T13:08:40.715Z"
   },
   {
    "duration": 25,
    "start_time": "2024-03-17T13:08:41.909Z"
   },
   {
    "duration": 120,
    "start_time": "2024-03-17T13:08:41.944Z"
   },
   {
    "duration": 46,
    "start_time": "2024-03-17T13:08:42.066Z"
   },
   {
    "duration": 108,
    "start_time": "2024-03-17T13:08:42.113Z"
   },
   {
    "duration": 12,
    "start_time": "2024-03-17T13:08:42.222Z"
   },
   {
    "duration": 17,
    "start_time": "2024-03-17T13:08:42.245Z"
   },
   {
    "duration": 47,
    "start_time": "2024-03-17T13:08:42.264Z"
   },
   {
    "duration": 165,
    "start_time": "2024-03-17T13:08:42.312Z"
   },
   {
    "duration": 12,
    "start_time": "2024-03-17T13:08:42.478Z"
   },
   {
    "duration": 19,
    "start_time": "2024-03-17T13:08:42.491Z"
   },
   {
    "duration": 753,
    "start_time": "2024-03-17T13:08:42.512Z"
   },
   {
    "duration": 15,
    "start_time": "2024-03-17T13:08:43.266Z"
   },
   {
    "duration": 88,
    "start_time": "2024-03-17T13:08:43.282Z"
   },
   {
    "duration": 166,
    "start_time": "2024-03-17T13:08:43.371Z"
   },
   {
    "duration": 16,
    "start_time": "2024-03-17T13:08:43.539Z"
   },
   {
    "duration": 42,
    "start_time": "2024-03-17T13:08:43.556Z"
   },
   {
    "duration": 51,
    "start_time": "2024-03-17T13:08:43.600Z"
   },
   {
    "duration": 41,
    "start_time": "2024-03-17T13:08:43.655Z"
   },
   {
    "duration": 104,
    "start_time": "2024-03-17T13:08:43.697Z"
   },
   {
    "duration": 11,
    "start_time": "2024-03-17T13:08:43.803Z"
   },
   {
    "duration": 1111,
    "start_time": "2024-03-17T13:08:43.815Z"
   },
   {
    "duration": 94,
    "start_time": "2024-03-17T13:08:44.927Z"
   },
   {
    "duration": 124,
    "start_time": "2024-03-17T13:08:45.022Z"
   },
   {
    "duration": 86,
    "start_time": "2024-03-17T13:08:45.147Z"
   },
   {
    "duration": 25,
    "start_time": "2024-03-17T13:08:45.244Z"
   },
   {
    "duration": 24,
    "start_time": "2024-03-17T13:08:45.270Z"
   },
   {
    "duration": 69,
    "start_time": "2024-03-17T13:08:45.295Z"
   },
   {
    "duration": 214,
    "start_time": "2024-03-17T13:08:45.366Z"
   },
   {
    "duration": 64,
    "start_time": "2024-03-17T13:08:45.582Z"
   },
   {
    "duration": 50,
    "start_time": "2024-03-17T13:08:45.648Z"
   },
   {
    "duration": 26,
    "start_time": "2024-03-17T13:08:45.700Z"
   },
   {
    "duration": 39,
    "start_time": "2024-03-17T13:08:45.727Z"
   },
   {
    "duration": 35,
    "start_time": "2024-03-17T13:08:45.767Z"
   },
   {
    "duration": 20,
    "start_time": "2024-03-17T13:08:45.804Z"
   },
   {
    "duration": 26,
    "start_time": "2024-03-17T13:08:45.826Z"
   },
   {
    "duration": 37,
    "start_time": "2024-03-17T13:08:45.853Z"
   },
   {
    "duration": 319,
    "start_time": "2024-03-17T13:08:45.892Z"
   },
   {
    "duration": 27,
    "start_time": "2024-03-17T13:08:46.212Z"
   },
   {
    "duration": 27,
    "start_time": "2024-03-17T13:08:46.240Z"
   },
   {
    "duration": 15,
    "start_time": "2024-03-17T13:08:46.268Z"
   },
   {
    "duration": 26,
    "start_time": "2024-03-17T13:08:46.284Z"
   },
   {
    "duration": 229,
    "start_time": "2024-03-17T13:08:46.311Z"
   },
   {
    "duration": 11,
    "start_time": "2024-03-17T13:08:46.544Z"
   },
   {
    "duration": 338,
    "start_time": "2024-03-17T13:08:46.557Z"
   },
   {
    "duration": 22,
    "start_time": "2024-03-17T13:08:46.896Z"
   },
   {
    "duration": 65,
    "start_time": "2024-03-17T13:08:46.919Z"
   },
   {
    "duration": 4,
    "start_time": "2024-03-17T13:08:46.985Z"
   },
   {
    "duration": 8,
    "start_time": "2024-03-17T13:08:46.991Z"
   },
   {
    "duration": 12,
    "start_time": "2024-03-17T13:08:47.000Z"
   },
   {
    "duration": 8,
    "start_time": "2024-03-17T13:08:47.014Z"
   },
   {
    "duration": 28,
    "start_time": "2024-03-17T13:08:47.023Z"
   },
   {
    "duration": 18,
    "start_time": "2024-03-17T13:08:47.053Z"
   },
   {
    "duration": 171,
    "start_time": "2024-03-17T13:08:47.072Z"
   },
   {
    "duration": 0,
    "start_time": "2024-03-17T13:08:47.246Z"
   },
   {
    "duration": 3,
    "start_time": "2024-03-17T13:09:53.373Z"
   },
   {
    "duration": 79,
    "start_time": "2024-03-17T13:09:54.574Z"
   },
   {
    "duration": 4,
    "start_time": "2024-03-17T13:10:32.256Z"
   },
   {
    "duration": 77,
    "start_time": "2024-03-17T13:10:34.409Z"
   },
   {
    "duration": 4,
    "start_time": "2024-03-17T13:10:39.065Z"
   },
   {
    "duration": 78,
    "start_time": "2024-03-17T13:10:40.326Z"
   },
   {
    "duration": 5,
    "start_time": "2024-03-17T13:10:54.987Z"
   },
   {
    "duration": 6,
    "start_time": "2024-03-17T13:13:21.926Z"
   },
   {
    "duration": 8,
    "start_time": "2024-03-17T13:13:25.082Z"
   },
   {
    "duration": 3,
    "start_time": "2024-03-17T13:13:28.360Z"
   },
   {
    "duration": 4,
    "start_time": "2024-03-17T13:13:29.145Z"
   },
   {
    "duration": 143,
    "start_time": "2024-03-17T13:13:30.611Z"
   },
   {
    "duration": 5,
    "start_time": "2024-03-17T13:15:21.465Z"
   },
   {
    "duration": 145,
    "start_time": "2024-03-17T13:15:23.242Z"
   },
   {
    "duration": 1381,
    "start_time": "2024-03-17T13:16:06.357Z"
   },
   {
    "duration": 6,
    "start_time": "2024-03-17T13:16:07.739Z"
   },
   {
    "duration": 5,
    "start_time": "2024-03-17T13:16:07.746Z"
   },
   {
    "duration": 778,
    "start_time": "2024-03-17T13:16:07.753Z"
   },
   {
    "duration": 176,
    "start_time": "2024-03-17T13:16:08.533Z"
   },
   {
    "duration": 835,
    "start_time": "2024-03-17T13:16:08.710Z"
   },
   {
    "duration": 908,
    "start_time": "2024-03-17T13:16:09.547Z"
   },
   {
    "duration": 15,
    "start_time": "2024-03-17T13:16:10.456Z"
   },
   {
    "duration": 173,
    "start_time": "2024-03-17T13:16:10.473Z"
   },
   {
    "duration": 1235,
    "start_time": "2024-03-17T13:16:10.648Z"
   },
   {
    "duration": 25,
    "start_time": "2024-03-17T13:16:11.885Z"
   },
   {
    "duration": 130,
    "start_time": "2024-03-17T13:16:11.912Z"
   },
   {
    "duration": 60,
    "start_time": "2024-03-17T13:16:12.045Z"
   },
   {
    "duration": 124,
    "start_time": "2024-03-17T13:16:12.107Z"
   },
   {
    "duration": 16,
    "start_time": "2024-03-17T13:16:12.233Z"
   },
   {
    "duration": 19,
    "start_time": "2024-03-17T13:16:12.250Z"
   },
   {
    "duration": 56,
    "start_time": "2024-03-17T13:16:12.270Z"
   },
   {
    "duration": 162,
    "start_time": "2024-03-17T13:16:12.345Z"
   },
   {
    "duration": 12,
    "start_time": "2024-03-17T13:16:12.509Z"
   },
   {
    "duration": 32,
    "start_time": "2024-03-17T13:16:12.522Z"
   },
   {
    "duration": 771,
    "start_time": "2024-03-17T13:16:12.556Z"
   },
   {
    "duration": 21,
    "start_time": "2024-03-17T13:16:13.328Z"
   },
   {
    "duration": 77,
    "start_time": "2024-03-17T13:16:13.351Z"
   },
   {
    "duration": 174,
    "start_time": "2024-03-17T13:16:13.430Z"
   },
   {
    "duration": 14,
    "start_time": "2024-03-17T13:16:13.606Z"
   },
   {
    "duration": 51,
    "start_time": "2024-03-17T13:16:13.621Z"
   },
   {
    "duration": 43,
    "start_time": "2024-03-17T13:16:13.674Z"
   },
   {
    "duration": 56,
    "start_time": "2024-03-17T13:16:13.720Z"
   },
   {
    "duration": 110,
    "start_time": "2024-03-17T13:16:13.778Z"
   },
   {
    "duration": 12,
    "start_time": "2024-03-17T13:16:13.890Z"
   },
   {
    "duration": 1143,
    "start_time": "2024-03-17T13:16:13.903Z"
   },
   {
    "duration": 102,
    "start_time": "2024-03-17T13:16:15.047Z"
   },
   {
    "duration": 126,
    "start_time": "2024-03-17T13:16:15.150Z"
   },
   {
    "duration": 87,
    "start_time": "2024-03-17T13:16:15.278Z"
   },
   {
    "duration": 26,
    "start_time": "2024-03-17T13:16:15.366Z"
   },
   {
    "duration": 67,
    "start_time": "2024-03-17T13:16:15.393Z"
   },
   {
    "duration": 42,
    "start_time": "2024-03-17T13:16:15.462Z"
   },
   {
    "duration": 28,
    "start_time": "2024-03-17T13:16:15.506Z"
   },
   {
    "duration": 23,
    "start_time": "2024-03-17T13:16:15.535Z"
   },
   {
    "duration": 42,
    "start_time": "2024-03-17T13:16:15.559Z"
   },
   {
    "duration": 31,
    "start_time": "2024-03-17T13:16:15.603Z"
   },
   {
    "duration": 63,
    "start_time": "2024-03-17T13:16:15.635Z"
   },
   {
    "duration": 26,
    "start_time": "2024-03-17T13:16:15.699Z"
   },
   {
    "duration": 19,
    "start_time": "2024-03-17T13:16:15.726Z"
   },
   {
    "duration": 31,
    "start_time": "2024-03-17T13:16:15.746Z"
   },
   {
    "duration": 37,
    "start_time": "2024-03-17T13:16:15.779Z"
   },
   {
    "duration": 314,
    "start_time": "2024-03-17T13:16:15.818Z"
   },
   {
    "duration": 32,
    "start_time": "2024-03-17T13:16:16.134Z"
   },
   {
    "duration": 43,
    "start_time": "2024-03-17T13:16:16.167Z"
   },
   {
    "duration": 14,
    "start_time": "2024-03-17T13:16:16.211Z"
   },
   {
    "duration": 31,
    "start_time": "2024-03-17T13:16:16.226Z"
   },
   {
    "duration": 204,
    "start_time": "2024-03-17T13:16:16.259Z"
   },
   {
    "duration": 12,
    "start_time": "2024-03-17T13:16:16.464Z"
   },
   {
    "duration": 311,
    "start_time": "2024-03-17T13:16:16.478Z"
   },
   {
    "duration": 20,
    "start_time": "2024-03-17T13:16:16.790Z"
   },
   {
    "duration": 58,
    "start_time": "2024-03-17T13:16:16.812Z"
   },
   {
    "duration": 4,
    "start_time": "2024-03-17T13:16:16.872Z"
   },
   {
    "duration": 9,
    "start_time": "2024-03-17T13:16:16.877Z"
   },
   {
    "duration": 20,
    "start_time": "2024-03-17T13:16:16.887Z"
   },
   {
    "duration": 14,
    "start_time": "2024-03-17T13:16:16.908Z"
   },
   {
    "duration": 14,
    "start_time": "2024-03-17T13:16:16.923Z"
   },
   {
    "duration": 239,
    "start_time": "2024-03-17T13:16:16.938Z"
   },
   {
    "duration": 0,
    "start_time": "2024-03-17T13:16:17.179Z"
   },
   {
    "duration": 8,
    "start_time": "2024-03-17T13:17:35.931Z"
   },
   {
    "duration": 8,
    "start_time": "2024-03-17T13:17:36.857Z"
   },
   {
    "duration": 3,
    "start_time": "2024-03-17T13:17:37.566Z"
   },
   {
    "duration": 6,
    "start_time": "2024-03-17T13:17:38.505Z"
   },
   {
    "duration": 48687,
    "start_time": "2024-03-17T13:17:40.058Z"
   },
   {
    "duration": 4,
    "start_time": "2024-03-17T13:18:43.510Z"
   },
   {
    "duration": 110495,
    "start_time": "2024-03-17T13:18:44.758Z"
   },
   {
    "duration": 7,
    "start_time": "2024-03-17T13:20:58.868Z"
   },
   {
    "duration": 3,
    "start_time": "2024-03-17T13:21:28.880Z"
   },
   {
    "duration": 112,
    "start_time": "2024-03-17T13:22:21.223Z"
   },
   {
    "duration": 125,
    "start_time": "2024-03-17T13:22:34.136Z"
   },
   {
    "duration": 133,
    "start_time": "2024-03-17T13:23:41.872Z"
   },
   {
    "duration": 136,
    "start_time": "2024-03-17T13:24:24.982Z"
   },
   {
    "duration": 1310,
    "start_time": "2024-03-17T13:25:34.357Z"
   },
   {
    "duration": 2,
    "start_time": "2024-03-17T13:25:35.669Z"
   },
   {
    "duration": 6,
    "start_time": "2024-03-17T13:25:35.673Z"
   },
   {
    "duration": 755,
    "start_time": "2024-03-17T13:25:35.680Z"
   },
   {
    "duration": 153,
    "start_time": "2024-03-17T13:25:36.436Z"
   },
   {
    "duration": 820,
    "start_time": "2024-03-17T13:25:36.591Z"
   },
   {
    "duration": 916,
    "start_time": "2024-03-17T13:25:37.412Z"
   },
   {
    "duration": 26,
    "start_time": "2024-03-17T13:25:38.330Z"
   },
   {
    "duration": 163,
    "start_time": "2024-03-17T13:25:38.357Z"
   },
   {
    "duration": 1235,
    "start_time": "2024-03-17T13:25:38.522Z"
   },
   {
    "duration": 24,
    "start_time": "2024-03-17T13:25:39.758Z"
   },
   {
    "duration": 126,
    "start_time": "2024-03-17T13:25:39.783Z"
   },
   {
    "duration": 60,
    "start_time": "2024-03-17T13:25:39.911Z"
   },
   {
    "duration": 105,
    "start_time": "2024-03-17T13:25:39.974Z"
   },
   {
    "duration": 13,
    "start_time": "2024-03-17T13:25:40.080Z"
   },
   {
    "duration": 19,
    "start_time": "2024-03-17T13:25:40.094Z"
   },
   {
    "duration": 71,
    "start_time": "2024-03-17T13:25:40.114Z"
   },
   {
    "duration": 160,
    "start_time": "2024-03-17T13:25:40.186Z"
   },
   {
    "duration": 11,
    "start_time": "2024-03-17T13:25:40.348Z"
   },
   {
    "duration": 19,
    "start_time": "2024-03-17T13:25:40.360Z"
   },
   {
    "duration": 740,
    "start_time": "2024-03-17T13:25:40.381Z"
   },
   {
    "duration": 22,
    "start_time": "2024-03-17T13:25:41.123Z"
   },
   {
    "duration": 78,
    "start_time": "2024-03-17T13:25:41.147Z"
   },
   {
    "duration": 160,
    "start_time": "2024-03-17T13:25:41.227Z"
   },
   {
    "duration": 12,
    "start_time": "2024-03-17T13:25:41.389Z"
   },
   {
    "duration": 45,
    "start_time": "2024-03-17T13:25:41.402Z"
   },
   {
    "duration": 48,
    "start_time": "2024-03-17T13:25:41.449Z"
   },
   {
    "duration": 62,
    "start_time": "2024-03-17T13:25:41.499Z"
   },
   {
    "duration": 108,
    "start_time": "2024-03-17T13:25:41.562Z"
   },
   {
    "duration": 14,
    "start_time": "2024-03-17T13:25:41.671Z"
   },
   {
    "duration": 1138,
    "start_time": "2024-03-17T13:25:41.686Z"
   },
   {
    "duration": 104,
    "start_time": "2024-03-17T13:25:42.826Z"
   },
   {
    "duration": 120,
    "start_time": "2024-03-17T13:25:42.931Z"
   },
   {
    "duration": 94,
    "start_time": "2024-03-17T13:25:43.052Z"
   },
   {
    "duration": 24,
    "start_time": "2024-03-17T13:25:43.147Z"
   },
   {
    "duration": 16,
    "start_time": "2024-03-17T13:25:43.173Z"
   },
   {
    "duration": 35,
    "start_time": "2024-03-17T13:25:43.190Z"
   },
   {
    "duration": 30,
    "start_time": "2024-03-17T13:25:43.227Z"
   },
   {
    "duration": 13,
    "start_time": "2024-03-17T13:25:43.258Z"
   },
   {
    "duration": 26,
    "start_time": "2024-03-17T13:25:43.273Z"
   },
   {
    "duration": 36,
    "start_time": "2024-03-17T13:25:43.303Z"
   },
   {
    "duration": 26,
    "start_time": "2024-03-17T13:25:43.340Z"
   },
   {
    "duration": 25,
    "start_time": "2024-03-17T13:25:43.367Z"
   },
   {
    "duration": 13,
    "start_time": "2024-03-17T13:25:43.393Z"
   },
   {
    "duration": 40,
    "start_time": "2024-03-17T13:25:43.407Z"
   },
   {
    "duration": 37,
    "start_time": "2024-03-17T13:25:43.448Z"
   },
   {
    "duration": 320,
    "start_time": "2024-03-17T13:25:43.487Z"
   },
   {
    "duration": 26,
    "start_time": "2024-03-17T13:25:43.808Z"
   },
   {
    "duration": 31,
    "start_time": "2024-03-17T13:25:43.836Z"
   },
   {
    "duration": 24,
    "start_time": "2024-03-17T13:25:43.868Z"
   },
   {
    "duration": 30,
    "start_time": "2024-03-17T13:25:43.893Z"
   },
   {
    "duration": 214,
    "start_time": "2024-03-17T13:25:43.925Z"
   },
   {
    "duration": 13,
    "start_time": "2024-03-17T13:25:44.140Z"
   },
   {
    "duration": 304,
    "start_time": "2024-03-17T13:25:44.155Z"
   },
   {
    "duration": 20,
    "start_time": "2024-03-17T13:25:44.460Z"
   },
   {
    "duration": 40,
    "start_time": "2024-03-17T13:25:44.481Z"
   },
   {
    "duration": 4,
    "start_time": "2024-03-17T13:25:44.523Z"
   },
   {
    "duration": 6,
    "start_time": "2024-03-17T13:25:44.545Z"
   },
   {
    "duration": 8,
    "start_time": "2024-03-17T13:25:44.552Z"
   },
   {
    "duration": 6,
    "start_time": "2024-03-17T13:25:44.561Z"
   },
   {
    "duration": 4,
    "start_time": "2024-03-17T13:25:44.569Z"
   },
   {
    "duration": 252,
    "start_time": "2024-03-17T13:25:44.574Z"
   },
   {
    "duration": 0,
    "start_time": "2024-03-17T13:25:44.827Z"
   },
   {
    "duration": 0,
    "start_time": "2024-03-17T13:25:44.828Z"
   },
   {
    "duration": 1276,
    "start_time": "2024-03-17T13:28:08.688Z"
   },
   {
    "duration": 2,
    "start_time": "2024-03-17T13:28:09.966Z"
   },
   {
    "duration": 27,
    "start_time": "2024-03-17T13:28:09.969Z"
   },
   {
    "duration": 786,
    "start_time": "2024-03-17T13:28:09.997Z"
   },
   {
    "duration": 149,
    "start_time": "2024-03-17T13:28:10.785Z"
   },
   {
    "duration": 801,
    "start_time": "2024-03-17T13:28:10.936Z"
   },
   {
    "duration": 915,
    "start_time": "2024-03-17T13:28:11.738Z"
   },
   {
    "duration": 15,
    "start_time": "2024-03-17T13:28:12.654Z"
   },
   {
    "duration": 169,
    "start_time": "2024-03-17T13:28:12.670Z"
   },
   {
    "duration": 1196,
    "start_time": "2024-03-17T13:28:12.845Z"
   },
   {
    "duration": 26,
    "start_time": "2024-03-17T13:28:14.044Z"
   },
   {
    "duration": 150,
    "start_time": "2024-03-17T13:28:14.071Z"
   },
   {
    "duration": 64,
    "start_time": "2024-03-17T13:28:14.222Z"
   },
   {
    "duration": 109,
    "start_time": "2024-03-17T13:28:14.287Z"
   },
   {
    "duration": 12,
    "start_time": "2024-03-17T13:28:14.398Z"
   },
   {
    "duration": 35,
    "start_time": "2024-03-17T13:28:14.411Z"
   },
   {
    "duration": 53,
    "start_time": "2024-03-17T13:28:14.447Z"
   },
   {
    "duration": 162,
    "start_time": "2024-03-17T13:28:14.501Z"
   },
   {
    "duration": 12,
    "start_time": "2024-03-17T13:28:14.664Z"
   },
   {
    "duration": 18,
    "start_time": "2024-03-17T13:28:14.677Z"
   },
   {
    "duration": 771,
    "start_time": "2024-03-17T13:28:14.696Z"
   },
   {
    "duration": 16,
    "start_time": "2024-03-17T13:28:15.469Z"
   },
   {
    "duration": 148,
    "start_time": "2024-03-17T13:28:15.486Z"
   },
   {
    "duration": 146,
    "start_time": "2024-03-17T13:28:15.635Z"
   },
   {
    "duration": 12,
    "start_time": "2024-03-17T13:28:15.783Z"
   },
   {
    "duration": 54,
    "start_time": "2024-03-17T13:28:15.797Z"
   },
   {
    "duration": 42,
    "start_time": "2024-03-17T13:28:15.852Z"
   },
   {
    "duration": 52,
    "start_time": "2024-03-17T13:28:15.897Z"
   },
   {
    "duration": 95,
    "start_time": "2024-03-17T13:28:15.950Z"
   },
   {
    "duration": 11,
    "start_time": "2024-03-17T13:28:16.046Z"
   },
   {
    "duration": 1061,
    "start_time": "2024-03-17T13:28:16.059Z"
   },
   {
    "duration": 111,
    "start_time": "2024-03-17T13:28:17.121Z"
   },
   {
    "duration": 127,
    "start_time": "2024-03-17T13:28:17.234Z"
   },
   {
    "duration": 90,
    "start_time": "2024-03-17T13:28:17.363Z"
   },
   {
    "duration": 32,
    "start_time": "2024-03-17T13:28:17.454Z"
   },
   {
    "duration": 23,
    "start_time": "2024-03-17T13:28:17.487Z"
   },
   {
    "duration": 34,
    "start_time": "2024-03-17T13:28:17.512Z"
   },
   {
    "duration": 24,
    "start_time": "2024-03-17T13:28:17.547Z"
   },
   {
    "duration": 17,
    "start_time": "2024-03-17T13:28:17.572Z"
   },
   {
    "duration": 34,
    "start_time": "2024-03-17T13:28:17.590Z"
   },
   {
    "duration": 27,
    "start_time": "2024-03-17T13:28:17.625Z"
   },
   {
    "duration": 28,
    "start_time": "2024-03-17T13:28:17.653Z"
   },
   {
    "duration": 26,
    "start_time": "2024-03-17T13:28:17.682Z"
   },
   {
    "duration": 19,
    "start_time": "2024-03-17T13:28:17.710Z"
   },
   {
    "duration": 24,
    "start_time": "2024-03-17T13:28:17.745Z"
   },
   {
    "duration": 46,
    "start_time": "2024-03-17T13:28:17.771Z"
   },
   {
    "duration": 359,
    "start_time": "2024-03-17T13:28:17.819Z"
   },
   {
    "duration": 26,
    "start_time": "2024-03-17T13:28:18.180Z"
   },
   {
    "duration": 43,
    "start_time": "2024-03-17T13:28:18.207Z"
   },
   {
    "duration": 18,
    "start_time": "2024-03-17T13:28:18.251Z"
   },
   {
    "duration": 26,
    "start_time": "2024-03-17T13:28:18.270Z"
   },
   {
    "duration": 212,
    "start_time": "2024-03-17T13:28:18.297Z"
   },
   {
    "duration": 9,
    "start_time": "2024-03-17T13:28:18.511Z"
   },
   {
    "duration": 324,
    "start_time": "2024-03-17T13:28:18.521Z"
   },
   {
    "duration": 20,
    "start_time": "2024-03-17T13:28:18.846Z"
   },
   {
    "duration": 42,
    "start_time": "2024-03-17T13:28:18.867Z"
   },
   {
    "duration": 4,
    "start_time": "2024-03-17T13:28:18.910Z"
   },
   {
    "duration": 29,
    "start_time": "2024-03-17T13:28:18.916Z"
   },
   {
    "duration": 9,
    "start_time": "2024-03-17T13:28:18.946Z"
   },
   {
    "duration": 3,
    "start_time": "2024-03-17T13:28:18.957Z"
   },
   {
    "duration": 5,
    "start_time": "2024-03-17T13:28:18.962Z"
   },
   {
    "duration": 263,
    "start_time": "2024-03-17T13:28:18.968Z"
   },
   {
    "duration": 0,
    "start_time": "2024-03-17T13:28:19.232Z"
   },
   {
    "duration": 0,
    "start_time": "2024-03-17T13:28:19.233Z"
   },
   {
    "duration": 6,
    "start_time": "2024-03-17T13:28:42.213Z"
   },
   {
    "duration": 8,
    "start_time": "2024-03-17T13:28:43.287Z"
   },
   {
    "duration": 3,
    "start_time": "2024-03-17T13:28:44.156Z"
   },
   {
    "duration": 4,
    "start_time": "2024-03-17T13:28:45.186Z"
   },
   {
    "duration": 94929,
    "start_time": "2024-03-17T13:28:47.128Z"
   },
   {
    "duration": 7,
    "start_time": "2024-03-17T13:31:03.695Z"
   },
   {
    "duration": 612,
    "start_time": "2024-03-17T13:31:05.781Z"
   },
   {
    "duration": 4,
    "start_time": "2024-03-17T13:32:14.343Z"
   },
   {
    "duration": 35319,
    "start_time": "2024-03-17T13:32:15.537Z"
   },
   {
    "duration": 8,
    "start_time": "2024-03-17T13:33:00.187Z"
   },
   {
    "duration": 4,
    "start_time": "2024-03-17T13:33:35.061Z"
   },
   {
    "duration": 86761,
    "start_time": "2024-03-17T13:33:37.117Z"
   },
   {
    "duration": 8,
    "start_time": "2024-03-17T13:36:51.025Z"
   },
   {
    "duration": 606,
    "start_time": "2024-03-17T13:36:53.899Z"
   },
   {
    "duration": 4,
    "start_time": "2024-03-17T13:37:14.796Z"
   },
   {
    "duration": 102704,
    "start_time": "2024-03-17T13:37:16.549Z"
   },
   {
    "duration": 8,
    "start_time": "2024-03-17T13:39:06.078Z"
   },
   {
    "duration": 4,
    "start_time": "2024-03-17T13:39:18.693Z"
   },
   {
    "duration": 2,
    "start_time": "2024-03-17T13:39:19.752Z"
   },
   {
    "duration": 3,
    "start_time": "2024-03-17T13:39:21.200Z"
   },
   {
    "duration": 51445,
    "start_time": "2024-03-17T13:39:25.519Z"
   },
   {
    "duration": 4,
    "start_time": "2024-03-17T13:40:24.718Z"
   },
   {
    "duration": 293750,
    "start_time": "2024-03-17T13:40:26.231Z"
   },
   {
    "duration": 7,
    "start_time": "2024-03-17T13:45:38.055Z"
   },
   {
    "duration": 605,
    "start_time": "2024-03-17T13:45:39.798Z"
   },
   {
    "duration": 4,
    "start_time": "2024-03-17T13:46:39.018Z"
   },
   {
    "duration": 998483,
    "start_time": "2024-03-17T13:46:41.253Z"
   },
   {
    "duration": 1400,
    "start_time": "2024-03-17T15:55:34.848Z"
   },
   {
    "duration": 2,
    "start_time": "2024-03-17T15:55:36.250Z"
   },
   {
    "duration": 10,
    "start_time": "2024-03-17T15:55:36.253Z"
   },
   {
    "duration": 16,
    "start_time": "2024-03-17T15:55:36.264Z"
   },
   {
    "duration": 817,
    "start_time": "2024-03-17T15:55:36.282Z"
   },
   {
    "duration": 175,
    "start_time": "2024-03-17T15:55:37.100Z"
   },
   {
    "duration": 882,
    "start_time": "2024-03-17T15:55:37.276Z"
   },
   {
    "duration": 911,
    "start_time": "2024-03-17T15:55:38.160Z"
   },
   {
    "duration": 16,
    "start_time": "2024-03-17T15:55:39.073Z"
   },
   {
    "duration": 175,
    "start_time": "2024-03-17T15:55:39.090Z"
   },
   {
    "duration": 1261,
    "start_time": "2024-03-17T15:55:39.266Z"
   },
   {
    "duration": 32,
    "start_time": "2024-03-17T15:55:40.529Z"
   },
   {
    "duration": 131,
    "start_time": "2024-03-17T15:55:40.562Z"
   },
   {
    "duration": 64,
    "start_time": "2024-03-17T15:55:40.696Z"
   },
   {
    "duration": 107,
    "start_time": "2024-03-17T15:55:40.761Z"
   },
   {
    "duration": 12,
    "start_time": "2024-03-17T15:55:40.870Z"
   },
   {
    "duration": 18,
    "start_time": "2024-03-17T15:55:40.883Z"
   },
   {
    "duration": 68,
    "start_time": "2024-03-17T15:55:40.902Z"
   },
   {
    "duration": 155,
    "start_time": "2024-03-17T15:55:40.972Z"
   },
   {
    "duration": 23,
    "start_time": "2024-03-17T15:55:41.129Z"
   },
   {
    "duration": 18,
    "start_time": "2024-03-17T15:55:41.153Z"
   },
   {
    "duration": 814,
    "start_time": "2024-03-17T15:55:41.172Z"
   },
   {
    "duration": 15,
    "start_time": "2024-03-17T15:55:41.988Z"
   },
   {
    "duration": 100,
    "start_time": "2024-03-17T15:55:42.004Z"
   },
   {
    "duration": 167,
    "start_time": "2024-03-17T15:55:42.105Z"
   },
   {
    "duration": 13,
    "start_time": "2024-03-17T15:55:42.274Z"
   },
   {
    "duration": 58,
    "start_time": "2024-03-17T15:55:42.289Z"
   },
   {
    "duration": 44,
    "start_time": "2024-03-17T15:55:42.349Z"
   },
   {
    "duration": 55,
    "start_time": "2024-03-17T15:55:42.396Z"
   },
   {
    "duration": 106,
    "start_time": "2024-03-17T15:55:42.453Z"
   },
   {
    "duration": 13,
    "start_time": "2024-03-17T15:55:42.561Z"
   },
   {
    "duration": 1177,
    "start_time": "2024-03-17T15:55:42.575Z"
   },
   {
    "duration": 106,
    "start_time": "2024-03-17T15:55:43.754Z"
   },
   {
    "duration": 129,
    "start_time": "2024-03-17T15:55:43.862Z"
   },
   {
    "duration": 99,
    "start_time": "2024-03-17T15:55:43.992Z"
   },
   {
    "duration": 26,
    "start_time": "2024-03-17T15:55:44.093Z"
   },
   {
    "duration": 44,
    "start_time": "2024-03-17T15:55:44.121Z"
   },
   {
    "duration": 36,
    "start_time": "2024-03-17T15:55:44.167Z"
   },
   {
    "duration": 33,
    "start_time": "2024-03-17T15:55:44.204Z"
   },
   {
    "duration": 62,
    "start_time": "2024-03-17T15:55:44.238Z"
   },
   {
    "duration": 55,
    "start_time": "2024-03-17T15:55:44.303Z"
   },
   {
    "duration": 27,
    "start_time": "2024-03-17T15:55:44.359Z"
   },
   {
    "duration": 26,
    "start_time": "2024-03-17T15:55:44.388Z"
   },
   {
    "duration": 33,
    "start_time": "2024-03-17T15:55:44.416Z"
   },
   {
    "duration": 15,
    "start_time": "2024-03-17T15:55:44.451Z"
   },
   {
    "duration": 40,
    "start_time": "2024-03-17T15:55:44.467Z"
   },
   {
    "duration": 41,
    "start_time": "2024-03-17T15:55:44.508Z"
   },
   {
    "duration": 332,
    "start_time": "2024-03-17T15:55:44.551Z"
   },
   {
    "duration": 28,
    "start_time": "2024-03-17T15:55:44.885Z"
   },
   {
    "duration": 35,
    "start_time": "2024-03-17T15:55:44.914Z"
   },
   {
    "duration": 15,
    "start_time": "2024-03-17T15:55:44.950Z"
   },
   {
    "duration": 25,
    "start_time": "2024-03-17T15:55:44.966Z"
   },
   {
    "duration": 239,
    "start_time": "2024-03-17T15:55:44.993Z"
   },
   {
    "duration": 13,
    "start_time": "2024-03-17T15:55:45.233Z"
   },
   {
    "duration": 358,
    "start_time": "2024-03-17T15:55:45.247Z"
   },
   {
    "duration": 21,
    "start_time": "2024-03-17T15:55:45.607Z"
   },
   {
    "duration": 73,
    "start_time": "2024-03-17T15:55:45.630Z"
   },
   {
    "duration": 4,
    "start_time": "2024-03-17T15:55:45.705Z"
   },
   {
    "duration": 22,
    "start_time": "2024-03-17T15:55:45.711Z"
   },
   {
    "duration": 25,
    "start_time": "2024-03-17T15:55:45.735Z"
   },
   {
    "duration": 31,
    "start_time": "2024-03-17T15:55:45.761Z"
   },
   {
    "duration": 25,
    "start_time": "2024-03-17T15:55:45.793Z"
   },
   {
    "duration": 1462857,
    "start_time": "2024-03-17T15:55:45.819Z"
   },
   {
    "duration": 7,
    "start_time": "2024-03-17T16:20:08.677Z"
   },
   {
    "duration": 1283,
    "start_time": "2024-03-17T16:20:08.685Z"
   },
   {
    "duration": 4,
    "start_time": "2024-03-17T16:22:39.210Z"
   },
   {
    "duration": 1729363,
    "start_time": "2024-03-17T16:22:45.795Z"
   },
   {
    "duration": 7,
    "start_time": "2024-03-17T16:51:35.160Z"
   },
   {
    "duration": 1715,
    "start_time": "2024-03-17T16:51:35.168Z"
   },
   {
    "duration": 1313,
    "start_time": "2024-03-17T17:16:35.803Z"
   },
   {
    "duration": 2,
    "start_time": "2024-03-17T17:16:37.118Z"
   },
   {
    "duration": 48,
    "start_time": "2024-03-17T17:16:37.122Z"
   },
   {
    "duration": 35,
    "start_time": "2024-03-17T17:16:37.171Z"
   },
   {
    "duration": 881,
    "start_time": "2024-03-17T17:16:37.209Z"
   },
   {
    "duration": 177,
    "start_time": "2024-03-17T17:16:38.092Z"
   },
   {
    "duration": 886,
    "start_time": "2024-03-17T17:16:38.270Z"
   },
   {
    "duration": 939,
    "start_time": "2024-03-17T17:16:39.159Z"
   },
   {
    "duration": 16,
    "start_time": "2024-03-17T17:16:40.100Z"
   },
   {
    "duration": 189,
    "start_time": "2024-03-17T17:16:40.117Z"
   },
   {
    "duration": 1267,
    "start_time": "2024-03-17T17:16:40.307Z"
   },
   {
    "duration": 34,
    "start_time": "2024-03-17T17:16:41.575Z"
   },
   {
    "duration": 150,
    "start_time": "2024-03-17T17:16:41.610Z"
   },
   {
    "duration": 56,
    "start_time": "2024-03-17T17:16:41.763Z"
   },
   {
    "duration": 108,
    "start_time": "2024-03-17T17:16:41.820Z"
   },
   {
    "duration": 26,
    "start_time": "2024-03-17T17:16:41.930Z"
   },
   {
    "duration": 20,
    "start_time": "2024-03-17T17:16:41.958Z"
   },
   {
    "duration": 80,
    "start_time": "2024-03-17T17:16:41.979Z"
   },
   {
    "duration": 152,
    "start_time": "2024-03-17T17:16:42.061Z"
   },
   {
    "duration": 12,
    "start_time": "2024-03-17T17:16:42.214Z"
   },
   {
    "duration": 32,
    "start_time": "2024-03-17T17:16:42.227Z"
   },
   {
    "duration": 775,
    "start_time": "2024-03-17T17:16:42.261Z"
   },
   {
    "duration": 25,
    "start_time": "2024-03-17T17:16:43.037Z"
   },
   {
    "duration": 92,
    "start_time": "2024-03-17T17:16:43.064Z"
   },
   {
    "duration": 156,
    "start_time": "2024-03-17T17:16:43.158Z"
   },
   {
    "duration": 12,
    "start_time": "2024-03-17T17:16:43.315Z"
   },
   {
    "duration": 47,
    "start_time": "2024-03-17T17:16:43.329Z"
   },
   {
    "duration": 47,
    "start_time": "2024-03-17T17:16:43.378Z"
   },
   {
    "duration": 72,
    "start_time": "2024-03-17T17:16:43.426Z"
   },
   {
    "duration": 105,
    "start_time": "2024-03-17T17:16:43.500Z"
   },
   {
    "duration": 11,
    "start_time": "2024-03-17T17:16:43.607Z"
   },
   {
    "duration": 1174,
    "start_time": "2024-03-17T17:16:43.620Z"
   },
   {
    "duration": 107,
    "start_time": "2024-03-17T17:16:44.796Z"
   },
   {
    "duration": 133,
    "start_time": "2024-03-17T17:16:44.904Z"
   },
   {
    "duration": 97,
    "start_time": "2024-03-17T17:16:45.038Z"
   },
   {
    "duration": 38,
    "start_time": "2024-03-17T17:16:45.136Z"
   },
   {
    "duration": 54,
    "start_time": "2024-03-17T17:16:45.175Z"
   },
   {
    "duration": 64,
    "start_time": "2024-03-17T17:16:45.231Z"
   },
   {
    "duration": 63,
    "start_time": "2024-03-17T17:16:45.297Z"
   },
   {
    "duration": 33,
    "start_time": "2024-03-17T17:16:45.362Z"
   },
   {
    "duration": 82,
    "start_time": "2024-03-17T17:16:45.399Z"
   },
   {
    "duration": 48,
    "start_time": "2024-03-17T17:16:45.482Z"
   },
   {
    "duration": 52,
    "start_time": "2024-03-17T17:16:45.531Z"
   },
   {
    "duration": 84,
    "start_time": "2024-03-17T17:16:45.584Z"
   },
   {
    "duration": 46,
    "start_time": "2024-03-17T17:16:45.669Z"
   },
   {
    "duration": 69,
    "start_time": "2024-03-17T17:16:45.716Z"
   },
   {
    "duration": 89,
    "start_time": "2024-03-17T17:16:45.787Z"
   },
   {
    "duration": 374,
    "start_time": "2024-03-17T17:16:45.878Z"
   },
   {
    "duration": 29,
    "start_time": "2024-03-17T17:16:46.253Z"
   },
   {
    "duration": 54,
    "start_time": "2024-03-17T17:16:46.283Z"
   },
   {
    "duration": 31,
    "start_time": "2024-03-17T17:16:46.338Z"
   },
   {
    "duration": 34,
    "start_time": "2024-03-17T17:16:46.371Z"
   },
   {
    "duration": 240,
    "start_time": "2024-03-17T17:16:46.406Z"
   },
   {
    "duration": 15,
    "start_time": "2024-03-17T17:16:46.648Z"
   },
   {
    "duration": 358,
    "start_time": "2024-03-17T17:16:46.664Z"
   },
   {
    "duration": 37,
    "start_time": "2024-03-17T17:16:47.023Z"
   },
   {
    "duration": 55,
    "start_time": "2024-03-17T17:16:47.062Z"
   },
   {
    "duration": 4,
    "start_time": "2024-03-17T17:16:47.118Z"
   },
   {
    "duration": 13,
    "start_time": "2024-03-17T17:16:47.123Z"
   },
   {
    "duration": 15,
    "start_time": "2024-03-17T17:16:47.149Z"
   },
   {
    "duration": 20,
    "start_time": "2024-03-17T17:16:47.166Z"
   },
   {
    "duration": 7,
    "start_time": "2024-03-17T17:16:47.188Z"
   },
   {
    "duration": 1578,
    "start_time": "2024-03-18T14:31:16.224Z"
   },
   {
    "duration": 3,
    "start_time": "2024-03-18T14:31:17.804Z"
   },
   {
    "duration": 17,
    "start_time": "2024-03-18T14:31:17.808Z"
   },
   {
    "duration": 39,
    "start_time": "2024-03-18T14:31:17.826Z"
   },
   {
    "duration": 1682,
    "start_time": "2024-03-18T14:31:17.868Z"
   },
   {
    "duration": 161,
    "start_time": "2024-03-18T14:31:19.552Z"
   },
   {
    "duration": 909,
    "start_time": "2024-03-18T14:31:19.714Z"
   },
   {
    "duration": 963,
    "start_time": "2024-03-18T14:31:20.624Z"
   },
   {
    "duration": 17,
    "start_time": "2024-03-18T14:31:21.588Z"
   },
   {
    "duration": 214,
    "start_time": "2024-03-18T14:31:21.607Z"
   },
   {
    "duration": 1290,
    "start_time": "2024-03-18T14:31:21.823Z"
   },
   {
    "duration": 26,
    "start_time": "2024-03-18T14:31:23.115Z"
   },
   {
    "duration": 139,
    "start_time": "2024-03-18T14:31:23.142Z"
   },
   {
    "duration": 59,
    "start_time": "2024-03-18T14:31:23.284Z"
   },
   {
    "duration": 115,
    "start_time": "2024-03-18T14:31:23.345Z"
   },
   {
    "duration": 13,
    "start_time": "2024-03-18T14:31:23.465Z"
   },
   {
    "duration": 19,
    "start_time": "2024-03-18T14:31:23.480Z"
   },
   {
    "duration": 72,
    "start_time": "2024-03-18T14:31:23.501Z"
   },
   {
    "duration": 298,
    "start_time": "2024-03-18T14:31:23.574Z"
   },
   {
    "duration": 13,
    "start_time": "2024-03-18T14:31:23.873Z"
   },
   {
    "duration": 20,
    "start_time": "2024-03-18T14:31:23.887Z"
   },
   {
    "duration": 697,
    "start_time": "2024-03-18T14:31:23.908Z"
   },
   {
    "duration": 15,
    "start_time": "2024-03-18T14:31:24.607Z"
   },
   {
    "duration": 97,
    "start_time": "2024-03-18T14:31:24.623Z"
   },
   {
    "duration": 162,
    "start_time": "2024-03-18T14:31:24.721Z"
   },
   {
    "duration": 14,
    "start_time": "2024-03-18T14:31:24.884Z"
   },
   {
    "duration": 46,
    "start_time": "2024-03-18T14:31:24.900Z"
   },
   {
    "duration": 49,
    "start_time": "2024-03-18T14:31:24.948Z"
   },
   {
    "duration": 43,
    "start_time": "2024-03-18T14:31:24.999Z"
   },
   {
    "duration": 110,
    "start_time": "2024-03-18T14:31:25.044Z"
   },
   {
    "duration": 18,
    "start_time": "2024-03-18T14:31:25.156Z"
   },
   {
    "duration": 1206,
    "start_time": "2024-03-18T14:31:25.175Z"
   },
   {
    "duration": 211,
    "start_time": "2024-03-18T14:31:26.383Z"
   },
   {
    "duration": 136,
    "start_time": "2024-03-18T14:31:26.596Z"
   },
   {
    "duration": 103,
    "start_time": "2024-03-18T14:31:26.734Z"
   },
   {
    "duration": 33,
    "start_time": "2024-03-18T14:31:26.839Z"
   },
   {
    "duration": 24,
    "start_time": "2024-03-18T14:31:26.874Z"
   },
   {
    "duration": 28,
    "start_time": "2024-03-18T14:31:26.899Z"
   },
   {
    "duration": 25,
    "start_time": "2024-03-18T14:31:26.928Z"
   },
   {
    "duration": 26,
    "start_time": "2024-03-18T14:31:26.955Z"
   },
   {
    "duration": 32,
    "start_time": "2024-03-18T14:31:26.985Z"
   },
   {
    "duration": 27,
    "start_time": "2024-03-18T14:31:27.019Z"
   },
   {
    "duration": 36,
    "start_time": "2024-03-18T14:31:27.047Z"
   },
   {
    "duration": 43,
    "start_time": "2024-03-18T14:31:27.085Z"
   },
   {
    "duration": 20,
    "start_time": "2024-03-18T14:31:27.129Z"
   },
   {
    "duration": 50,
    "start_time": "2024-03-18T14:31:27.150Z"
   },
   {
    "duration": 42,
    "start_time": "2024-03-18T14:31:27.201Z"
   },
   {
    "duration": 226,
    "start_time": "2024-03-18T14:31:27.245Z"
   },
   {
    "duration": 28,
    "start_time": "2024-03-18T14:31:27.472Z"
   },
   {
    "duration": 42,
    "start_time": "2024-03-18T14:31:27.502Z"
   },
   {
    "duration": 20,
    "start_time": "2024-03-18T14:31:27.546Z"
   },
   {
    "duration": 26,
    "start_time": "2024-03-18T14:31:27.567Z"
   },
   {
    "duration": 265,
    "start_time": "2024-03-18T14:31:27.594Z"
   },
   {
    "duration": 12,
    "start_time": "2024-03-18T14:31:27.862Z"
   },
   {
    "duration": 330,
    "start_time": "2024-03-18T14:31:27.876Z"
   },
   {
    "duration": 23,
    "start_time": "2024-03-18T14:31:28.208Z"
   },
   {
    "duration": 67,
    "start_time": "2024-03-18T14:31:28.232Z"
   },
   {
    "duration": 5,
    "start_time": "2024-03-18T14:31:28.300Z"
   },
   {
    "duration": 15,
    "start_time": "2024-03-18T14:31:28.306Z"
   },
   {
    "duration": 9,
    "start_time": "2024-03-18T14:31:28.323Z"
   },
   {
    "duration": 20,
    "start_time": "2024-03-18T14:31:28.333Z"
   },
   {
    "duration": 4,
    "start_time": "2024-03-18T14:31:28.355Z"
   },
   {
    "duration": 117,
    "start_time": "2024-03-18T15:14:38.916Z"
   },
   {
    "duration": 1455,
    "start_time": "2024-03-18T15:14:45.629Z"
   },
   {
    "duration": 2,
    "start_time": "2024-03-18T15:14:47.086Z"
   },
   {
    "duration": 7,
    "start_time": "2024-03-18T15:14:47.089Z"
   },
   {
    "duration": 10,
    "start_time": "2024-03-18T15:14:47.098Z"
   },
   {
    "duration": 1099,
    "start_time": "2024-03-18T15:14:47.110Z"
   },
   {
    "duration": 151,
    "start_time": "2024-03-18T15:14:48.211Z"
   },
   {
    "duration": 891,
    "start_time": "2024-03-18T15:14:48.364Z"
   },
   {
    "duration": 942,
    "start_time": "2024-03-18T15:14:49.256Z"
   },
   {
    "duration": 21,
    "start_time": "2024-03-18T15:14:50.199Z"
   },
   {
    "duration": 218,
    "start_time": "2024-03-18T15:14:50.223Z"
   },
   {
    "duration": 1396,
    "start_time": "2024-03-18T15:14:50.443Z"
   },
   {
    "duration": 33,
    "start_time": "2024-03-18T15:14:51.841Z"
   },
   {
    "duration": 149,
    "start_time": "2024-03-18T15:14:51.876Z"
   },
   {
    "duration": 71,
    "start_time": "2024-03-18T15:14:52.027Z"
   },
   {
    "duration": 115,
    "start_time": "2024-03-18T15:14:52.100Z"
   },
   {
    "duration": 14,
    "start_time": "2024-03-18T15:14:52.217Z"
   },
   {
    "duration": 35,
    "start_time": "2024-03-18T15:14:52.233Z"
   },
   {
    "duration": 57,
    "start_time": "2024-03-18T15:14:52.269Z"
   },
   {
    "duration": 190,
    "start_time": "2024-03-18T15:14:52.327Z"
   },
   {
    "duration": 12,
    "start_time": "2024-03-18T15:14:52.519Z"
   },
   {
    "duration": 34,
    "start_time": "2024-03-18T15:14:52.532Z"
   },
   {
    "duration": 844,
    "start_time": "2024-03-18T15:14:52.567Z"
   },
   {
    "duration": 15,
    "start_time": "2024-03-18T15:14:53.413Z"
   },
   {
    "duration": 97,
    "start_time": "2024-03-18T15:14:53.429Z"
   },
   {
    "duration": 165,
    "start_time": "2024-03-18T15:14:53.528Z"
   },
   {
    "duration": 15,
    "start_time": "2024-03-18T15:14:53.694Z"
   },
   {
    "duration": 35,
    "start_time": "2024-03-18T15:14:53.710Z"
   },
   {
    "duration": 47,
    "start_time": "2024-03-18T15:14:53.764Z"
   },
   {
    "duration": 57,
    "start_time": "2024-03-18T15:14:53.812Z"
   },
   {
    "duration": 110,
    "start_time": "2024-03-18T15:14:53.871Z"
   },
   {
    "duration": 12,
    "start_time": "2024-03-18T15:14:53.983Z"
   },
   {
    "duration": 1305,
    "start_time": "2024-03-18T15:14:53.996Z"
   },
   {
    "duration": 0,
    "start_time": "2024-03-18T15:14:55.302Z"
   },
   {
    "duration": 0,
    "start_time": "2024-03-18T15:14:55.304Z"
   },
   {
    "duration": 0,
    "start_time": "2024-03-18T15:14:55.305Z"
   },
   {
    "duration": 0,
    "start_time": "2024-03-18T15:14:55.306Z"
   },
   {
    "duration": 0,
    "start_time": "2024-03-18T15:14:55.307Z"
   },
   {
    "duration": 1,
    "start_time": "2024-03-18T15:14:55.307Z"
   },
   {
    "duration": 0,
    "start_time": "2024-03-18T15:14:55.308Z"
   },
   {
    "duration": 0,
    "start_time": "2024-03-18T15:14:55.309Z"
   },
   {
    "duration": 0,
    "start_time": "2024-03-18T15:14:55.310Z"
   },
   {
    "duration": 0,
    "start_time": "2024-03-18T15:14:55.311Z"
   },
   {
    "duration": 0,
    "start_time": "2024-03-18T15:14:55.312Z"
   },
   {
    "duration": 0,
    "start_time": "2024-03-18T15:14:55.313Z"
   },
   {
    "duration": 0,
    "start_time": "2024-03-18T15:14:55.313Z"
   },
   {
    "duration": 0,
    "start_time": "2024-03-18T15:14:55.315Z"
   },
   {
    "duration": 0,
    "start_time": "2024-03-18T15:14:55.315Z"
   },
   {
    "duration": 0,
    "start_time": "2024-03-18T15:14:55.316Z"
   },
   {
    "duration": 0,
    "start_time": "2024-03-18T15:14:55.317Z"
   },
   {
    "duration": 0,
    "start_time": "2024-03-18T15:14:55.317Z"
   },
   {
    "duration": 0,
    "start_time": "2024-03-18T15:14:55.318Z"
   },
   {
    "duration": 0,
    "start_time": "2024-03-18T15:14:55.319Z"
   },
   {
    "duration": 0,
    "start_time": "2024-03-18T15:14:55.320Z"
   },
   {
    "duration": 0,
    "start_time": "2024-03-18T15:14:55.321Z"
   },
   {
    "duration": 0,
    "start_time": "2024-03-18T15:14:55.322Z"
   },
   {
    "duration": 0,
    "start_time": "2024-03-18T15:14:55.323Z"
   },
   {
    "duration": 0,
    "start_time": "2024-03-18T15:14:55.323Z"
   },
   {
    "duration": 0,
    "start_time": "2024-03-18T15:14:55.324Z"
   },
   {
    "duration": 0,
    "start_time": "2024-03-18T15:14:55.325Z"
   },
   {
    "duration": 0,
    "start_time": "2024-03-18T15:14:55.326Z"
   },
   {
    "duration": 0,
    "start_time": "2024-03-18T15:14:55.328Z"
   },
   {
    "duration": 0,
    "start_time": "2024-03-18T15:14:55.329Z"
   },
   {
    "duration": 0,
    "start_time": "2024-03-18T15:14:55.330Z"
   },
   {
    "duration": 0,
    "start_time": "2024-03-18T15:14:55.331Z"
   },
   {
    "duration": 1,
    "start_time": "2024-03-18T15:14:55.331Z"
   },
   {
    "duration": 0,
    "start_time": "2024-03-18T15:14:55.333Z"
   },
   {
    "duration": 1345,
    "start_time": "2024-03-18T15:15:56.178Z"
   },
   {
    "duration": 3,
    "start_time": "2024-03-18T15:15:57.524Z"
   },
   {
    "duration": 4,
    "start_time": "2024-03-18T15:15:57.529Z"
   },
   {
    "duration": 7,
    "start_time": "2024-03-18T15:15:57.534Z"
   },
   {
    "duration": 856,
    "start_time": "2024-03-18T15:15:57.542Z"
   },
   {
    "duration": 153,
    "start_time": "2024-03-18T15:15:58.399Z"
   },
   {
    "duration": 934,
    "start_time": "2024-03-18T15:15:58.554Z"
   },
   {
    "duration": 1016,
    "start_time": "2024-03-18T15:15:59.489Z"
   },
   {
    "duration": 17,
    "start_time": "2024-03-18T15:16:00.506Z"
   },
   {
    "duration": 234,
    "start_time": "2024-03-18T15:16:00.526Z"
   },
   {
    "duration": 1338,
    "start_time": "2024-03-18T15:16:00.766Z"
   },
   {
    "duration": 27,
    "start_time": "2024-03-18T15:16:02.105Z"
   },
   {
    "duration": 153,
    "start_time": "2024-03-18T15:16:02.134Z"
   },
   {
    "duration": 60,
    "start_time": "2024-03-18T15:16:02.289Z"
   },
   {
    "duration": 129,
    "start_time": "2024-03-18T15:16:02.351Z"
   },
   {
    "duration": 14,
    "start_time": "2024-03-18T15:16:02.481Z"
   },
   {
    "duration": 25,
    "start_time": "2024-03-18T15:16:02.497Z"
   },
   {
    "duration": 76,
    "start_time": "2024-03-18T15:16:02.524Z"
   },
   {
    "duration": 182,
    "start_time": "2024-03-18T15:16:02.602Z"
   },
   {
    "duration": 13,
    "start_time": "2024-03-18T15:16:02.785Z"
   },
   {
    "duration": 27,
    "start_time": "2024-03-18T15:16:02.799Z"
   },
   {
    "duration": 843,
    "start_time": "2024-03-18T15:16:02.827Z"
   },
   {
    "duration": 16,
    "start_time": "2024-03-18T15:16:03.672Z"
   },
   {
    "duration": 107,
    "start_time": "2024-03-18T15:16:03.689Z"
   },
   {
    "duration": 181,
    "start_time": "2024-03-18T15:16:03.797Z"
   },
   {
    "duration": 14,
    "start_time": "2024-03-18T15:16:03.979Z"
   },
   {
    "duration": 36,
    "start_time": "2024-03-18T15:16:03.995Z"
   },
   {
    "duration": 62,
    "start_time": "2024-03-18T15:16:04.035Z"
   },
   {
    "duration": 45,
    "start_time": "2024-03-18T15:16:04.099Z"
   },
   {
    "duration": 106,
    "start_time": "2024-03-18T15:16:04.145Z"
   },
   {
    "duration": 22,
    "start_time": "2024-03-18T15:16:04.253Z"
   },
   {
    "duration": 1112,
    "start_time": "2024-03-18T15:16:04.276Z"
   },
   {
    "duration": 107,
    "start_time": "2024-03-18T15:16:05.390Z"
   },
   {
    "duration": 135,
    "start_time": "2024-03-18T15:16:05.498Z"
   },
   {
    "duration": 95,
    "start_time": "2024-03-18T15:16:05.634Z"
   },
   {
    "duration": 34,
    "start_time": "2024-03-18T15:16:05.731Z"
   },
   {
    "duration": 37,
    "start_time": "2024-03-18T15:16:05.766Z"
   },
   {
    "duration": 39,
    "start_time": "2024-03-18T15:16:05.805Z"
   },
   {
    "duration": 34,
    "start_time": "2024-03-18T15:16:05.845Z"
   },
   {
    "duration": 23,
    "start_time": "2024-03-18T15:16:05.881Z"
   },
   {
    "duration": 40,
    "start_time": "2024-03-18T15:16:05.905Z"
   },
   {
    "duration": 43,
    "start_time": "2024-03-18T15:16:05.946Z"
   },
   {
    "duration": 38,
    "start_time": "2024-03-18T15:16:05.991Z"
   },
   {
    "duration": 35,
    "start_time": "2024-03-18T15:16:06.031Z"
   },
   {
    "duration": 32,
    "start_time": "2024-03-18T15:16:06.068Z"
   },
   {
    "duration": 43,
    "start_time": "2024-03-18T15:16:06.102Z"
   },
   {
    "duration": 180,
    "start_time": "2024-03-18T15:16:06.147Z"
   },
   {
    "duration": 236,
    "start_time": "2024-03-18T15:16:06.329Z"
   },
   {
    "duration": 28,
    "start_time": "2024-03-18T15:16:06.566Z"
   },
   {
    "duration": 42,
    "start_time": "2024-03-18T15:16:06.595Z"
   },
   {
    "duration": 38,
    "start_time": "2024-03-18T15:16:06.639Z"
   },
   {
    "duration": 49,
    "start_time": "2024-03-18T15:16:06.679Z"
   },
   {
    "duration": 224,
    "start_time": "2024-03-18T15:16:06.730Z"
   },
   {
    "duration": 12,
    "start_time": "2024-03-18T15:16:06.955Z"
   },
   {
    "duration": 342,
    "start_time": "2024-03-18T15:16:06.969Z"
   },
   {
    "duration": 22,
    "start_time": "2024-03-18T15:16:07.312Z"
   },
   {
    "duration": 62,
    "start_time": "2024-03-18T15:16:07.335Z"
   },
   {
    "duration": 5,
    "start_time": "2024-03-18T15:16:07.399Z"
   },
   {
    "duration": 19,
    "start_time": "2024-03-18T15:16:07.406Z"
   },
   {
    "duration": 22,
    "start_time": "2024-03-18T15:16:07.426Z"
   },
   {
    "duration": 27,
    "start_time": "2024-03-18T15:16:07.450Z"
   },
   {
    "duration": 15,
    "start_time": "2024-03-18T15:16:07.479Z"
   },
   {
    "duration": 23,
    "start_time": "2024-03-18T15:16:07.496Z"
   },
   {
    "duration": 1376680,
    "start_time": "2024-03-18T15:16:07.520Z"
   },
   {
    "duration": 8,
    "start_time": "2024-03-18T15:39:04.202Z"
   },
   {
    "duration": 11,
    "start_time": "2024-03-18T15:39:04.211Z"
   },
   {
    "duration": 2679,
    "start_time": "2024-03-18T15:39:04.223Z"
   },
   {
    "duration": 2827,
    "start_time": "2024-03-18T15:46:29.603Z"
   },
   {
    "duration": 4,
    "start_time": "2024-03-18T15:47:07.117Z"
   },
   {
    "duration": 1669,
    "start_time": "2024-03-19T16:12:03.653Z"
   },
   {
    "duration": 2,
    "start_time": "2024-03-19T16:12:11.716Z"
   },
   {
    "duration": 2,
    "start_time": "2024-03-19T16:12:13.011Z"
   },
   {
    "duration": 3,
    "start_time": "2024-03-19T16:12:18.232Z"
   },
   {
    "duration": 3,
    "start_time": "2024-03-19T16:12:21.205Z"
   },
   {
    "duration": 1192,
    "start_time": "2024-03-19T16:12:23.556Z"
   },
   {
    "duration": 164,
    "start_time": "2024-03-19T16:12:26.665Z"
   },
   {
    "duration": 1004,
    "start_time": "2024-03-19T16:12:36.371Z"
   },
   {
    "duration": 1034,
    "start_time": "2024-03-19T16:12:42.268Z"
   },
   {
    "duration": 20,
    "start_time": "2024-03-19T16:12:48.597Z"
   },
   {
    "duration": 211,
    "start_time": "2024-03-19T16:12:50.996Z"
   },
   {
    "duration": 5,
    "start_time": "2024-03-19T16:13:23.412Z"
   },
   {
    "duration": 2,
    "start_time": "2024-03-19T16:13:43.536Z"
   },
   {
    "duration": 200,
    "start_time": "2024-03-19T16:13:50.287Z"
   },
   {
    "duration": 4,
    "start_time": "2024-03-19T16:14:02.857Z"
   },
   {
    "duration": 229,
    "start_time": "2024-03-19T16:14:08.138Z"
   },
   {
    "duration": 3,
    "start_time": "2024-03-19T16:14:29.890Z"
   },
   {
    "duration": 270,
    "start_time": "2024-03-19T16:14:33.488Z"
   },
   {
    "duration": 3,
    "start_time": "2024-03-19T16:14:50.404Z"
   },
   {
    "duration": 187,
    "start_time": "2024-03-19T16:14:53.220Z"
   },
   {
    "duration": 3,
    "start_time": "2024-03-19T16:15:07.257Z"
   },
   {
    "duration": 190,
    "start_time": "2024-03-19T16:15:11.056Z"
   },
   {
    "duration": 126,
    "start_time": "2024-03-19T16:16:00.819Z"
   },
   {
    "duration": 2,
    "start_time": "2024-03-19T16:16:06.075Z"
   },
   {
    "duration": 213,
    "start_time": "2024-03-19T16:16:29.288Z"
   },
   {
    "duration": 210,
    "start_time": "2024-03-19T16:17:08.468Z"
   },
   {
    "duration": 199,
    "start_time": "2024-03-19T16:17:16.133Z"
   },
   {
    "duration": 1544,
    "start_time": "2024-03-19T16:17:44.769Z"
   },
   {
    "duration": 27,
    "start_time": "2024-03-19T16:17:51.664Z"
   },
   {
    "duration": 145,
    "start_time": "2024-03-19T16:18:24.432Z"
   },
   {
    "duration": 52,
    "start_time": "2024-03-19T16:18:32.734Z"
   },
   {
    "duration": 122,
    "start_time": "2024-03-19T16:18:50.727Z"
   },
   {
    "duration": 15,
    "start_time": "2024-03-19T16:18:58.243Z"
   },
   {
    "duration": 23,
    "start_time": "2024-03-19T16:19:01.050Z"
   },
   {
    "duration": 57,
    "start_time": "2024-03-19T16:19:07.414Z"
   },
   {
    "duration": 214,
    "start_time": "2024-03-19T16:19:31.218Z"
   },
   {
    "duration": 223,
    "start_time": "2024-03-19T16:19:56.586Z"
   },
   {
    "duration": 357,
    "start_time": "2024-03-19T16:20:08.028Z"
   },
   {
    "duration": 15,
    "start_time": "2024-03-19T16:20:41.793Z"
   },
   {
    "duration": 22,
    "start_time": "2024-03-19T16:20:43.314Z"
   },
   {
    "duration": 813,
    "start_time": "2024-03-19T16:21:07.815Z"
   },
   {
    "duration": 14,
    "start_time": "2024-03-19T16:21:13.747Z"
   },
   {
    "duration": 109,
    "start_time": "2024-03-19T16:21:33.848Z"
   },
   {
    "duration": 221,
    "start_time": "2024-03-19T16:21:52.818Z"
   },
   {
    "duration": 538,
    "start_time": "2024-03-19T16:22:00.050Z"
   },
   {
    "duration": 15,
    "start_time": "2024-03-19T16:22:04.661Z"
   },
   {
    "duration": 36,
    "start_time": "2024-03-19T16:22:07.036Z"
   },
   {
    "duration": 51,
    "start_time": "2024-03-19T16:22:07.930Z"
   },
   {
    "duration": 49,
    "start_time": "2024-03-19T16:22:10.094Z"
   },
   {
    "duration": 136,
    "start_time": "2024-03-19T16:22:32.729Z"
   },
   {
    "duration": 117,
    "start_time": "2024-03-19T16:22:57.597Z"
   },
   {
    "duration": 13,
    "start_time": "2024-03-19T16:23:02.583Z"
   },
   {
    "duration": 1505,
    "start_time": "2024-03-19T16:23:25.003Z"
   },
   {
    "duration": 1452,
    "start_time": "2024-03-19T16:24:00.703Z"
   },
   {
    "duration": 1288,
    "start_time": "2024-03-19T16:24:52.375Z"
   },
   {
    "duration": 1246,
    "start_time": "2024-03-19T16:25:07.439Z"
   },
   {
    "duration": 1259,
    "start_time": "2024-03-19T16:25:29.337Z"
   },
   {
    "duration": 1339,
    "start_time": "2024-03-19T16:25:38.043Z"
   },
   {
    "duration": 1308,
    "start_time": "2024-03-19T16:25:47.080Z"
   },
   {
    "duration": 1385,
    "start_time": "2024-03-19T16:27:04.597Z"
   },
   {
    "duration": 1390,
    "start_time": "2024-03-19T16:27:45.238Z"
   },
   {
    "duration": 1277,
    "start_time": "2024-03-19T16:27:55.361Z"
   },
   {
    "duration": 1481,
    "start_time": "2024-03-19T16:28:11.311Z"
   },
   {
    "duration": 151,
    "start_time": "2024-03-19T16:28:38.745Z"
   },
   {
    "duration": 1368,
    "start_time": "2024-03-19T16:28:53.198Z"
   },
   {
    "duration": 156,
    "start_time": "2024-03-19T16:28:54.568Z"
   },
   {
    "duration": 1341,
    "start_time": "2024-03-19T16:29:02.839Z"
   },
   {
    "duration": 6,
    "start_time": "2024-03-19T16:29:20.723Z"
   },
   {
    "duration": 7,
    "start_time": "2024-03-19T16:29:24.138Z"
   },
   {
    "duration": 1782,
    "start_time": "2024-03-19T16:29:31.926Z"
   },
   {
    "duration": 142,
    "start_time": "2024-03-19T16:29:36.044Z"
   },
   {
    "duration": 147,
    "start_time": "2024-03-19T16:29:46.513Z"
   },
   {
    "duration": 102,
    "start_time": "2024-03-19T16:29:59.004Z"
   },
   {
    "duration": 30,
    "start_time": "2024-03-19T16:30:03.020Z"
   },
   {
    "duration": 16,
    "start_time": "2024-03-19T16:30:04.080Z"
   },
   {
    "duration": 27,
    "start_time": "2024-03-19T16:30:07.014Z"
   },
   {
    "duration": 30,
    "start_time": "2024-03-19T16:30:08.109Z"
   },
   {
    "duration": 16,
    "start_time": "2024-03-19T16:30:08.687Z"
   },
   {
    "duration": 40,
    "start_time": "2024-03-19T16:30:10.170Z"
   },
   {
    "duration": 30,
    "start_time": "2024-03-19T16:30:17.068Z"
   },
   {
    "duration": 27,
    "start_time": "2024-03-19T16:30:17.644Z"
   },
   {
    "duration": 309,
    "start_time": "2024-03-19T16:30:57.243Z"
   },
   {
    "duration": 350,
    "start_time": "2024-03-19T16:31:35.951Z"
   },
   {
    "duration": 13,
    "start_time": "2024-03-19T16:31:56.243Z"
   },
   {
    "duration": 1567,
    "start_time": "2024-03-19T18:36:44.014Z"
   },
   {
    "duration": 3,
    "start_time": "2024-03-19T18:36:46.885Z"
   },
   {
    "duration": 3,
    "start_time": "2024-03-19T18:36:47.479Z"
   },
   {
    "duration": 8,
    "start_time": "2024-03-19T18:36:48.291Z"
   },
   {
    "duration": 2,
    "start_time": "2024-03-19T18:36:51.053Z"
   },
   {
    "duration": 1107,
    "start_time": "2024-03-19T18:36:55.186Z"
   },
   {
    "duration": 162,
    "start_time": "2024-03-19T18:36:58.265Z"
   },
   {
    "duration": 940,
    "start_time": "2024-03-19T18:37:05.710Z"
   },
   {
    "duration": 1037,
    "start_time": "2024-03-19T18:37:10.888Z"
   },
   {
    "duration": 18,
    "start_time": "2024-03-19T18:37:15.766Z"
   },
   {
    "duration": 181,
    "start_time": "2024-03-19T18:37:18.888Z"
   },
   {
    "duration": 1425,
    "start_time": "2024-03-19T18:37:23.381Z"
   },
   {
    "duration": 28,
    "start_time": "2024-03-19T18:37:26.491Z"
   },
   {
    "duration": 131,
    "start_time": "2024-03-19T18:37:30.940Z"
   },
   {
    "duration": 50,
    "start_time": "2024-03-19T18:37:33.874Z"
   },
   {
    "duration": 216,
    "start_time": "2024-03-19T18:37:36.606Z"
   },
   {
    "duration": 14,
    "start_time": "2024-03-19T18:37:39.872Z"
   },
   {
    "duration": 24,
    "start_time": "2024-03-19T18:37:42.638Z"
   },
   {
    "duration": 52,
    "start_time": "2024-03-19T18:37:47.649Z"
   },
   {
    "duration": 48,
    "start_time": "2024-03-19T18:39:41.984Z"
   },
   {
    "duration": 783,
    "start_time": "2024-03-19T18:39:53.034Z"
   },
   {
    "duration": 153,
    "start_time": "2024-03-19T18:39:55.119Z"
   },
   {
    "duration": 848,
    "start_time": "2024-03-19T18:40:06.851Z"
   },
   {
    "duration": 957,
    "start_time": "2024-03-19T18:40:15.255Z"
   },
   {
    "duration": 16,
    "start_time": "2024-03-19T18:40:20.543Z"
   },
   {
    "duration": 170,
    "start_time": "2024-03-19T18:40:22.802Z"
   },
   {
    "duration": 1478,
    "start_time": "2024-03-19T18:40:25.687Z"
   },
   {
    "duration": 28,
    "start_time": "2024-03-19T18:40:29.135Z"
   },
   {
    "duration": 126,
    "start_time": "2024-03-19T18:40:37.328Z"
   },
   {
    "duration": 53,
    "start_time": "2024-03-19T18:40:40.177Z"
   },
   {
    "duration": 104,
    "start_time": "2024-03-19T18:40:43.896Z"
   },
   {
    "duration": 14,
    "start_time": "2024-03-19T18:40:47.335Z"
   },
   {
    "duration": 21,
    "start_time": "2024-03-19T18:40:49.886Z"
   },
   {
    "duration": 58,
    "start_time": "2024-03-19T18:40:59.317Z"
   },
   {
    "duration": 255,
    "start_time": "2024-03-19T18:41:38.870Z"
   },
   {
    "duration": 382,
    "start_time": "2024-03-19T18:42:13.050Z"
   },
   {
    "duration": 836,
    "start_time": "2024-03-19T18:42:19.126Z"
   },
   {
    "duration": 170,
    "start_time": "2024-03-19T18:42:20.367Z"
   },
   {
    "duration": 911,
    "start_time": "2024-03-19T18:42:29.664Z"
   },
   {
    "duration": 989,
    "start_time": "2024-03-19T18:42:38.059Z"
   },
   {
    "duration": 16,
    "start_time": "2024-03-19T18:42:42.441Z"
   },
   {
    "duration": 170,
    "start_time": "2024-03-19T18:42:44.478Z"
   },
   {
    "duration": 1450,
    "start_time": "2024-03-19T18:42:46.832Z"
   },
   {
    "duration": 28,
    "start_time": "2024-03-19T18:42:48.645Z"
   },
   {
    "duration": 127,
    "start_time": "2024-03-19T18:42:57.494Z"
   },
   {
    "duration": 62,
    "start_time": "2024-03-19T18:42:59.439Z"
   },
   {
    "duration": 104,
    "start_time": "2024-03-19T18:43:01.359Z"
   },
   {
    "duration": 14,
    "start_time": "2024-03-19T18:43:03.760Z"
   },
   {
    "duration": 27,
    "start_time": "2024-03-19T18:43:05.912Z"
   },
   {
    "duration": 123,
    "start_time": "2024-03-19T18:43:14.622Z"
   },
   {
    "duration": 52,
    "start_time": "2024-03-19T18:43:36.337Z"
   },
   {
    "duration": 1119,
    "start_time": "2024-03-19T18:46:16.976Z"
   },
   {
    "duration": 57,
    "start_time": "2024-03-19T18:46:33.556Z"
   },
   {
    "duration": 196,
    "start_time": "2024-03-19T18:46:40.872Z"
   },
   {
    "duration": 16,
    "start_time": "2024-03-19T18:46:46.795Z"
   },
   {
    "duration": 26,
    "start_time": "2024-03-19T18:46:49.042Z"
   },
   {
    "duration": 914,
    "start_time": "2024-03-19T18:46:53.218Z"
   },
   {
    "duration": 13,
    "start_time": "2024-03-19T18:46:56.337Z"
   },
   {
    "duration": 95,
    "start_time": "2024-03-19T18:46:58.915Z"
   },
   {
    "duration": 404,
    "start_time": "2024-03-19T18:47:01.519Z"
   },
   {
    "duration": 17,
    "start_time": "2024-03-19T18:47:05.019Z"
   },
   {
    "duration": 40,
    "start_time": "2024-03-19T18:47:07.949Z"
   },
   {
    "duration": 48,
    "start_time": "2024-03-19T18:47:08.734Z"
   },
   {
    "duration": 48,
    "start_time": "2024-03-19T18:47:11.030Z"
   },
   {
    "duration": 95,
    "start_time": "2024-03-19T18:47:13.112Z"
   },
   {
    "duration": 12,
    "start_time": "2024-03-19T18:47:19.198Z"
   },
   {
    "duration": 1262,
    "start_time": "2024-03-19T18:47:20.455Z"
   },
   {
    "duration": 109,
    "start_time": "2024-03-19T18:47:26.202Z"
   },
   {
    "duration": 143,
    "start_time": "2024-03-19T18:47:30.483Z"
   },
   {
    "duration": 86,
    "start_time": "2024-03-19T18:47:34.854Z"
   },
   {
    "duration": 26,
    "start_time": "2024-03-19T18:47:39.493Z"
   },
   {
    "duration": 15,
    "start_time": "2024-03-19T18:47:41.006Z"
   },
   {
    "duration": 27,
    "start_time": "2024-03-19T18:47:41.590Z"
   },
   {
    "duration": 28,
    "start_time": "2024-03-19T18:47:42.717Z"
   },
   {
    "duration": 14,
    "start_time": "2024-03-19T18:47:43.407Z"
   },
   {
    "duration": 25,
    "start_time": "2024-03-19T18:47:44.014Z"
   },
   {
    "duration": 29,
    "start_time": "2024-03-19T18:47:46.556Z"
   },
   {
    "duration": 25,
    "start_time": "2024-03-19T18:47:48.298Z"
   },
   {
    "duration": 29,
    "start_time": "2024-03-19T18:47:49.830Z"
   },
   {
    "duration": 15,
    "start_time": "2024-03-19T18:47:51.513Z"
   },
   {
    "duration": 38,
    "start_time": "2024-03-19T18:47:52.867Z"
   },
   {
    "duration": 39,
    "start_time": "2024-03-19T18:47:53.556Z"
   },
   {
    "duration": 271,
    "start_time": "2024-03-19T18:47:54.338Z"
   },
   {
    "duration": 29,
    "start_time": "2024-03-19T18:47:58.854Z"
   },
   {
    "duration": 26,
    "start_time": "2024-03-19T18:48:02.342Z"
   },
   {
    "duration": 22,
    "start_time": "2024-03-19T18:48:03.275Z"
   },
   {
    "duration": 25,
    "start_time": "2024-03-19T18:48:03.897Z"
   },
   {
    "duration": 326,
    "start_time": "2024-03-19T18:48:05.487Z"
   },
   {
    "duration": 10,
    "start_time": "2024-03-19T18:48:15.300Z"
   },
   {
    "duration": 11,
    "start_time": "2024-03-19T19:02:29.412Z"
   },
   {
    "duration": 3609,
    "start_time": "2024-03-19T19:03:03.261Z"
   },
   {
    "duration": 65,
    "start_time": "2024-03-19T19:03:08.912Z"
   },
   {
    "duration": 4798,
    "start_time": "2024-03-19T19:03:36.951Z"
   },
   {
    "duration": 39,
    "start_time": "2024-03-19T19:10:41.325Z"
   },
   {
    "duration": 2946,
    "start_time": "2024-03-19T19:11:24.822Z"
   },
   {
    "duration": 103,
    "start_time": "2024-03-19T19:12:56.972Z"
   },
   {
    "duration": 162,
    "start_time": "2024-03-19T19:13:19.460Z"
   },
   {
    "duration": 3818,
    "start_time": "2024-03-20T15:27:50.807Z"
   },
   {
    "duration": 1702,
    "start_time": "2024-03-20T15:27:57.394Z"
   },
   {
    "duration": 4,
    "start_time": "2024-03-20T15:28:01.489Z"
   },
   {
    "duration": 3,
    "start_time": "2024-03-20T15:28:02.485Z"
   },
   {
    "duration": 9,
    "start_time": "2024-03-20T15:28:03.274Z"
   },
   {
    "duration": 2,
    "start_time": "2024-03-20T15:28:04.752Z"
   },
   {
    "duration": 2991,
    "start_time": "2024-03-20T15:28:08.783Z"
   },
   {
    "duration": 168,
    "start_time": "2024-03-20T15:28:11.775Z"
   },
   {
    "duration": 953,
    "start_time": "2024-03-20T15:28:19.109Z"
   },
   {
    "duration": 1046,
    "start_time": "2024-03-20T15:28:24.920Z"
   },
   {
    "duration": 18,
    "start_time": "2024-03-20T15:28:30.935Z"
   },
   {
    "duration": 192,
    "start_time": "2024-03-20T15:28:32.891Z"
   },
   {
    "duration": 1514,
    "start_time": "2024-03-20T15:28:35.047Z"
   },
   {
    "duration": 32,
    "start_time": "2024-03-20T15:28:36.563Z"
   },
   {
    "duration": 137,
    "start_time": "2024-03-20T15:28:40.637Z"
   },
   {
    "duration": 63,
    "start_time": "2024-03-20T15:28:41.954Z"
   },
   {
    "duration": 240,
    "start_time": "2024-03-20T15:28:44.359Z"
   },
   {
    "duration": 18,
    "start_time": "2024-03-20T15:28:46.985Z"
   },
   {
    "duration": 22,
    "start_time": "2024-03-20T15:28:48.745Z"
   },
   {
    "duration": 62,
    "start_time": "2024-03-20T15:28:53.609Z"
   },
   {
    "duration": 196,
    "start_time": "2024-03-20T15:28:57.217Z"
   },
   {
    "duration": 14,
    "start_time": "2024-03-20T15:28:59.898Z"
   },
   {
    "duration": 22,
    "start_time": "2024-03-20T15:29:01.991Z"
   },
   {
    "duration": 846,
    "start_time": "2024-03-20T15:29:06.220Z"
   },
   {
    "duration": 13,
    "start_time": "2024-03-20T15:29:07.382Z"
   },
   {
    "duration": 108,
    "start_time": "2024-03-20T15:29:09.482Z"
   },
   {
    "duration": 519,
    "start_time": "2024-03-20T15:29:10.636Z"
   },
   {
    "duration": 18,
    "start_time": "2024-03-20T15:29:12.007Z"
   },
   {
    "duration": 38,
    "start_time": "2024-03-20T15:29:14.192Z"
   },
   {
    "duration": 84,
    "start_time": "2024-03-20T15:29:15.037Z"
   },
   {
    "duration": 52,
    "start_time": "2024-03-20T15:29:16.470Z"
   },
   {
    "duration": 102,
    "start_time": "2024-03-20T15:29:17.953Z"
   },
   {
    "duration": 13,
    "start_time": "2024-03-20T15:29:21.381Z"
   },
   {
    "duration": 1386,
    "start_time": "2024-03-20T15:29:22.247Z"
   },
   {
    "duration": 139,
    "start_time": "2024-03-20T15:29:23.636Z"
   },
   {
    "duration": 174,
    "start_time": "2024-03-20T15:29:26.941Z"
   },
   {
    "duration": 111,
    "start_time": "2024-03-20T15:29:30.227Z"
   },
   {
    "duration": 50,
    "start_time": "2024-03-20T15:29:34.120Z"
   },
   {
    "duration": 18,
    "start_time": "2024-03-20T15:29:35.063Z"
   },
   {
    "duration": 28,
    "start_time": "2024-03-20T15:29:35.985Z"
   },
   {
    "duration": 29,
    "start_time": "2024-03-20T15:29:37.711Z"
   },
   {
    "duration": 16,
    "start_time": "2024-03-20T15:29:38.504Z"
   },
   {
    "duration": 36,
    "start_time": "2024-03-20T15:29:39.407Z"
   },
   {
    "duration": 33,
    "start_time": "2024-03-20T15:29:42.179Z"
   },
   {
    "duration": 30,
    "start_time": "2024-03-20T15:29:43.104Z"
   },
   {
    "duration": 43,
    "start_time": "2024-03-20T15:29:46.019Z"
   },
   {
    "duration": 17,
    "start_time": "2024-03-20T15:29:47.052Z"
   },
   {
    "duration": 41,
    "start_time": "2024-03-20T15:29:48.042Z"
   },
   {
    "duration": 57,
    "start_time": "2024-03-20T15:29:48.816Z"
   },
   {
    "duration": 285,
    "start_time": "2024-03-20T15:29:49.713Z"
   },
   {
    "duration": 33,
    "start_time": "2024-03-20T15:29:52.061Z"
   },
   {
    "duration": 29,
    "start_time": "2024-03-20T15:29:54.335Z"
   },
   {
    "duration": 15,
    "start_time": "2024-03-20T15:29:55.165Z"
   },
   {
    "duration": 30,
    "start_time": "2024-03-20T15:29:55.928Z"
   },
   {
    "duration": 247,
    "start_time": "2024-03-20T15:29:56.749Z"
   },
   {
    "duration": 15,
    "start_time": "2024-03-20T15:30:00.473Z"
   },
   {
    "duration": 5252,
    "start_time": "2024-03-20T15:30:04.574Z"
   },
   {
    "duration": 3236,
    "start_time": "2024-03-20T15:30:09.828Z"
   },
   {
    "duration": 91,
    "start_time": "2024-03-20T15:30:26.262Z"
   },
   {
    "duration": 183,
    "start_time": "2024-03-20T15:30:27.243Z"
   },
   {
    "duration": 20,
    "start_time": "2024-03-20T15:30:41.343Z"
   },
   {
    "duration": 44,
    "start_time": "2024-03-20T15:30:46.764Z"
   },
   {
    "duration": 5,
    "start_time": "2024-03-20T15:30:47.588Z"
   },
   {
    "duration": 6,
    "start_time": "2024-03-20T15:34:18.811Z"
   },
   {
    "duration": 5,
    "start_time": "2024-03-20T15:34:50.376Z"
   },
   {
    "duration": 3,
    "start_time": "2024-03-20T15:35:43.858Z"
   },
   {
    "duration": 117,
    "start_time": "2024-03-20T15:37:59.226Z"
   },
   {
    "duration": 3,
    "start_time": "2024-03-20T15:39:09.279Z"
   },
   {
    "duration": 3,
    "start_time": "2024-03-20T15:39:10.767Z"
   },
   {
    "duration": 6536,
    "start_time": "2024-03-20T15:40:11.204Z"
   },
   {
    "duration": 5,
    "start_time": "2024-03-20T15:40:18.963Z"
   },
   {
    "duration": 4914,
    "start_time": "2024-03-20T15:40:26.633Z"
   },
   {
    "duration": 102,
    "start_time": "2024-03-20T15:41:35.294Z"
   },
   {
    "duration": 92,
    "start_time": "2024-03-20T15:41:39.853Z"
   },
   {
    "duration": 7536,
    "start_time": "2024-03-20T15:41:45.077Z"
   },
   {
    "duration": 5,
    "start_time": "2024-03-20T15:42:09.644Z"
   },
   {
    "duration": 17,
    "start_time": "2024-03-20T15:42:30.004Z"
   },
   {
    "duration": 4,
    "start_time": "2024-03-20T15:42:37.655Z"
   },
   {
    "duration": 4946,
    "start_time": "2024-03-20T15:42:45.109Z"
   },
   {
    "duration": 3140,
    "start_time": "2024-03-20T15:43:04.767Z"
   },
   {
    "duration": 102,
    "start_time": "2024-03-20T15:43:10.418Z"
   },
   {
    "duration": 2,
    "start_time": "2024-03-20T15:43:18.928Z"
   },
   {
    "duration": 7,
    "start_time": "2024-03-20T15:43:32.148Z"
   },
   {
    "duration": 7,
    "start_time": "2024-03-20T15:43:53.128Z"
   },
   {
    "duration": 3874,
    "start_time": "2024-03-21T17:38:52.171Z"
   },
   {
    "duration": 1743,
    "start_time": "2024-03-21T17:38:56.048Z"
   },
   {
    "duration": 3,
    "start_time": "2024-03-21T17:38:57.793Z"
   },
   {
    "duration": 7587,
    "start_time": "2024-03-21T17:38:57.798Z"
   },
   {
    "duration": 7,
    "start_time": "2024-03-21T17:39:05.387Z"
   },
   {
    "duration": 16,
    "start_time": "2024-03-21T17:39:05.396Z"
   },
   {
    "duration": 7,
    "start_time": "2024-03-21T17:39:05.413Z"
   },
   {
    "duration": 18,
    "start_time": "2024-03-21T17:39:05.421Z"
   },
   {
    "duration": 6,
    "start_time": "2024-03-21T17:39:05.440Z"
   },
   {
    "duration": 2957,
    "start_time": "2024-03-21T17:39:05.449Z"
   },
   {
    "duration": 179,
    "start_time": "2024-03-21T17:39:08.408Z"
   },
   {
    "duration": 1052,
    "start_time": "2024-03-21T17:39:08.588Z"
   },
   {
    "duration": 1189,
    "start_time": "2024-03-21T17:39:09.642Z"
   },
   {
    "duration": 26,
    "start_time": "2024-03-21T17:39:10.833Z"
   },
   {
    "duration": 229,
    "start_time": "2024-03-21T17:39:10.861Z"
   },
   {
    "duration": 1590,
    "start_time": "2024-03-21T17:39:11.092Z"
   },
   {
    "duration": 35,
    "start_time": "2024-03-21T17:39:12.684Z"
   },
   {
    "duration": 153,
    "start_time": "2024-03-21T17:39:12.721Z"
   },
   {
    "duration": 68,
    "start_time": "2024-03-21T17:39:12.876Z"
   },
   {
    "duration": 258,
    "start_time": "2024-03-21T17:39:12.946Z"
   },
   {
    "duration": 15,
    "start_time": "2024-03-21T17:39:13.206Z"
   },
   {
    "duration": 25,
    "start_time": "2024-03-21T17:39:13.223Z"
   },
   {
    "duration": 86,
    "start_time": "2024-03-21T17:39:13.250Z"
   },
   {
    "duration": 228,
    "start_time": "2024-03-21T17:39:13.338Z"
   },
   {
    "duration": 17,
    "start_time": "2024-03-21T17:39:13.568Z"
   },
   {
    "duration": 28,
    "start_time": "2024-03-21T17:39:13.586Z"
   },
   {
    "duration": 851,
    "start_time": "2024-03-21T17:39:13.617Z"
   },
   {
    "duration": 25,
    "start_time": "2024-03-21T17:39:14.474Z"
   },
   {
    "duration": 132,
    "start_time": "2024-03-21T17:39:14.501Z"
   },
   {
    "duration": 565,
    "start_time": "2024-03-21T17:39:14.635Z"
   },
   {
    "duration": 15,
    "start_time": "2024-03-21T17:39:15.202Z"
   },
   {
    "duration": 134,
    "start_time": "2024-03-21T17:39:15.219Z"
   },
   {
    "duration": 52,
    "start_time": "2024-03-21T17:39:15.355Z"
   },
   {
    "duration": 54,
    "start_time": "2024-03-21T17:39:15.409Z"
   },
   {
    "duration": 142,
    "start_time": "2024-03-21T17:39:15.465Z"
   },
   {
    "duration": 16,
    "start_time": "2024-03-21T17:39:15.609Z"
   },
   {
    "duration": 1433,
    "start_time": "2024-03-21T17:39:15.627Z"
   },
   {
    "duration": 138,
    "start_time": "2024-03-21T17:39:17.061Z"
   },
   {
    "duration": 140,
    "start_time": "2024-03-21T17:39:17.201Z"
   },
   {
    "duration": 109,
    "start_time": "2024-03-21T17:39:17.342Z"
   },
   {
    "duration": 30,
    "start_time": "2024-03-21T17:39:17.452Z"
   },
   {
    "duration": 15,
    "start_time": "2024-03-21T17:39:17.492Z"
   },
   {
    "duration": 30,
    "start_time": "2024-03-21T17:39:17.509Z"
   },
   {
    "duration": 29,
    "start_time": "2024-03-21T17:39:17.541Z"
   },
   {
    "duration": 21,
    "start_time": "2024-03-21T17:39:17.593Z"
   },
   {
    "duration": 30,
    "start_time": "2024-03-21T17:39:17.616Z"
   },
   {
    "duration": 59,
    "start_time": "2024-03-21T17:39:17.647Z"
   },
   {
    "duration": 28,
    "start_time": "2024-03-21T17:39:17.708Z"
   },
   {
    "duration": 37,
    "start_time": "2024-03-21T17:39:17.738Z"
   },
   {
    "duration": 32,
    "start_time": "2024-03-21T17:39:17.777Z"
   },
   {
    "duration": 37,
    "start_time": "2024-03-21T17:39:17.811Z"
   },
   {
    "duration": 64,
    "start_time": "2024-03-21T17:39:17.850Z"
   },
   {
    "duration": 278,
    "start_time": "2024-03-21T17:39:17.916Z"
   },
   {
    "duration": 33,
    "start_time": "2024-03-21T17:39:18.195Z"
   },
   {
    "duration": 32,
    "start_time": "2024-03-21T17:39:18.230Z"
   },
   {
    "duration": 35,
    "start_time": "2024-03-21T17:39:18.264Z"
   },
   {
    "duration": 31,
    "start_time": "2024-03-21T17:39:18.301Z"
   },
   {
    "duration": 261,
    "start_time": "2024-03-21T17:39:18.334Z"
   },
   {
    "duration": 12,
    "start_time": "2024-03-21T17:39:18.597Z"
   },
   {
    "duration": 5321,
    "start_time": "2024-03-21T17:39:18.611Z"
   },
   {
    "duration": 3376,
    "start_time": "2024-03-21T17:39:23.933Z"
   },
   {
    "duration": 121,
    "start_time": "2024-03-21T17:39:27.312Z"
   },
   {
    "duration": 213,
    "start_time": "2024-03-21T17:39:27.435Z"
   },
   {
    "duration": 20,
    "start_time": "2024-03-21T17:39:27.649Z"
   },
   {
    "duration": 53,
    "start_time": "2024-03-21T17:39:27.670Z"
   },
   {
    "duration": 4,
    "start_time": "2024-03-21T17:39:27.725Z"
   },
   {
    "duration": 20,
    "start_time": "2024-03-21T17:39:27.731Z"
   },
   {
    "duration": 36,
    "start_time": "2024-03-21T17:39:27.753Z"
   },
   {
    "duration": 22,
    "start_time": "2024-03-21T17:39:27.790Z"
   },
   {
    "duration": 16,
    "start_time": "2024-03-21T17:39:27.814Z"
   },
   {
    "duration": 26,
    "start_time": "2024-03-21T17:39:27.832Z"
   },
   {
    "duration": 28,
    "start_time": "2024-03-21T17:39:27.860Z"
   },
   {
    "duration": 12,
    "start_time": "2024-03-21T17:39:27.890Z"
   },
   {
    "duration": 20,
    "start_time": "2024-03-21T17:39:27.904Z"
   },
   {
    "duration": 34,
    "start_time": "2024-03-21T17:39:27.926Z"
   },
   {
    "duration": 16,
    "start_time": "2024-03-21T17:39:27.961Z"
   },
   {
    "duration": 26,
    "start_time": "2024-03-21T17:39:27.978Z"
   },
   {
    "duration": 18,
    "start_time": "2024-03-21T17:39:28.006Z"
   },
   {
    "duration": 3209,
    "start_time": "2024-03-23T08:56:37.344Z"
   },
   {
    "duration": 1627,
    "start_time": "2024-03-23T08:56:40.556Z"
   },
   {
    "duration": 3,
    "start_time": "2024-03-23T08:56:42.185Z"
   },
   {
    "duration": 6125,
    "start_time": "2024-03-23T08:56:42.189Z"
   },
   {
    "duration": 5,
    "start_time": "2024-03-23T08:56:48.316Z"
   },
   {
    "duration": 8,
    "start_time": "2024-03-23T08:56:48.323Z"
   },
   {
    "duration": 4,
    "start_time": "2024-03-23T08:56:48.332Z"
   },
   {
    "duration": 17,
    "start_time": "2024-03-23T08:56:48.338Z"
   },
   {
    "duration": 5,
    "start_time": "2024-03-23T08:56:48.357Z"
   },
   {
    "duration": 2781,
    "start_time": "2024-03-23T08:56:48.364Z"
   },
   {
    "duration": 162,
    "start_time": "2024-03-23T08:56:51.147Z"
   },
   {
    "duration": 932,
    "start_time": "2024-03-23T08:56:51.311Z"
   },
   {
    "duration": 1025,
    "start_time": "2024-03-23T08:56:52.245Z"
   },
   {
    "duration": 17,
    "start_time": "2024-03-23T08:56:53.272Z"
   },
   {
    "duration": 191,
    "start_time": "2024-03-23T08:56:53.290Z"
   },
   {
    "duration": 1333,
    "start_time": "2024-03-23T08:56:53.482Z"
   },
   {
    "duration": 28,
    "start_time": "2024-03-23T08:56:54.816Z"
   },
   {
    "duration": 138,
    "start_time": "2024-03-23T08:56:54.845Z"
   },
   {
    "duration": 60,
    "start_time": "2024-03-23T08:56:54.984Z"
   },
   {
    "duration": 223,
    "start_time": "2024-03-23T08:56:55.045Z"
   },
   {
    "duration": 14,
    "start_time": "2024-03-23T08:56:55.270Z"
   },
   {
    "duration": 21,
    "start_time": "2024-03-23T08:56:55.285Z"
   },
   {
    "duration": 79,
    "start_time": "2024-03-23T08:56:55.308Z"
   },
   {
    "duration": 169,
    "start_time": "2024-03-23T08:56:55.389Z"
   },
   {
    "duration": 17,
    "start_time": "2024-03-23T08:56:55.559Z"
   },
   {
    "duration": 20,
    "start_time": "2024-03-23T08:56:55.577Z"
   },
   {
    "duration": 720,
    "start_time": "2024-03-23T08:56:55.598Z"
   },
   {
    "duration": 13,
    "start_time": "2024-03-23T08:56:56.321Z"
   },
   {
    "duration": 99,
    "start_time": "2024-03-23T08:56:56.335Z"
   },
   {
    "duration": 482,
    "start_time": "2024-03-23T08:56:56.436Z"
   },
   {
    "duration": 14,
    "start_time": "2024-03-23T08:56:56.920Z"
   },
   {
    "duration": 45,
    "start_time": "2024-03-23T08:56:56.935Z"
   },
   {
    "duration": 44,
    "start_time": "2024-03-23T08:56:56.982Z"
   },
   {
    "duration": 61,
    "start_time": "2024-03-23T08:56:57.028Z"
   },
   {
    "duration": 96,
    "start_time": "2024-03-23T08:56:57.091Z"
   },
   {
    "duration": 12,
    "start_time": "2024-03-23T08:56:57.188Z"
   },
   {
    "duration": 1290,
    "start_time": "2024-03-23T08:56:57.201Z"
   },
   {
    "duration": 121,
    "start_time": "2024-03-23T08:56:58.492Z"
   },
   {
    "duration": 131,
    "start_time": "2024-03-23T08:56:58.615Z"
   },
   {
    "duration": 96,
    "start_time": "2024-03-23T08:56:58.748Z"
   },
   {
    "duration": 35,
    "start_time": "2024-03-23T08:56:58.846Z"
   },
   {
    "duration": 16,
    "start_time": "2024-03-23T08:56:58.883Z"
   },
   {
    "duration": 34,
    "start_time": "2024-03-23T08:56:58.900Z"
   },
   {
    "duration": 53,
    "start_time": "2024-03-23T08:56:58.936Z"
   },
   {
    "duration": 16,
    "start_time": "2024-03-23T08:56:58.991Z"
   },
   {
    "duration": 26,
    "start_time": "2024-03-23T08:56:59.008Z"
   },
   {
    "duration": 51,
    "start_time": "2024-03-23T08:56:59.036Z"
   },
   {
    "duration": 28,
    "start_time": "2024-03-23T08:56:59.089Z"
   },
   {
    "duration": 29,
    "start_time": "2024-03-23T08:56:59.119Z"
   },
   {
    "duration": 29,
    "start_time": "2024-03-23T08:56:59.150Z"
   },
   {
    "duration": 26,
    "start_time": "2024-03-23T08:56:59.180Z"
   },
   {
    "duration": 57,
    "start_time": "2024-03-23T08:56:59.208Z"
   },
   {
    "duration": 259,
    "start_time": "2024-03-23T08:56:59.267Z"
   },
   {
    "duration": 27,
    "start_time": "2024-03-23T08:56:59.528Z"
   },
   {
    "duration": 27,
    "start_time": "2024-03-23T08:56:59.565Z"
   },
   {
    "duration": 19,
    "start_time": "2024-03-23T08:56:59.593Z"
   },
   {
    "duration": 29,
    "start_time": "2024-03-23T08:56:59.613Z"
   },
   {
    "duration": 261,
    "start_time": "2024-03-23T08:56:59.643Z"
   },
   {
    "duration": 16,
    "start_time": "2024-03-23T08:56:59.907Z"
   },
   {
    "duration": 4847,
    "start_time": "2024-03-23T08:56:59.925Z"
   },
   {
    "duration": 2795,
    "start_time": "2024-03-23T08:57:04.773Z"
   },
   {
    "duration": 97,
    "start_time": "2024-03-23T08:57:07.569Z"
   },
   {
    "duration": 180,
    "start_time": "2024-03-23T08:57:07.667Z"
   },
   {
    "duration": 24,
    "start_time": "2024-03-23T08:57:07.848Z"
   },
   {
    "duration": 36,
    "start_time": "2024-03-23T08:57:07.873Z"
   },
   {
    "duration": 5,
    "start_time": "2024-03-23T08:57:07.911Z"
   },
   {
    "duration": 28,
    "start_time": "2024-03-23T08:57:07.918Z"
   },
   {
    "duration": 35,
    "start_time": "2024-03-23T08:57:07.947Z"
   },
   {
    "duration": 22,
    "start_time": "2024-03-23T08:57:07.984Z"
   },
   {
    "duration": 27,
    "start_time": "2024-03-23T08:57:08.007Z"
   },
   {
    "duration": 24,
    "start_time": "2024-03-23T08:57:08.035Z"
   },
   {
    "duration": 37,
    "start_time": "2024-03-23T08:57:08.061Z"
   },
   {
    "duration": 17,
    "start_time": "2024-03-23T08:57:08.099Z"
   },
   {
    "duration": 16,
    "start_time": "2024-03-23T08:57:08.117Z"
   },
   {
    "duration": 11,
    "start_time": "2024-03-23T08:57:08.134Z"
   },
   {
    "duration": 30,
    "start_time": "2024-03-23T08:57:08.146Z"
   },
   {
    "duration": 13,
    "start_time": "2024-03-23T08:57:08.178Z"
   },
   {
    "duration": 38,
    "start_time": "2024-03-23T08:57:08.193Z"
   },
   {
    "duration": 9,
    "start_time": "2024-03-23T09:01:46.118Z"
   },
   {
    "duration": 5,
    "start_time": "2024-03-23T09:02:17.512Z"
   },
   {
    "duration": 168,
    "start_time": "2024-03-23T09:03:34.773Z"
   },
   {
    "duration": 5,
    "start_time": "2024-03-23T09:04:04.436Z"
   },
   {
    "duration": 29,
    "start_time": "2024-03-23T09:04:14.187Z"
   },
   {
    "duration": 8,
    "start_time": "2024-03-23T09:04:23.530Z"
   },
   {
    "duration": 6885,
    "start_time": "2024-03-23T09:04:26.781Z"
   },
   {
    "duration": 2,
    "start_time": "2024-03-23T09:05:32.718Z"
   },
   {
    "duration": 9,
    "start_time": "2024-03-23T09:06:32.021Z"
   },
   {
    "duration": 9,
    "start_time": "2024-03-23T09:06:36.688Z"
   },
   {
    "duration": 9,
    "start_time": "2024-03-23T09:06:44.929Z"
   },
   {
    "duration": 4,
    "start_time": "2024-03-23T09:06:48.509Z"
   },
   {
    "duration": 6,
    "start_time": "2024-03-23T09:06:53.390Z"
   },
   {
    "duration": 7,
    "start_time": "2024-03-23T09:07:31.206Z"
   },
   {
    "duration": 5577,
    "start_time": "2024-03-23T09:08:40.890Z"
   },
   {
    "duration": 8,
    "start_time": "2024-03-23T09:09:11.529Z"
   },
   {
    "duration": 94,
    "start_time": "2024-03-23T09:10:28.324Z"
   },
   {
    "duration": 11,
    "start_time": "2024-03-23T09:11:04.987Z"
   },
   {
    "duration": 9,
    "start_time": "2024-03-23T09:11:12.303Z"
   },
   {
    "duration": 65,
    "start_time": "2024-03-23T09:11:41.848Z"
   },
   {
    "duration": 3,
    "start_time": "2024-03-23T09:11:55.253Z"
   },
   {
    "duration": 3714,
    "start_time": "2024-03-23T09:11:59.101Z"
   },
   {
    "duration": 6,
    "start_time": "2024-03-23T09:12:10.031Z"
   },
   {
    "duration": 7,
    "start_time": "2024-03-23T09:12:23.295Z"
   },
   {
    "duration": 14,
    "start_time": "2024-03-23T09:12:25.972Z"
   },
   {
    "duration": 37,
    "start_time": "2024-03-23T09:12:33.885Z"
   },
   {
    "duration": 2449,
    "start_time": "2024-03-23T09:12:52.700Z"
   },
   {
    "duration": 1357,
    "start_time": "2024-03-23T09:12:55.151Z"
   },
   {
    "duration": 3,
    "start_time": "2024-03-23T09:12:56.509Z"
   },
   {
    "duration": 2594,
    "start_time": "2024-03-23T09:12:56.514Z"
   },
   {
    "duration": 6,
    "start_time": "2024-03-23T09:12:59.110Z"
   },
   {
    "duration": 14,
    "start_time": "2024-03-23T09:12:59.118Z"
   },
   {
    "duration": 10,
    "start_time": "2024-03-23T09:12:59.133Z"
   },
   {
    "duration": 18,
    "start_time": "2024-03-23T09:12:59.145Z"
   },
   {
    "duration": 5,
    "start_time": "2024-03-23T09:12:59.165Z"
   },
   {
    "duration": 924,
    "start_time": "2024-03-23T09:12:59.172Z"
   },
   {
    "duration": 175,
    "start_time": "2024-03-23T09:13:00.098Z"
   },
   {
    "duration": 1035,
    "start_time": "2024-03-23T09:13:00.275Z"
   },
   {
    "duration": 1094,
    "start_time": "2024-03-23T09:13:01.312Z"
   },
   {
    "duration": 18,
    "start_time": "2024-03-23T09:13:02.407Z"
   },
   {
    "duration": 228,
    "start_time": "2024-03-23T09:13:02.427Z"
   },
   {
    "duration": 1454,
    "start_time": "2024-03-23T09:13:02.657Z"
   },
   {
    "duration": 28,
    "start_time": "2024-03-23T09:13:04.113Z"
   },
   {
    "duration": 143,
    "start_time": "2024-03-23T09:13:04.143Z"
   },
   {
    "duration": 51,
    "start_time": "2024-03-23T09:13:04.287Z"
   },
   {
    "duration": 138,
    "start_time": "2024-03-23T09:13:04.339Z"
   },
   {
    "duration": 14,
    "start_time": "2024-03-23T09:13:04.479Z"
   },
   {
    "duration": 22,
    "start_time": "2024-03-23T09:13:04.494Z"
   },
   {
    "duration": 93,
    "start_time": "2024-03-23T09:13:04.517Z"
   },
   {
    "duration": 331,
    "start_time": "2024-03-23T09:13:04.612Z"
   },
   {
    "duration": 21,
    "start_time": "2024-03-23T09:13:04.945Z"
   },
   {
    "duration": 23,
    "start_time": "2024-03-23T09:13:04.969Z"
   },
   {
    "duration": 739,
    "start_time": "2024-03-23T09:13:04.994Z"
   },
   {
    "duration": 17,
    "start_time": "2024-03-23T09:13:05.739Z"
   },
   {
    "duration": 108,
    "start_time": "2024-03-23T09:13:05.766Z"
   },
   {
    "duration": 384,
    "start_time": "2024-03-23T09:13:05.876Z"
   },
   {
    "duration": 16,
    "start_time": "2024-03-23T09:13:06.262Z"
   },
   {
    "duration": 36,
    "start_time": "2024-03-23T09:13:06.280Z"
   },
   {
    "duration": 68,
    "start_time": "2024-03-23T09:13:06.319Z"
   },
   {
    "duration": 50,
    "start_time": "2024-03-23T09:13:06.389Z"
   },
   {
    "duration": 233,
    "start_time": "2024-03-23T09:13:06.441Z"
   },
   {
    "duration": 12,
    "start_time": "2024-03-23T09:13:06.676Z"
   },
   {
    "duration": 1241,
    "start_time": "2024-03-23T09:13:06.689Z"
   },
   {
    "duration": 120,
    "start_time": "2024-03-23T09:13:07.933Z"
   },
   {
    "duration": 136,
    "start_time": "2024-03-23T09:13:08.055Z"
   },
   {
    "duration": 98,
    "start_time": "2024-03-23T09:13:08.192Z"
   },
   {
    "duration": 27,
    "start_time": "2024-03-23T09:13:08.292Z"
   },
   {
    "duration": 14,
    "start_time": "2024-03-23T09:13:08.321Z"
   },
   {
    "duration": 43,
    "start_time": "2024-03-23T09:13:08.337Z"
   },
   {
    "duration": 27,
    "start_time": "2024-03-23T09:13:08.382Z"
   },
   {
    "duration": 14,
    "start_time": "2024-03-23T09:13:08.410Z"
   },
   {
    "duration": 54,
    "start_time": "2024-03-23T09:13:08.426Z"
   },
   {
    "duration": 29,
    "start_time": "2024-03-23T09:13:08.482Z"
   },
   {
    "duration": 32,
    "start_time": "2024-03-23T09:13:08.513Z"
   },
   {
    "duration": 42,
    "start_time": "2024-03-23T09:13:08.547Z"
   },
   {
    "duration": 27,
    "start_time": "2024-03-23T09:13:08.590Z"
   },
   {
    "duration": 26,
    "start_time": "2024-03-23T09:13:08.618Z"
   },
   {
    "duration": 68,
    "start_time": "2024-03-23T09:13:08.646Z"
   },
   {
    "duration": 298,
    "start_time": "2024-03-23T09:13:08.716Z"
   },
   {
    "duration": 51,
    "start_time": "2024-03-23T09:13:09.016Z"
   },
   {
    "duration": 36,
    "start_time": "2024-03-23T09:13:09.069Z"
   },
   {
    "duration": 41,
    "start_time": "2024-03-23T09:13:09.107Z"
   },
   {
    "duration": 29,
    "start_time": "2024-03-23T09:13:09.149Z"
   },
   {
    "duration": 236,
    "start_time": "2024-03-23T09:13:09.181Z"
   },
   {
    "duration": 12,
    "start_time": "2024-03-23T09:13:09.418Z"
   },
   {
    "duration": 4824,
    "start_time": "2024-03-23T09:13:09.432Z"
   },
   {
    "duration": 2930,
    "start_time": "2024-03-23T09:13:14.257Z"
   },
   {
    "duration": 94,
    "start_time": "2024-03-23T09:13:17.189Z"
   },
   {
    "duration": 177,
    "start_time": "2024-03-23T09:13:17.284Z"
   },
   {
    "duration": 24,
    "start_time": "2024-03-23T09:13:17.465Z"
   },
   {
    "duration": 56,
    "start_time": "2024-03-23T09:13:17.491Z"
   },
   {
    "duration": 21,
    "start_time": "2024-03-23T09:13:17.549Z"
   },
   {
    "duration": 11,
    "start_time": "2024-03-23T09:13:17.573Z"
   },
   {
    "duration": 19,
    "start_time": "2024-03-23T09:13:17.586Z"
   },
   {
    "duration": 4,
    "start_time": "2024-03-23T09:13:17.607Z"
   },
   {
    "duration": 16,
    "start_time": "2024-03-23T09:13:17.613Z"
   },
   {
    "duration": 3,
    "start_time": "2024-03-23T09:13:17.631Z"
   },
   {
    "duration": 44,
    "start_time": "2024-03-23T09:13:17.635Z"
   },
   {
    "duration": 13,
    "start_time": "2024-03-23T09:13:17.681Z"
   },
   {
    "duration": 9577,
    "start_time": "2024-03-23T09:13:17.696Z"
   },
   {
    "duration": 708,
    "start_time": "2024-03-23T09:13:27.275Z"
   },
   {
    "duration": 5,
    "start_time": "2024-03-23T09:13:27.985Z"
   },
   {
    "duration": 12,
    "start_time": "2024-03-23T09:13:27.992Z"
   },
   {
    "duration": 4,
    "start_time": "2024-03-23T09:13:28.006Z"
   },
   {
    "duration": 8,
    "start_time": "2024-03-23T09:13:28.064Z"
   },
   {
    "duration": 5,
    "start_time": "2024-03-23T09:13:28.073Z"
   },
   {
    "duration": 3,
    "start_time": "2024-03-23T09:13:28.079Z"
   },
   {
    "duration": 8,
    "start_time": "2024-03-23T09:13:28.087Z"
   },
   {
    "duration": 4,
    "start_time": "2024-03-23T09:14:50.718Z"
   },
   {
    "duration": 9,
    "start_time": "2024-03-23T09:15:49.200Z"
   },
   {
    "duration": 120,
    "start_time": "2024-03-23T09:22:45.907Z"
   },
   {
    "duration": 4,
    "start_time": "2024-03-23T09:23:07.778Z"
   },
   {
    "duration": 6,
    "start_time": "2024-03-23T09:24:03.316Z"
   },
   {
    "duration": 9,
    "start_time": "2024-03-23T09:24:13.446Z"
   },
   {
    "duration": 9,
    "start_time": "2024-03-23T09:24:26.315Z"
   },
   {
    "duration": 6929,
    "start_time": "2024-03-23T09:24:54.038Z"
   },
   {
    "duration": 254,
    "start_time": "2024-03-23T09:25:03.691Z"
   },
   {
    "duration": 10,
    "start_time": "2024-03-23T09:25:12.076Z"
   },
   {
    "duration": 4,
    "start_time": "2024-03-23T09:25:21.036Z"
   },
   {
    "duration": 17,
    "start_time": "2024-03-23T09:25:52.155Z"
   },
   {
    "duration": 10,
    "start_time": "2024-03-23T09:26:15.434Z"
   },
   {
    "duration": 15,
    "start_time": "2024-03-23T09:26:45.331Z"
   },
   {
    "duration": 2466,
    "start_time": "2024-03-23T09:27:16.363Z"
   },
   {
    "duration": 1272,
    "start_time": "2024-03-23T09:27:18.831Z"
   },
   {
    "duration": 2692,
    "start_time": "2024-03-23T09:27:20.105Z"
   },
   {
    "duration": 9,
    "start_time": "2024-03-23T09:27:22.799Z"
   },
   {
    "duration": 30,
    "start_time": "2024-03-23T09:27:22.810Z"
   },
   {
    "duration": 13,
    "start_time": "2024-03-23T09:27:22.841Z"
   },
   {
    "duration": 14,
    "start_time": "2024-03-23T09:27:22.856Z"
   },
   {
    "duration": 20,
    "start_time": "2024-03-23T09:27:22.871Z"
   },
   {
    "duration": 885,
    "start_time": "2024-03-23T09:27:22.893Z"
   },
   {
    "duration": 185,
    "start_time": "2024-03-23T09:27:23.780Z"
   },
   {
    "duration": 900,
    "start_time": "2024-03-23T09:27:23.966Z"
   },
   {
    "duration": 1016,
    "start_time": "2024-03-23T09:27:24.868Z"
   },
   {
    "duration": 17,
    "start_time": "2024-03-23T09:27:25.885Z"
   },
   {
    "duration": 192,
    "start_time": "2024-03-23T09:27:25.905Z"
   },
   {
    "duration": 1366,
    "start_time": "2024-03-23T09:27:26.099Z"
   },
   {
    "duration": 27,
    "start_time": "2024-03-23T09:27:27.467Z"
   },
   {
    "duration": 135,
    "start_time": "2024-03-23T09:27:27.496Z"
   },
   {
    "duration": 84,
    "start_time": "2024-03-23T09:27:27.632Z"
   },
   {
    "duration": 148,
    "start_time": "2024-03-23T09:27:27.717Z"
   },
   {
    "duration": 16,
    "start_time": "2024-03-23T09:27:27.867Z"
   },
   {
    "duration": 22,
    "start_time": "2024-03-23T09:27:27.885Z"
   },
   {
    "duration": 78,
    "start_time": "2024-03-23T09:27:27.908Z"
   },
   {
    "duration": 317,
    "start_time": "2024-03-23T09:27:27.987Z"
   },
   {
    "duration": 14,
    "start_time": "2024-03-23T09:27:28.306Z"
   },
   {
    "duration": 21,
    "start_time": "2024-03-23T09:27:28.322Z"
   },
   {
    "duration": 757,
    "start_time": "2024-03-23T09:27:28.344Z"
   },
   {
    "duration": 16,
    "start_time": "2024-03-23T09:27:29.103Z"
   },
   {
    "duration": 109,
    "start_time": "2024-03-23T09:27:29.120Z"
   },
   {
    "duration": 411,
    "start_time": "2024-03-23T09:27:29.231Z"
   },
   {
    "duration": 22,
    "start_time": "2024-03-23T09:27:29.644Z"
   },
   {
    "duration": 43,
    "start_time": "2024-03-23T09:27:29.667Z"
   },
   {
    "duration": 60,
    "start_time": "2024-03-23T09:27:29.711Z"
   },
   {
    "duration": 52,
    "start_time": "2024-03-23T09:27:29.773Z"
   },
   {
    "duration": 209,
    "start_time": "2024-03-23T09:27:29.831Z"
   },
   {
    "duration": 11,
    "start_time": "2024-03-23T09:27:30.042Z"
   },
   {
    "duration": 1293,
    "start_time": "2024-03-23T09:27:30.055Z"
   },
   {
    "duration": 117,
    "start_time": "2024-03-23T09:27:31.350Z"
   },
   {
    "duration": 131,
    "start_time": "2024-03-23T09:27:31.468Z"
   },
   {
    "duration": 102,
    "start_time": "2024-03-23T09:27:31.600Z"
   },
   {
    "duration": 28,
    "start_time": "2024-03-23T09:27:31.704Z"
   },
   {
    "duration": 35,
    "start_time": "2024-03-23T09:27:31.736Z"
   },
   {
    "duration": 94,
    "start_time": "2024-03-23T09:27:31.772Z"
   },
   {
    "duration": 45,
    "start_time": "2024-03-23T09:27:31.868Z"
   },
   {
    "duration": 41,
    "start_time": "2024-03-23T09:27:31.916Z"
   },
   {
    "duration": 41,
    "start_time": "2024-03-23T09:27:31.959Z"
   },
   {
    "duration": 54,
    "start_time": "2024-03-23T09:27:32.002Z"
   },
   {
    "duration": 68,
    "start_time": "2024-03-23T09:27:32.058Z"
   },
   {
    "duration": 29,
    "start_time": "2024-03-23T09:27:32.128Z"
   },
   {
    "duration": 43,
    "start_time": "2024-03-23T09:27:32.159Z"
   },
   {
    "duration": 39,
    "start_time": "2024-03-23T09:27:32.204Z"
   },
   {
    "duration": 55,
    "start_time": "2024-03-23T09:27:32.245Z"
   },
   {
    "duration": 256,
    "start_time": "2024-03-23T09:27:32.302Z"
   },
   {
    "duration": 31,
    "start_time": "2024-03-23T09:27:32.561Z"
   },
   {
    "duration": 53,
    "start_time": "2024-03-23T09:27:32.593Z"
   },
   {
    "duration": 40,
    "start_time": "2024-03-23T09:27:32.648Z"
   },
   {
    "duration": 36,
    "start_time": "2024-03-23T09:27:32.690Z"
   },
   {
    "duration": 209,
    "start_time": "2024-03-23T09:27:32.727Z"
   },
   {
    "duration": 11,
    "start_time": "2024-03-23T09:27:32.938Z"
   },
   {
    "duration": 4693,
    "start_time": "2024-03-23T09:27:32.950Z"
   },
   {
    "duration": 2974,
    "start_time": "2024-03-23T09:27:37.645Z"
   },
   {
    "duration": 112,
    "start_time": "2024-03-23T09:27:40.621Z"
   },
   {
    "duration": 172,
    "start_time": "2024-03-23T09:27:40.734Z"
   },
   {
    "duration": 21,
    "start_time": "2024-03-23T09:27:40.908Z"
   },
   {
    "duration": 55,
    "start_time": "2024-03-23T09:27:40.931Z"
   },
   {
    "duration": 4,
    "start_time": "2024-03-23T09:27:40.987Z"
   },
   {
    "duration": 12,
    "start_time": "2024-03-23T09:27:40.992Z"
   },
   {
    "duration": 17,
    "start_time": "2024-03-23T09:27:41.006Z"
   },
   {
    "duration": 4,
    "start_time": "2024-03-23T09:27:41.025Z"
   },
   {
    "duration": 36,
    "start_time": "2024-03-23T09:27:41.031Z"
   },
   {
    "duration": 6002,
    "start_time": "2024-03-23T09:27:41.068Z"
   },
   {
    "duration": 349,
    "start_time": "2024-03-23T09:27:47.072Z"
   },
   {
    "duration": 9,
    "start_time": "2024-03-23T09:27:47.422Z"
   },
   {
    "duration": 135,
    "start_time": "2024-03-23T09:27:47.432Z"
   },
   {
    "duration": 0,
    "start_time": "2024-03-23T09:27:47.568Z"
   },
   {
    "duration": 0,
    "start_time": "2024-03-23T09:27:47.570Z"
   },
   {
    "duration": 0,
    "start_time": "2024-03-23T09:27:47.571Z"
   },
   {
    "duration": 0,
    "start_time": "2024-03-23T09:27:47.572Z"
   },
   {
    "duration": 0,
    "start_time": "2024-03-23T09:27:47.573Z"
   },
   {
    "duration": 0,
    "start_time": "2024-03-23T09:27:47.574Z"
   },
   {
    "duration": 0,
    "start_time": "2024-03-23T09:27:47.575Z"
   },
   {
    "duration": 0,
    "start_time": "2024-03-23T09:27:47.576Z"
   },
   {
    "duration": 0,
    "start_time": "2024-03-23T09:27:47.577Z"
   },
   {
    "duration": 14,
    "start_time": "2024-03-23T09:28:24.447Z"
   },
   {
    "duration": 17,
    "start_time": "2024-03-23T09:28:32.780Z"
   },
   {
    "duration": 8,
    "start_time": "2024-03-23T09:28:36.949Z"
   },
   {
    "duration": 9,
    "start_time": "2024-03-23T09:28:58.598Z"
   },
   {
    "duration": 26,
    "start_time": "2024-03-23T09:30:15.758Z"
   },
   {
    "duration": 21,
    "start_time": "2024-03-23T09:31:59.496Z"
   },
   {
    "duration": 2537,
    "start_time": "2024-03-23T09:32:12.520Z"
   },
   {
    "duration": 1377,
    "start_time": "2024-03-23T09:32:15.060Z"
   },
   {
    "duration": 2626,
    "start_time": "2024-03-23T09:32:16.439Z"
   },
   {
    "duration": 11,
    "start_time": "2024-03-23T09:32:19.068Z"
   },
   {
    "duration": 11,
    "start_time": "2024-03-23T09:32:19.080Z"
   },
   {
    "duration": 3,
    "start_time": "2024-03-23T09:32:19.094Z"
   },
   {
    "duration": 11,
    "start_time": "2024-03-23T09:32:19.098Z"
   },
   {
    "duration": 3,
    "start_time": "2024-03-23T09:32:19.111Z"
   },
   {
    "duration": 855,
    "start_time": "2024-03-23T09:32:19.117Z"
   },
   {
    "duration": 172,
    "start_time": "2024-03-23T09:32:19.974Z"
   },
   {
    "duration": 947,
    "start_time": "2024-03-23T09:32:20.148Z"
   },
   {
    "duration": 1000,
    "start_time": "2024-03-23T09:32:21.097Z"
   },
   {
    "duration": 18,
    "start_time": "2024-03-23T09:32:22.098Z"
   },
   {
    "duration": 188,
    "start_time": "2024-03-23T09:32:22.117Z"
   },
   {
    "duration": 1365,
    "start_time": "2024-03-23T09:32:22.307Z"
   },
   {
    "duration": 30,
    "start_time": "2024-03-23T09:32:23.673Z"
   },
   {
    "duration": 152,
    "start_time": "2024-03-23T09:32:23.704Z"
   },
   {
    "duration": 61,
    "start_time": "2024-03-23T09:32:23.858Z"
   },
   {
    "duration": 113,
    "start_time": "2024-03-23T09:32:23.920Z"
   },
   {
    "duration": 13,
    "start_time": "2024-03-23T09:32:24.035Z"
   },
   {
    "duration": 32,
    "start_time": "2024-03-23T09:32:24.050Z"
   },
   {
    "duration": 64,
    "start_time": "2024-03-23T09:32:24.084Z"
   },
   {
    "duration": 293,
    "start_time": "2024-03-23T09:32:24.150Z"
   },
   {
    "duration": 21,
    "start_time": "2024-03-23T09:32:24.444Z"
   },
   {
    "duration": 20,
    "start_time": "2024-03-23T09:32:24.467Z"
   },
   {
    "duration": 713,
    "start_time": "2024-03-23T09:32:24.489Z"
   },
   {
    "duration": 13,
    "start_time": "2024-03-23T09:32:25.204Z"
   },
   {
    "duration": 106,
    "start_time": "2024-03-23T09:32:25.221Z"
   },
   {
    "duration": 391,
    "start_time": "2024-03-23T09:32:25.329Z"
   },
   {
    "duration": 14,
    "start_time": "2024-03-23T09:32:25.722Z"
   },
   {
    "duration": 54,
    "start_time": "2024-03-23T09:32:25.737Z"
   },
   {
    "duration": 92,
    "start_time": "2024-03-23T09:32:25.793Z"
   },
   {
    "duration": 80,
    "start_time": "2024-03-23T09:32:25.887Z"
   },
   {
    "duration": 212,
    "start_time": "2024-03-23T09:32:25.968Z"
   },
   {
    "duration": 12,
    "start_time": "2024-03-23T09:32:26.182Z"
   },
   {
    "duration": 1194,
    "start_time": "2024-03-23T09:32:26.196Z"
   },
   {
    "duration": 114,
    "start_time": "2024-03-23T09:32:27.392Z"
   },
   {
    "duration": 130,
    "start_time": "2024-03-23T09:32:27.508Z"
   },
   {
    "duration": 99,
    "start_time": "2024-03-23T09:32:27.639Z"
   },
   {
    "duration": 35,
    "start_time": "2024-03-23T09:32:27.740Z"
   },
   {
    "duration": 26,
    "start_time": "2024-03-23T09:32:27.777Z"
   },
   {
    "duration": 48,
    "start_time": "2024-03-23T09:32:27.805Z"
   },
   {
    "duration": 28,
    "start_time": "2024-03-23T09:32:27.854Z"
   },
   {
    "duration": 15,
    "start_time": "2024-03-23T09:32:27.883Z"
   },
   {
    "duration": 30,
    "start_time": "2024-03-23T09:32:27.900Z"
   },
   {
    "duration": 43,
    "start_time": "2024-03-23T09:32:27.931Z"
   },
   {
    "duration": 37,
    "start_time": "2024-03-23T09:32:27.976Z"
   },
   {
    "duration": 29,
    "start_time": "2024-03-23T09:32:28.015Z"
   },
   {
    "duration": 21,
    "start_time": "2024-03-23T09:32:28.046Z"
   },
   {
    "duration": 35,
    "start_time": "2024-03-23T09:32:28.069Z"
   },
   {
    "duration": 40,
    "start_time": "2024-03-23T09:32:28.106Z"
   },
   {
    "duration": 257,
    "start_time": "2024-03-23T09:32:28.147Z"
   },
   {
    "duration": 28,
    "start_time": "2024-03-23T09:32:28.406Z"
   },
   {
    "duration": 45,
    "start_time": "2024-03-23T09:32:28.436Z"
   },
   {
    "duration": 25,
    "start_time": "2024-03-23T09:32:28.485Z"
   },
   {
    "duration": 59,
    "start_time": "2024-03-23T09:32:28.511Z"
   },
   {
    "duration": 243,
    "start_time": "2024-03-23T09:32:28.572Z"
   },
   {
    "duration": 13,
    "start_time": "2024-03-23T09:32:28.817Z"
   },
   {
    "duration": 4969,
    "start_time": "2024-03-23T09:32:28.831Z"
   },
   {
    "duration": 2896,
    "start_time": "2024-03-23T09:32:33.802Z"
   },
   {
    "duration": 86,
    "start_time": "2024-03-23T09:32:36.700Z"
   },
   {
    "duration": 183,
    "start_time": "2024-03-23T09:32:36.788Z"
   },
   {
    "duration": 17,
    "start_time": "2024-03-23T09:32:36.973Z"
   },
   {
    "duration": 34,
    "start_time": "2024-03-23T09:32:36.991Z"
   },
   {
    "duration": 5,
    "start_time": "2024-03-23T09:32:37.026Z"
   },
   {
    "duration": 36,
    "start_time": "2024-03-23T09:32:37.033Z"
   },
   {
    "duration": 16,
    "start_time": "2024-03-23T09:32:37.071Z"
   },
   {
    "duration": 3,
    "start_time": "2024-03-23T09:32:37.089Z"
   },
   {
    "duration": 26,
    "start_time": "2024-03-23T09:32:37.094Z"
   },
   {
    "duration": 6958,
    "start_time": "2024-03-23T09:32:37.121Z"
   },
   {
    "duration": 441,
    "start_time": "2024-03-23T09:32:44.165Z"
   },
   {
    "duration": 58,
    "start_time": "2024-03-23T09:32:44.608Z"
   },
   {
    "duration": 224,
    "start_time": "2024-03-23T09:32:44.667Z"
   },
   {
    "duration": 0,
    "start_time": "2024-03-23T09:32:44.893Z"
   },
   {
    "duration": 0,
    "start_time": "2024-03-23T09:32:44.894Z"
   },
   {
    "duration": 0,
    "start_time": "2024-03-23T09:32:44.895Z"
   },
   {
    "duration": 0,
    "start_time": "2024-03-23T09:32:44.897Z"
   },
   {
    "duration": 0,
    "start_time": "2024-03-23T09:32:44.897Z"
   },
   {
    "duration": 0,
    "start_time": "2024-03-23T09:32:44.898Z"
   },
   {
    "duration": 0,
    "start_time": "2024-03-23T09:32:44.899Z"
   },
   {
    "duration": 0,
    "start_time": "2024-03-23T09:32:44.900Z"
   },
   {
    "duration": 0,
    "start_time": "2024-03-23T09:32:44.901Z"
   },
   {
    "duration": 0,
    "start_time": "2024-03-23T09:32:44.902Z"
   },
   {
    "duration": 22,
    "start_time": "2024-03-23T09:34:43.892Z"
   },
   {
    "duration": 2368,
    "start_time": "2024-03-23T09:36:55.669Z"
   },
   {
    "duration": 1294,
    "start_time": "2024-03-23T09:36:58.039Z"
   },
   {
    "duration": 2476,
    "start_time": "2024-03-23T09:36:59.335Z"
   },
   {
    "duration": 10,
    "start_time": "2024-03-23T09:37:01.813Z"
   },
   {
    "duration": 120,
    "start_time": "2024-03-23T09:37:01.826Z"
   },
   {
    "duration": 43,
    "start_time": "2024-03-23T09:37:01.948Z"
   },
   {
    "duration": 19,
    "start_time": "2024-03-23T09:37:01.993Z"
   },
   {
    "duration": 18,
    "start_time": "2024-03-23T09:37:02.014Z"
   },
   {
    "duration": 905,
    "start_time": "2024-03-23T09:37:02.034Z"
   },
   {
    "duration": 163,
    "start_time": "2024-03-23T09:37:02.941Z"
   },
   {
    "duration": 952,
    "start_time": "2024-03-23T09:37:03.105Z"
   },
   {
    "duration": 971,
    "start_time": "2024-03-23T09:37:04.058Z"
   },
   {
    "duration": 17,
    "start_time": "2024-03-23T09:37:05.030Z"
   },
   {
    "duration": 231,
    "start_time": "2024-03-23T09:37:05.052Z"
   },
   {
    "duration": 1377,
    "start_time": "2024-03-23T09:37:05.284Z"
   },
   {
    "duration": 27,
    "start_time": "2024-03-23T09:37:06.664Z"
   },
   {
    "duration": 141,
    "start_time": "2024-03-23T09:37:06.692Z"
   },
   {
    "duration": 69,
    "start_time": "2024-03-23T09:37:06.835Z"
   },
   {
    "duration": 112,
    "start_time": "2024-03-23T09:37:06.905Z"
   },
   {
    "duration": 13,
    "start_time": "2024-03-23T09:37:07.019Z"
   },
   {
    "duration": 33,
    "start_time": "2024-03-23T09:37:07.034Z"
   },
   {
    "duration": 56,
    "start_time": "2024-03-23T09:37:07.069Z"
   },
   {
    "duration": 305,
    "start_time": "2024-03-23T09:37:07.126Z"
   },
   {
    "duration": 14,
    "start_time": "2024-03-23T09:37:07.433Z"
   },
   {
    "duration": 31,
    "start_time": "2024-03-23T09:37:07.448Z"
   },
   {
    "duration": 771,
    "start_time": "2024-03-23T09:37:07.480Z"
   },
   {
    "duration": 18,
    "start_time": "2024-03-23T09:37:08.253Z"
   },
   {
    "duration": 99,
    "start_time": "2024-03-23T09:37:08.273Z"
   },
   {
    "duration": 395,
    "start_time": "2024-03-23T09:37:08.373Z"
   },
   {
    "duration": 14,
    "start_time": "2024-03-23T09:37:08.770Z"
   },
   {
    "duration": 48,
    "start_time": "2024-03-23T09:37:08.786Z"
   },
   {
    "duration": 58,
    "start_time": "2024-03-23T09:37:08.836Z"
   },
   {
    "duration": 70,
    "start_time": "2024-03-23T09:37:08.896Z"
   },
   {
    "duration": 221,
    "start_time": "2024-03-23T09:37:08.968Z"
   },
   {
    "duration": 14,
    "start_time": "2024-03-23T09:37:09.191Z"
   },
   {
    "duration": 1282,
    "start_time": "2024-03-23T09:37:09.207Z"
   },
   {
    "duration": 117,
    "start_time": "2024-03-23T09:37:10.492Z"
   },
   {
    "duration": 130,
    "start_time": "2024-03-23T09:37:10.611Z"
   },
   {
    "duration": 116,
    "start_time": "2024-03-23T09:37:10.743Z"
   },
   {
    "duration": 46,
    "start_time": "2024-03-23T09:37:10.865Z"
   },
   {
    "duration": 25,
    "start_time": "2024-03-23T09:37:10.917Z"
   },
   {
    "duration": 48,
    "start_time": "2024-03-23T09:37:10.944Z"
   },
   {
    "duration": 28,
    "start_time": "2024-03-23T09:37:10.993Z"
   },
   {
    "duration": 31,
    "start_time": "2024-03-23T09:37:11.022Z"
   },
   {
    "duration": 56,
    "start_time": "2024-03-23T09:37:11.054Z"
   },
   {
    "duration": 35,
    "start_time": "2024-03-23T09:37:11.112Z"
   },
   {
    "duration": 38,
    "start_time": "2024-03-23T09:37:11.148Z"
   },
   {
    "duration": 29,
    "start_time": "2024-03-23T09:37:11.188Z"
   },
   {
    "duration": 16,
    "start_time": "2024-03-23T09:37:11.219Z"
   },
   {
    "duration": 40,
    "start_time": "2024-03-23T09:37:11.236Z"
   },
   {
    "duration": 41,
    "start_time": "2024-03-23T09:37:11.278Z"
   },
   {
    "duration": 253,
    "start_time": "2024-03-23T09:37:11.321Z"
   },
   {
    "duration": 49,
    "start_time": "2024-03-23T09:37:11.575Z"
   },
   {
    "duration": 43,
    "start_time": "2024-03-23T09:37:11.627Z"
   },
   {
    "duration": 19,
    "start_time": "2024-03-23T09:37:11.672Z"
   },
   {
    "duration": 27,
    "start_time": "2024-03-23T09:37:11.692Z"
   },
   {
    "duration": 275,
    "start_time": "2024-03-23T09:37:11.720Z"
   },
   {
    "duration": 12,
    "start_time": "2024-03-23T09:37:11.997Z"
   },
   {
    "duration": 5009,
    "start_time": "2024-03-23T09:37:12.011Z"
   },
   {
    "duration": 3227,
    "start_time": "2024-03-23T09:37:17.021Z"
   },
   {
    "duration": 100,
    "start_time": "2024-03-23T09:37:20.250Z"
   },
   {
    "duration": 181,
    "start_time": "2024-03-23T09:37:20.352Z"
   },
   {
    "duration": 18,
    "start_time": "2024-03-23T09:37:20.535Z"
   },
   {
    "duration": 49,
    "start_time": "2024-03-23T09:37:20.555Z"
   },
   {
    "duration": 5,
    "start_time": "2024-03-23T09:37:20.606Z"
   },
   {
    "duration": 20,
    "start_time": "2024-03-23T09:37:20.613Z"
   },
   {
    "duration": 47,
    "start_time": "2024-03-23T09:37:20.635Z"
   },
   {
    "duration": 8,
    "start_time": "2024-03-23T09:37:20.684Z"
   },
   {
    "duration": 17,
    "start_time": "2024-03-23T09:37:20.694Z"
   },
   {
    "duration": 9453,
    "start_time": "2024-03-23T09:37:20.713Z"
   },
   {
    "duration": 507,
    "start_time": "2024-03-23T09:37:30.168Z"
   },
   {
    "duration": 11,
    "start_time": "2024-03-23T09:37:30.677Z"
   },
   {
    "duration": 376,
    "start_time": "2024-03-23T09:37:30.690Z"
   },
   {
    "duration": 0,
    "start_time": "2024-03-23T09:37:31.068Z"
   },
   {
    "duration": 0,
    "start_time": "2024-03-23T09:37:31.069Z"
   },
   {
    "duration": 0,
    "start_time": "2024-03-23T09:37:31.070Z"
   },
   {
    "duration": 0,
    "start_time": "2024-03-23T09:37:31.072Z"
   },
   {
    "duration": 0,
    "start_time": "2024-03-23T09:37:31.072Z"
   },
   {
    "duration": 0,
    "start_time": "2024-03-23T09:37:31.074Z"
   },
   {
    "duration": 0,
    "start_time": "2024-03-23T09:37:31.075Z"
   },
   {
    "duration": 0,
    "start_time": "2024-03-23T09:37:31.077Z"
   },
   {
    "duration": 0,
    "start_time": "2024-03-23T09:37:31.078Z"
   },
   {
    "duration": 0,
    "start_time": "2024-03-23T09:37:31.079Z"
   },
   {
    "duration": 3,
    "start_time": "2024-03-23T09:52:40.257Z"
   },
   {
    "duration": 4,
    "start_time": "2024-03-23T09:52:49.225Z"
   },
   {
    "duration": 14,
    "start_time": "2024-03-23T09:53:40.102Z"
   },
   {
    "duration": 13,
    "start_time": "2024-03-23T09:55:28.863Z"
   },
   {
    "duration": 27,
    "start_time": "2024-03-23T09:55:33.850Z"
   },
   {
    "duration": 10,
    "start_time": "2024-03-23T09:55:45.846Z"
   },
   {
    "duration": 81,
    "start_time": "2024-03-23T09:56:17.708Z"
   },
   {
    "duration": 115,
    "start_time": "2024-03-23T09:56:28.268Z"
   },
   {
    "duration": 82,
    "start_time": "2024-03-23T09:56:46.513Z"
   },
   {
    "duration": 24,
    "start_time": "2024-03-23T09:57:19.697Z"
   },
   {
    "duration": 34,
    "start_time": "2024-03-23T09:57:31.165Z"
   },
   {
    "duration": 47,
    "start_time": "2024-03-23T09:57:42.230Z"
   },
   {
    "duration": 52,
    "start_time": "2024-03-23T09:58:19.284Z"
   },
   {
    "duration": 91,
    "start_time": "2024-03-23T09:59:09.214Z"
   },
   {
    "duration": 29,
    "start_time": "2024-03-23T09:59:20.559Z"
   },
   {
    "duration": 2495,
    "start_time": "2024-03-23T09:59:58.462Z"
   },
   {
    "duration": 1341,
    "start_time": "2024-03-23T10:00:00.960Z"
   },
   {
    "duration": 2641,
    "start_time": "2024-03-23T10:00:02.303Z"
   },
   {
    "duration": 8,
    "start_time": "2024-03-23T10:00:04.946Z"
   },
   {
    "duration": 29,
    "start_time": "2024-03-23T10:00:04.956Z"
   },
   {
    "duration": 11,
    "start_time": "2024-03-23T10:00:04.987Z"
   },
   {
    "duration": 10,
    "start_time": "2024-03-23T10:00:04.999Z"
   },
   {
    "duration": 5,
    "start_time": "2024-03-23T10:00:05.010Z"
   },
   {
    "duration": 897,
    "start_time": "2024-03-23T10:00:05.017Z"
   },
   {
    "duration": 181,
    "start_time": "2024-03-23T10:00:05.916Z"
   },
   {
    "duration": 986,
    "start_time": "2024-03-23T10:00:06.098Z"
   },
   {
    "duration": 1037,
    "start_time": "2024-03-23T10:00:07.086Z"
   },
   {
    "duration": 18,
    "start_time": "2024-03-23T10:00:08.124Z"
   },
   {
    "duration": 196,
    "start_time": "2024-03-23T10:00:08.145Z"
   },
   {
    "duration": 1482,
    "start_time": "2024-03-23T10:00:08.343Z"
   },
   {
    "duration": 46,
    "start_time": "2024-03-23T10:00:09.827Z"
   },
   {
    "duration": 133,
    "start_time": "2024-03-23T10:00:09.875Z"
   },
   {
    "duration": 65,
    "start_time": "2024-03-23T10:00:10.010Z"
   },
   {
    "duration": 109,
    "start_time": "2024-03-23T10:00:10.078Z"
   },
   {
    "duration": 14,
    "start_time": "2024-03-23T10:00:10.188Z"
   },
   {
    "duration": 20,
    "start_time": "2024-03-23T10:00:10.204Z"
   },
   {
    "duration": 80,
    "start_time": "2024-03-23T10:00:10.225Z"
   },
   {
    "duration": 312,
    "start_time": "2024-03-23T10:00:10.307Z"
   },
   {
    "duration": 14,
    "start_time": "2024-03-23T10:00:10.621Z"
   },
   {
    "duration": 44,
    "start_time": "2024-03-23T10:00:10.636Z"
   },
   {
    "duration": 728,
    "start_time": "2024-03-23T10:00:10.682Z"
   },
   {
    "duration": 13,
    "start_time": "2024-03-23T10:00:11.411Z"
   },
   {
    "duration": 105,
    "start_time": "2024-03-23T10:00:11.426Z"
   },
   {
    "duration": 407,
    "start_time": "2024-03-23T10:00:11.532Z"
   },
   {
    "duration": 15,
    "start_time": "2024-03-23T10:00:11.940Z"
   },
   {
    "duration": 48,
    "start_time": "2024-03-23T10:00:11.964Z"
   },
   {
    "duration": 74,
    "start_time": "2024-03-23T10:00:12.015Z"
   },
   {
    "duration": 47,
    "start_time": "2024-03-23T10:00:12.091Z"
   },
   {
    "duration": 240,
    "start_time": "2024-03-23T10:00:12.140Z"
   },
   {
    "duration": 14,
    "start_time": "2024-03-23T10:00:12.382Z"
   },
   {
    "duration": 1232,
    "start_time": "2024-03-23T10:00:12.398Z"
   },
   {
    "duration": 122,
    "start_time": "2024-03-23T10:00:13.632Z"
   },
   {
    "duration": 151,
    "start_time": "2024-03-23T10:00:13.755Z"
   },
   {
    "duration": 97,
    "start_time": "2024-03-23T10:00:13.908Z"
   },
   {
    "duration": 26,
    "start_time": "2024-03-23T10:00:14.007Z"
   },
   {
    "duration": 39,
    "start_time": "2024-03-23T10:00:14.037Z"
   },
   {
    "duration": 25,
    "start_time": "2024-03-23T10:00:14.078Z"
   },
   {
    "duration": 27,
    "start_time": "2024-03-23T10:00:14.104Z"
   },
   {
    "duration": 16,
    "start_time": "2024-03-23T10:00:14.132Z"
   },
   {
    "duration": 42,
    "start_time": "2024-03-23T10:00:14.150Z"
   },
   {
    "duration": 28,
    "start_time": "2024-03-23T10:00:14.194Z"
   },
   {
    "duration": 51,
    "start_time": "2024-03-23T10:00:14.224Z"
   },
   {
    "duration": 28,
    "start_time": "2024-03-23T10:00:14.277Z"
   },
   {
    "duration": 15,
    "start_time": "2024-03-23T10:00:14.306Z"
   },
   {
    "duration": 27,
    "start_time": "2024-03-23T10:00:14.323Z"
   },
   {
    "duration": 53,
    "start_time": "2024-03-23T10:00:14.352Z"
   },
   {
    "duration": 290,
    "start_time": "2024-03-23T10:00:14.406Z"
   },
   {
    "duration": 29,
    "start_time": "2024-03-23T10:00:14.698Z"
   },
   {
    "duration": 51,
    "start_time": "2024-03-23T10:00:14.729Z"
   },
   {
    "duration": 15,
    "start_time": "2024-03-23T10:00:14.782Z"
   },
   {
    "duration": 35,
    "start_time": "2024-03-23T10:00:14.798Z"
   },
   {
    "duration": 252,
    "start_time": "2024-03-23T10:00:14.834Z"
   },
   {
    "duration": 11,
    "start_time": "2024-03-23T10:00:15.088Z"
   },
   {
    "duration": 4944,
    "start_time": "2024-03-23T10:00:15.100Z"
   },
   {
    "duration": 3064,
    "start_time": "2024-03-23T10:00:20.045Z"
   },
   {
    "duration": 100,
    "start_time": "2024-03-23T10:00:23.111Z"
   },
   {
    "duration": 190,
    "start_time": "2024-03-23T10:00:23.213Z"
   },
   {
    "duration": 18,
    "start_time": "2024-03-23T10:00:23.404Z"
   },
   {
    "duration": 59,
    "start_time": "2024-03-23T10:00:23.424Z"
   },
   {
    "duration": 4,
    "start_time": "2024-03-23T10:00:23.487Z"
   },
   {
    "duration": 12,
    "start_time": "2024-03-23T10:00:23.492Z"
   },
   {
    "duration": 17,
    "start_time": "2024-03-23T10:00:23.505Z"
   },
   {
    "duration": 3,
    "start_time": "2024-03-23T10:00:23.524Z"
   },
   {
    "duration": 43,
    "start_time": "2024-03-23T10:00:23.529Z"
   },
   {
    "duration": 7004,
    "start_time": "2024-03-23T10:00:23.576Z"
   },
   {
    "duration": 726,
    "start_time": "2024-03-23T10:00:30.583Z"
   },
   {
    "duration": 69,
    "start_time": "2024-03-23T10:00:31.311Z"
   },
   {
    "duration": 301,
    "start_time": "2024-03-23T10:00:31.382Z"
   },
   {
    "duration": 301,
    "start_time": "2024-03-23T10:00:31.685Z"
   },
   {
    "duration": 0,
    "start_time": "2024-03-23T10:00:31.989Z"
   },
   {
    "duration": 0,
    "start_time": "2024-03-23T10:00:31.990Z"
   },
   {
    "duration": 0,
    "start_time": "2024-03-23T10:00:31.992Z"
   },
   {
    "duration": 1,
    "start_time": "2024-03-23T10:00:31.993Z"
   },
   {
    "duration": 0,
    "start_time": "2024-03-23T10:00:31.995Z"
   },
   {
    "duration": 0,
    "start_time": "2024-03-23T10:00:31.996Z"
   },
   {
    "duration": 0,
    "start_time": "2024-03-23T10:00:31.998Z"
   },
   {
    "duration": 0,
    "start_time": "2024-03-23T10:00:31.999Z"
   },
   {
    "duration": 0,
    "start_time": "2024-03-23T10:00:32.001Z"
   },
   {
    "duration": 0,
    "start_time": "2024-03-23T10:00:32.003Z"
   },
   {
    "duration": 23,
    "start_time": "2024-03-23T10:01:49.190Z"
   },
   {
    "duration": 69,
    "start_time": "2024-03-23T10:02:59.636Z"
   },
   {
    "duration": 64,
    "start_time": "2024-03-23T10:03:52.369Z"
   },
   {
    "duration": 63,
    "start_time": "2024-03-23T10:04:49.823Z"
   },
   {
    "duration": 35,
    "start_time": "2024-03-23T10:05:19.488Z"
   },
   {
    "duration": 78,
    "start_time": "2024-03-23T10:05:40.030Z"
   },
   {
    "duration": 27,
    "start_time": "2024-03-23T10:05:56.668Z"
   },
   {
    "duration": 2499,
    "start_time": "2024-03-23T10:06:16.994Z"
   },
   {
    "duration": 1314,
    "start_time": "2024-03-23T10:06:19.495Z"
   },
   {
    "duration": 2593,
    "start_time": "2024-03-23T10:06:20.811Z"
   },
   {
    "duration": 7,
    "start_time": "2024-03-23T10:06:23.406Z"
   },
   {
    "duration": 3,
    "start_time": "2024-03-23T10:06:23.416Z"
   },
   {
    "duration": 8,
    "start_time": "2024-03-23T10:06:23.421Z"
   },
   {
    "duration": 13,
    "start_time": "2024-03-23T10:06:23.430Z"
   },
   {
    "duration": 3,
    "start_time": "2024-03-23T10:06:23.445Z"
   },
   {
    "duration": 873,
    "start_time": "2024-03-23T10:06:23.450Z"
   },
   {
    "duration": 174,
    "start_time": "2024-03-23T10:06:24.324Z"
   },
   {
    "duration": 914,
    "start_time": "2024-03-23T10:06:24.500Z"
   },
   {
    "duration": 1011,
    "start_time": "2024-03-23T10:06:25.415Z"
   },
   {
    "duration": 17,
    "start_time": "2024-03-23T10:06:26.428Z"
   },
   {
    "duration": 190,
    "start_time": "2024-03-23T10:06:26.447Z"
   },
   {
    "duration": 1464,
    "start_time": "2024-03-23T10:06:26.639Z"
   },
   {
    "duration": 26,
    "start_time": "2024-03-23T10:06:28.104Z"
   },
   {
    "duration": 147,
    "start_time": "2024-03-23T10:06:28.132Z"
   },
   {
    "duration": 48,
    "start_time": "2024-03-23T10:06:28.281Z"
   },
   {
    "duration": 118,
    "start_time": "2024-03-23T10:06:28.331Z"
   },
   {
    "duration": 26,
    "start_time": "2024-03-23T10:06:28.451Z"
   },
   {
    "duration": 20,
    "start_time": "2024-03-23T10:06:28.479Z"
   },
   {
    "duration": 52,
    "start_time": "2024-03-23T10:06:28.501Z"
   },
   {
    "duration": 331,
    "start_time": "2024-03-23T10:06:28.555Z"
   },
   {
    "duration": 17,
    "start_time": "2024-03-23T10:06:28.888Z"
   },
   {
    "duration": 27,
    "start_time": "2024-03-23T10:06:28.907Z"
   },
   {
    "duration": 780,
    "start_time": "2024-03-23T10:06:28.936Z"
   },
   {
    "duration": 13,
    "start_time": "2024-03-23T10:06:29.717Z"
   },
   {
    "duration": 119,
    "start_time": "2024-03-23T10:06:29.732Z"
   },
   {
    "duration": 389,
    "start_time": "2024-03-23T10:06:29.852Z"
   },
   {
    "duration": 23,
    "start_time": "2024-03-23T10:06:30.243Z"
   },
   {
    "duration": 78,
    "start_time": "2024-03-23T10:06:30.268Z"
   },
   {
    "duration": 70,
    "start_time": "2024-03-23T10:06:30.349Z"
   },
   {
    "duration": 92,
    "start_time": "2024-03-23T10:06:30.420Z"
   },
   {
    "duration": 261,
    "start_time": "2024-03-23T10:06:30.513Z"
   },
   {
    "duration": 12,
    "start_time": "2024-03-23T10:06:30.776Z"
   },
   {
    "duration": 1454,
    "start_time": "2024-03-23T10:06:30.789Z"
   },
   {
    "duration": 120,
    "start_time": "2024-03-23T10:06:32.244Z"
   },
   {
    "duration": 138,
    "start_time": "2024-03-23T10:06:32.375Z"
   },
   {
    "duration": 100,
    "start_time": "2024-03-23T10:06:32.515Z"
   },
   {
    "duration": 27,
    "start_time": "2024-03-23T10:06:32.617Z"
   },
   {
    "duration": 33,
    "start_time": "2024-03-23T10:06:32.649Z"
   },
   {
    "duration": 57,
    "start_time": "2024-03-23T10:06:32.683Z"
   },
   {
    "duration": 36,
    "start_time": "2024-03-23T10:06:32.741Z"
   },
   {
    "duration": 21,
    "start_time": "2024-03-23T10:06:32.778Z"
   },
   {
    "duration": 45,
    "start_time": "2024-03-23T10:06:32.800Z"
   },
   {
    "duration": 38,
    "start_time": "2024-03-23T10:06:32.846Z"
   },
   {
    "duration": 24,
    "start_time": "2024-03-23T10:06:32.885Z"
   },
   {
    "duration": 26,
    "start_time": "2024-03-23T10:06:32.910Z"
   },
   {
    "duration": 31,
    "start_time": "2024-03-23T10:06:32.937Z"
   },
   {
    "duration": 25,
    "start_time": "2024-03-23T10:06:32.979Z"
   },
   {
    "duration": 42,
    "start_time": "2024-03-23T10:06:33.005Z"
   },
   {
    "duration": 275,
    "start_time": "2024-03-23T10:06:33.049Z"
   },
   {
    "duration": 44,
    "start_time": "2024-03-23T10:06:33.325Z"
   },
   {
    "duration": 26,
    "start_time": "2024-03-23T10:06:33.377Z"
   },
   {
    "duration": 26,
    "start_time": "2024-03-23T10:06:33.404Z"
   },
   {
    "duration": 36,
    "start_time": "2024-03-23T10:06:33.432Z"
   },
   {
    "duration": 232,
    "start_time": "2024-03-23T10:06:33.474Z"
   },
   {
    "duration": 11,
    "start_time": "2024-03-23T10:06:33.708Z"
   },
   {
    "duration": 4795,
    "start_time": "2024-03-23T10:06:33.721Z"
   },
   {
    "duration": 4106,
    "start_time": "2024-03-23T10:06:38.518Z"
   },
   {
    "duration": 95,
    "start_time": "2024-03-23T10:06:42.626Z"
   },
   {
    "duration": 184,
    "start_time": "2024-03-23T10:06:42.723Z"
   },
   {
    "duration": 19,
    "start_time": "2024-03-23T10:06:42.909Z"
   },
   {
    "duration": 57,
    "start_time": "2024-03-23T10:06:42.930Z"
   },
   {
    "duration": 5,
    "start_time": "2024-03-23T10:06:42.989Z"
   },
   {
    "duration": 12,
    "start_time": "2024-03-23T10:06:42.995Z"
   },
   {
    "duration": 24,
    "start_time": "2024-03-23T10:06:43.009Z"
   },
   {
    "duration": 4,
    "start_time": "2024-03-23T10:06:43.035Z"
   },
   {
    "duration": 32,
    "start_time": "2024-03-23T10:06:43.040Z"
   },
   {
    "duration": 7489,
    "start_time": "2024-03-23T10:06:43.081Z"
   },
   {
    "duration": 530,
    "start_time": "2024-03-23T10:06:50.577Z"
   },
   {
    "duration": 58,
    "start_time": "2024-03-23T10:06:51.109Z"
   },
   {
    "duration": 218,
    "start_time": "2024-03-23T10:06:51.169Z"
   },
   {
    "duration": 57,
    "start_time": "2024-03-23T10:06:51.389Z"
   },
   {
    "duration": 0,
    "start_time": "2024-03-23T10:06:51.448Z"
   },
   {
    "duration": 1,
    "start_time": "2024-03-23T10:06:51.449Z"
   },
   {
    "duration": 0,
    "start_time": "2024-03-23T10:06:51.451Z"
   },
   {
    "duration": 0,
    "start_time": "2024-03-23T10:06:51.453Z"
   },
   {
    "duration": 0,
    "start_time": "2024-03-23T10:06:51.455Z"
   },
   {
    "duration": 0,
    "start_time": "2024-03-23T10:06:51.456Z"
   },
   {
    "duration": 0,
    "start_time": "2024-03-23T10:06:51.457Z"
   },
   {
    "duration": 0,
    "start_time": "2024-03-23T10:06:51.459Z"
   },
   {
    "duration": 0,
    "start_time": "2024-03-23T10:06:51.460Z"
   },
   {
    "duration": 0,
    "start_time": "2024-03-23T10:06:51.467Z"
   },
   {
    "duration": 73,
    "start_time": "2024-03-23T10:09:14.048Z"
   },
   {
    "duration": 80,
    "start_time": "2024-03-23T10:09:31.791Z"
   },
   {
    "duration": 72,
    "start_time": "2024-03-23T10:10:06.030Z"
   },
   {
    "duration": 55,
    "start_time": "2024-03-23T10:10:15.543Z"
   },
   {
    "duration": 68,
    "start_time": "2024-03-23T10:10:23.657Z"
   },
   {
    "duration": 124,
    "start_time": "2024-03-23T10:10:34.176Z"
   },
   {
    "duration": 17,
    "start_time": "2024-03-23T10:11:47.955Z"
   },
   {
    "duration": 62,
    "start_time": "2024-03-23T10:12:10.014Z"
   },
   {
    "duration": 15,
    "start_time": "2024-03-23T10:12:23.876Z"
   },
   {
    "duration": 14,
    "start_time": "2024-03-23T10:12:48.893Z"
   },
   {
    "duration": 16,
    "start_time": "2024-03-23T10:12:58.984Z"
   },
   {
    "duration": 2463,
    "start_time": "2024-03-23T10:13:16.375Z"
   },
   {
    "duration": 1310,
    "start_time": "2024-03-23T10:13:18.840Z"
   },
   {
    "duration": 2608,
    "start_time": "2024-03-23T10:13:20.151Z"
   },
   {
    "duration": 14,
    "start_time": "2024-03-23T10:13:22.761Z"
   },
   {
    "duration": 2,
    "start_time": "2024-03-23T10:13:22.778Z"
   },
   {
    "duration": 4,
    "start_time": "2024-03-23T10:13:22.782Z"
   },
   {
    "duration": 10,
    "start_time": "2024-03-23T10:13:22.788Z"
   },
   {
    "duration": 6,
    "start_time": "2024-03-23T10:13:22.800Z"
   },
   {
    "duration": 901,
    "start_time": "2024-03-23T10:13:22.808Z"
   },
   {
    "duration": 175,
    "start_time": "2024-03-23T10:13:23.711Z"
   },
   {
    "duration": 943,
    "start_time": "2024-03-23T10:13:23.887Z"
   },
   {
    "duration": 1050,
    "start_time": "2024-03-23T10:13:24.831Z"
   },
   {
    "duration": 21,
    "start_time": "2024-03-23T10:13:25.882Z"
   },
   {
    "duration": 208,
    "start_time": "2024-03-23T10:13:25.908Z"
   },
   {
    "duration": 1400,
    "start_time": "2024-03-23T10:13:26.119Z"
   },
   {
    "duration": 31,
    "start_time": "2024-03-23T10:13:27.521Z"
   },
   {
    "duration": 132,
    "start_time": "2024-03-23T10:13:27.568Z"
   },
   {
    "duration": 74,
    "start_time": "2024-03-23T10:13:27.702Z"
   },
   {
    "duration": 112,
    "start_time": "2024-03-23T10:13:27.784Z"
   },
   {
    "duration": 14,
    "start_time": "2024-03-23T10:13:27.898Z"
   },
   {
    "duration": 21,
    "start_time": "2024-03-23T10:13:27.913Z"
   },
   {
    "duration": 84,
    "start_time": "2024-03-23T10:13:27.935Z"
   },
   {
    "duration": 303,
    "start_time": "2024-03-23T10:13:28.020Z"
   },
   {
    "duration": 14,
    "start_time": "2024-03-23T10:13:28.324Z"
   },
   {
    "duration": 40,
    "start_time": "2024-03-23T10:13:28.340Z"
   },
   {
    "duration": 838,
    "start_time": "2024-03-23T10:13:28.382Z"
   },
   {
    "duration": 12,
    "start_time": "2024-03-23T10:13:29.222Z"
   },
   {
    "duration": 153,
    "start_time": "2024-03-23T10:13:29.236Z"
   },
   {
    "duration": 414,
    "start_time": "2024-03-23T10:13:29.390Z"
   },
   {
    "duration": 15,
    "start_time": "2024-03-23T10:13:29.806Z"
   },
   {
    "duration": 63,
    "start_time": "2024-03-23T10:13:29.822Z"
   },
   {
    "duration": 48,
    "start_time": "2024-03-23T10:13:29.887Z"
   },
   {
    "duration": 65,
    "start_time": "2024-03-23T10:13:29.937Z"
   },
   {
    "duration": 223,
    "start_time": "2024-03-23T10:13:30.003Z"
   },
   {
    "duration": 12,
    "start_time": "2024-03-23T10:13:30.228Z"
   },
   {
    "duration": 1278,
    "start_time": "2024-03-23T10:13:30.242Z"
   },
   {
    "duration": 120,
    "start_time": "2024-03-23T10:13:31.522Z"
   },
   {
    "duration": 162,
    "start_time": "2024-03-23T10:13:31.644Z"
   },
   {
    "duration": 97,
    "start_time": "2024-03-23T10:13:31.808Z"
   },
   {
    "duration": 27,
    "start_time": "2024-03-23T10:13:31.907Z"
   },
   {
    "duration": 48,
    "start_time": "2024-03-23T10:13:31.939Z"
   },
   {
    "duration": 62,
    "start_time": "2024-03-23T10:13:31.989Z"
   },
   {
    "duration": 39,
    "start_time": "2024-03-23T10:13:32.053Z"
   },
   {
    "duration": 45,
    "start_time": "2024-03-23T10:13:32.093Z"
   },
   {
    "duration": 45,
    "start_time": "2024-03-23T10:13:32.140Z"
   },
   {
    "duration": 35,
    "start_time": "2024-03-23T10:13:32.186Z"
   },
   {
    "duration": 58,
    "start_time": "2024-03-23T10:13:32.222Z"
   },
   {
    "duration": 26,
    "start_time": "2024-03-23T10:13:32.282Z"
   },
   {
    "duration": 44,
    "start_time": "2024-03-23T10:13:32.309Z"
   },
   {
    "duration": 66,
    "start_time": "2024-03-23T10:13:32.354Z"
   },
   {
    "duration": 39,
    "start_time": "2024-03-23T10:13:32.422Z"
   },
   {
    "duration": 267,
    "start_time": "2024-03-23T10:13:32.463Z"
   },
   {
    "duration": 34,
    "start_time": "2024-03-23T10:13:32.732Z"
   },
   {
    "duration": 25,
    "start_time": "2024-03-23T10:13:32.780Z"
   },
   {
    "duration": 19,
    "start_time": "2024-03-23T10:13:32.807Z"
   },
   {
    "duration": 49,
    "start_time": "2024-03-23T10:13:32.827Z"
   },
   {
    "duration": 215,
    "start_time": "2024-03-23T10:13:32.878Z"
   },
   {
    "duration": 10,
    "start_time": "2024-03-23T10:13:33.095Z"
   },
   {
    "duration": 4845,
    "start_time": "2024-03-23T10:13:33.107Z"
   },
   {
    "duration": 3059,
    "start_time": "2024-03-23T10:13:37.954Z"
   },
   {
    "duration": 103,
    "start_time": "2024-03-23T10:13:41.015Z"
   },
   {
    "duration": 186,
    "start_time": "2024-03-23T10:13:41.120Z"
   },
   {
    "duration": 17,
    "start_time": "2024-03-23T10:13:41.308Z"
   },
   {
    "duration": 50,
    "start_time": "2024-03-23T10:13:41.327Z"
   },
   {
    "duration": 7,
    "start_time": "2024-03-23T10:13:41.379Z"
   },
   {
    "duration": 11,
    "start_time": "2024-03-23T10:13:41.388Z"
   },
   {
    "duration": 17,
    "start_time": "2024-03-23T10:13:41.400Z"
   },
   {
    "duration": 3,
    "start_time": "2024-03-23T10:13:41.418Z"
   },
   {
    "duration": 12,
    "start_time": "2024-03-23T10:13:41.422Z"
   },
   {
    "duration": 6735,
    "start_time": "2024-03-23T10:13:41.435Z"
   },
   {
    "duration": 601,
    "start_time": "2024-03-23T10:13:48.172Z"
   },
   {
    "duration": 10,
    "start_time": "2024-03-23T10:13:48.780Z"
   },
   {
    "duration": 275,
    "start_time": "2024-03-23T10:13:48.791Z"
   },
   {
    "duration": 306,
    "start_time": "2024-03-23T10:13:49.072Z"
   },
   {
    "duration": 0,
    "start_time": "2024-03-23T10:13:49.380Z"
   },
   {
    "duration": 0,
    "start_time": "2024-03-23T10:13:49.381Z"
   },
   {
    "duration": 0,
    "start_time": "2024-03-23T10:13:49.382Z"
   },
   {
    "duration": 0,
    "start_time": "2024-03-23T10:13:49.383Z"
   },
   {
    "duration": 0,
    "start_time": "2024-03-23T10:13:49.384Z"
   },
   {
    "duration": 0,
    "start_time": "2024-03-23T10:13:49.385Z"
   },
   {
    "duration": 0,
    "start_time": "2024-03-23T10:13:49.386Z"
   },
   {
    "duration": 0,
    "start_time": "2024-03-23T10:13:49.387Z"
   },
   {
    "duration": 0,
    "start_time": "2024-03-23T10:13:49.388Z"
   },
   {
    "duration": 0,
    "start_time": "2024-03-23T10:13:49.389Z"
   },
   {
    "duration": 24,
    "start_time": "2024-03-23T10:15:51.632Z"
   },
   {
    "duration": 21,
    "start_time": "2024-03-23T10:17:12.412Z"
   },
   {
    "duration": 9,
    "start_time": "2024-03-23T10:19:48.218Z"
   },
   {
    "duration": 3,
    "start_time": "2024-03-23T10:20:00.779Z"
   },
   {
    "duration": 3,
    "start_time": "2024-03-23T10:20:01.390Z"
   },
   {
    "duration": 22,
    "start_time": "2024-03-23T10:20:07.482Z"
   },
   {
    "duration": 102088,
    "start_time": "2024-03-23T10:20:30.393Z"
   },
   {
    "duration": 3,
    "start_time": "2024-03-23T10:22:32.531Z"
   },
   {
    "duration": 7,
    "start_time": "2024-03-23T10:22:39.393Z"
   },
   {
    "duration": 4177,
    "start_time": "2024-03-23T10:23:17.703Z"
   },
   {
    "duration": 3395,
    "start_time": "2024-03-23T10:23:40.080Z"
   },
   {
    "duration": 1802,
    "start_time": "2024-03-23T10:25:14.281Z"
   },
   {
    "duration": 8,
    "start_time": "2024-03-23T10:25:36.685Z"
   },
   {
    "duration": 4,
    "start_time": "2024-03-23T10:26:10.107Z"
   },
   {
    "duration": 5,
    "start_time": "2024-03-23T10:26:14.576Z"
   },
   {
    "duration": 23,
    "start_time": "2024-03-23T10:39:24.180Z"
   },
   {
    "duration": 3145,
    "start_time": "2024-03-23T10:39:31.264Z"
   },
   {
    "duration": 10,
    "start_time": "2024-03-23T10:40:13.874Z"
   },
   {
    "duration": 103,
    "start_time": "2024-03-23T10:40:20.224Z"
   },
   {
    "duration": 115,
    "start_time": "2024-03-23T10:40:48.187Z"
   },
   {
    "duration": 2,
    "start_time": "2024-03-23T10:42:01.385Z"
   },
   {
    "duration": 2306,
    "start_time": "2024-03-23T12:40:54.325Z"
   },
   {
    "duration": 1314,
    "start_time": "2024-03-23T12:40:56.633Z"
   },
   {
    "duration": 2608,
    "start_time": "2024-03-23T12:40:57.949Z"
   },
   {
    "duration": 8,
    "start_time": "2024-03-23T12:41:00.559Z"
   },
   {
    "duration": 114,
    "start_time": "2024-03-23T12:41:00.568Z"
   },
   {
    "duration": 97,
    "start_time": "2024-03-23T12:41:00.684Z"
   },
   {
    "duration": 71,
    "start_time": "2024-03-23T12:41:00.782Z"
   },
   {
    "duration": 73,
    "start_time": "2024-03-23T12:41:00.855Z"
   },
   {
    "duration": 992,
    "start_time": "2024-03-23T12:41:00.930Z"
   },
   {
    "duration": 170,
    "start_time": "2024-03-23T12:41:01.925Z"
   },
   {
    "duration": 942,
    "start_time": "2024-03-23T12:41:02.097Z"
   },
   {
    "duration": 1044,
    "start_time": "2024-03-23T12:41:03.041Z"
   },
   {
    "duration": 17,
    "start_time": "2024-03-23T12:41:04.087Z"
   },
   {
    "duration": 193,
    "start_time": "2024-03-23T12:41:04.106Z"
   },
   {
    "duration": 1322,
    "start_time": "2024-03-23T12:41:04.300Z"
   },
   {
    "duration": 27,
    "start_time": "2024-03-23T12:41:05.624Z"
   },
   {
    "duration": 137,
    "start_time": "2024-03-23T12:41:05.652Z"
   },
   {
    "duration": 63,
    "start_time": "2024-03-23T12:41:05.791Z"
   },
   {
    "duration": 114,
    "start_time": "2024-03-23T12:41:05.855Z"
   },
   {
    "duration": 14,
    "start_time": "2024-03-23T12:41:05.971Z"
   },
   {
    "duration": 21,
    "start_time": "2024-03-23T12:41:05.987Z"
   },
   {
    "duration": 83,
    "start_time": "2024-03-23T12:41:06.010Z"
   },
   {
    "duration": 301,
    "start_time": "2024-03-23T12:41:06.095Z"
   },
   {
    "duration": 13,
    "start_time": "2024-03-23T12:41:06.397Z"
   },
   {
    "duration": 19,
    "start_time": "2024-03-23T12:41:06.412Z"
   },
   {
    "duration": 723,
    "start_time": "2024-03-23T12:41:06.432Z"
   },
   {
    "duration": 16,
    "start_time": "2024-03-23T12:41:07.157Z"
   },
   {
    "duration": 109,
    "start_time": "2024-03-23T12:41:07.178Z"
   },
   {
    "duration": 383,
    "start_time": "2024-03-23T12:41:07.289Z"
   },
   {
    "duration": 14,
    "start_time": "2024-03-23T12:41:07.674Z"
   },
   {
    "duration": 43,
    "start_time": "2024-03-23T12:41:07.689Z"
   },
   {
    "duration": 75,
    "start_time": "2024-03-23T12:41:07.733Z"
   },
   {
    "duration": 61,
    "start_time": "2024-03-23T12:41:07.810Z"
   },
   {
    "duration": 225,
    "start_time": "2024-03-23T12:41:07.873Z"
   },
   {
    "duration": 13,
    "start_time": "2024-03-23T12:41:08.100Z"
   },
   {
    "duration": 1355,
    "start_time": "2024-03-23T12:41:08.115Z"
   },
   {
    "duration": 117,
    "start_time": "2024-03-23T12:41:09.471Z"
   },
   {
    "duration": 137,
    "start_time": "2024-03-23T12:41:09.589Z"
   },
   {
    "duration": 105,
    "start_time": "2024-03-23T12:41:09.728Z"
   },
   {
    "duration": 33,
    "start_time": "2024-03-23T12:41:09.835Z"
   },
   {
    "duration": 14,
    "start_time": "2024-03-23T12:41:09.869Z"
   },
   {
    "duration": 25,
    "start_time": "2024-03-23T12:41:09.885Z"
   },
   {
    "duration": 25,
    "start_time": "2024-03-23T12:41:09.912Z"
   },
   {
    "duration": 38,
    "start_time": "2024-03-23T12:41:09.939Z"
   },
   {
    "duration": 33,
    "start_time": "2024-03-23T12:41:09.978Z"
   },
   {
    "duration": 31,
    "start_time": "2024-03-23T12:41:10.012Z"
   },
   {
    "duration": 34,
    "start_time": "2024-03-23T12:41:10.044Z"
   },
   {
    "duration": 27,
    "start_time": "2024-03-23T12:41:10.080Z"
   },
   {
    "duration": 25,
    "start_time": "2024-03-23T12:41:10.108Z"
   },
   {
    "duration": 38,
    "start_time": "2024-03-23T12:41:10.135Z"
   },
   {
    "duration": 38,
    "start_time": "2024-03-23T12:41:10.175Z"
   },
   {
    "duration": 252,
    "start_time": "2024-03-23T12:41:10.215Z"
   },
   {
    "duration": 32,
    "start_time": "2024-03-23T12:41:10.468Z"
   },
   {
    "duration": 42,
    "start_time": "2024-03-23T12:41:10.502Z"
   },
   {
    "duration": 17,
    "start_time": "2024-03-23T12:41:10.546Z"
   },
   {
    "duration": 26,
    "start_time": "2024-03-23T12:41:10.565Z"
   },
   {
    "duration": 248,
    "start_time": "2024-03-23T12:41:10.592Z"
   },
   {
    "duration": 12,
    "start_time": "2024-03-23T12:41:10.841Z"
   },
   {
    "duration": 4698,
    "start_time": "2024-03-23T12:41:10.854Z"
   },
   {
    "duration": 2978,
    "start_time": "2024-03-23T12:41:15.553Z"
   },
   {
    "duration": 86,
    "start_time": "2024-03-23T12:41:18.533Z"
   },
   {
    "duration": 170,
    "start_time": "2024-03-23T12:41:18.621Z"
   },
   {
    "duration": 17,
    "start_time": "2024-03-23T12:41:18.792Z"
   },
   {
    "duration": 32,
    "start_time": "2024-03-23T12:41:18.811Z"
   },
   {
    "duration": 24,
    "start_time": "2024-03-23T12:41:18.845Z"
   },
   {
    "duration": 14,
    "start_time": "2024-03-23T12:41:18.871Z"
   },
   {
    "duration": 29,
    "start_time": "2024-03-23T12:41:18.887Z"
   },
   {
    "duration": 11,
    "start_time": "2024-03-23T12:41:18.918Z"
   },
   {
    "duration": 12,
    "start_time": "2024-03-23T12:41:18.931Z"
   },
   {
    "duration": 12,
    "start_time": "2024-03-23T12:41:18.966Z"
   },
   {
    "duration": 6687,
    "start_time": "2024-03-23T12:41:18.980Z"
   },
   {
    "duration": 354,
    "start_time": "2024-03-23T12:41:25.669Z"
   },
   {
    "duration": 9,
    "start_time": "2024-03-23T12:41:26.025Z"
   },
   {
    "duration": 132,
    "start_time": "2024-03-23T12:41:26.035Z"
   },
   {
    "duration": 103300,
    "start_time": "2024-03-23T12:41:26.169Z"
   },
   {
    "duration": 7,
    "start_time": "2024-03-23T12:43:09.471Z"
   },
   {
    "duration": 3902,
    "start_time": "2024-03-23T12:43:09.479Z"
   },
   {
    "duration": 1820,
    "start_time": "2024-03-23T12:43:13.382Z"
   },
   {
    "duration": 10,
    "start_time": "2024-03-23T12:43:15.264Z"
   },
   {
    "duration": 10,
    "start_time": "2024-03-23T12:43:15.275Z"
   },
   {
    "duration": 2357,
    "start_time": "2024-03-23T14:20:46.991Z"
   },
   {
    "duration": 1283,
    "start_time": "2024-03-23T14:20:49.350Z"
   },
   {
    "duration": 2613,
    "start_time": "2024-03-23T14:20:50.634Z"
   },
   {
    "duration": 8,
    "start_time": "2024-03-23T14:20:53.249Z"
   },
   {
    "duration": 23,
    "start_time": "2024-03-23T14:20:53.258Z"
   },
   {
    "duration": 3,
    "start_time": "2024-03-23T14:20:53.283Z"
   },
   {
    "duration": 8,
    "start_time": "2024-03-23T14:20:53.288Z"
   },
   {
    "duration": 5,
    "start_time": "2024-03-23T14:20:53.297Z"
   },
   {
    "duration": 841,
    "start_time": "2024-03-23T14:20:53.303Z"
   },
   {
    "duration": 159,
    "start_time": "2024-03-23T14:20:54.147Z"
   },
   {
    "duration": 911,
    "start_time": "2024-03-23T14:20:54.308Z"
   },
   {
    "duration": 1345,
    "start_time": "2024-03-23T14:20:55.220Z"
   },
   {
    "duration": 17,
    "start_time": "2024-03-23T14:20:56.567Z"
   },
   {
    "duration": 383,
    "start_time": "2024-03-23T14:20:56.586Z"
   },
   {
    "duration": 1536,
    "start_time": "2024-03-23T14:20:56.970Z"
   },
   {
    "duration": 30,
    "start_time": "2024-03-23T14:20:58.508Z"
   },
   {
    "duration": 151,
    "start_time": "2024-03-23T14:20:58.540Z"
   },
   {
    "duration": 62,
    "start_time": "2024-03-23T14:20:58.692Z"
   },
   {
    "duration": 113,
    "start_time": "2024-03-23T14:20:58.765Z"
   },
   {
    "duration": 15,
    "start_time": "2024-03-23T14:20:58.879Z"
   },
   {
    "duration": 28,
    "start_time": "2024-03-23T14:20:58.896Z"
   },
   {
    "duration": 83,
    "start_time": "2024-03-23T14:20:58.926Z"
   },
   {
    "duration": 320,
    "start_time": "2024-03-23T14:20:59.011Z"
   },
   {
    "duration": 14,
    "start_time": "2024-03-23T14:20:59.333Z"
   },
   {
    "duration": 34,
    "start_time": "2024-03-23T14:20:59.349Z"
   },
   {
    "duration": 727,
    "start_time": "2024-03-23T14:20:59.385Z"
   },
   {
    "duration": 13,
    "start_time": "2024-03-23T14:21:00.113Z"
   },
   {
    "duration": 126,
    "start_time": "2024-03-23T14:21:00.130Z"
   },
   {
    "duration": 396,
    "start_time": "2024-03-23T14:21:00.257Z"
   },
   {
    "duration": 20,
    "start_time": "2024-03-23T14:21:00.655Z"
   },
   {
    "duration": 58,
    "start_time": "2024-03-23T14:21:00.677Z"
   },
   {
    "duration": 58,
    "start_time": "2024-03-23T14:21:00.736Z"
   },
   {
    "duration": 46,
    "start_time": "2024-03-23T14:21:00.796Z"
   },
   {
    "duration": 253,
    "start_time": "2024-03-23T14:21:00.843Z"
   },
   {
    "duration": 12,
    "start_time": "2024-03-23T14:21:01.098Z"
   },
   {
    "duration": 1329,
    "start_time": "2024-03-23T14:21:01.112Z"
   },
   {
    "duration": 125,
    "start_time": "2024-03-23T14:21:02.442Z"
   },
   {
    "duration": 131,
    "start_time": "2024-03-23T14:21:02.568Z"
   },
   {
    "duration": 94,
    "start_time": "2024-03-23T14:21:02.701Z"
   },
   {
    "duration": 27,
    "start_time": "2024-03-23T14:21:02.797Z"
   },
   {
    "duration": 62,
    "start_time": "2024-03-23T14:21:02.826Z"
   },
   {
    "duration": 35,
    "start_time": "2024-03-23T14:21:02.890Z"
   },
   {
    "duration": 34,
    "start_time": "2024-03-23T14:21:02.927Z"
   },
   {
    "duration": 93,
    "start_time": "2024-03-23T14:21:02.962Z"
   },
   {
    "duration": 28,
    "start_time": "2024-03-23T14:21:03.057Z"
   },
   {
    "duration": 26,
    "start_time": "2024-03-23T14:21:03.087Z"
   },
   {
    "duration": 39,
    "start_time": "2024-03-23T14:21:03.115Z"
   },
   {
    "duration": 38,
    "start_time": "2024-03-23T14:21:03.156Z"
   },
   {
    "duration": 19,
    "start_time": "2024-03-23T14:21:03.195Z"
   },
   {
    "duration": 38,
    "start_time": "2024-03-23T14:21:03.215Z"
   },
   {
    "duration": 42,
    "start_time": "2024-03-23T14:21:03.255Z"
   },
   {
    "duration": 241,
    "start_time": "2024-03-23T14:21:03.299Z"
   },
   {
    "duration": 30,
    "start_time": "2024-03-23T14:21:03.541Z"
   },
   {
    "duration": 27,
    "start_time": "2024-03-23T14:21:03.572Z"
   },
   {
    "duration": 18,
    "start_time": "2024-03-23T14:21:03.601Z"
   },
   {
    "duration": 48,
    "start_time": "2024-03-23T14:21:03.620Z"
   },
   {
    "duration": 251,
    "start_time": "2024-03-23T14:21:03.670Z"
   },
   {
    "duration": 11,
    "start_time": "2024-03-23T14:21:03.922Z"
   },
   {
    "duration": 4741,
    "start_time": "2024-03-23T14:21:03.935Z"
   },
   {
    "duration": 2835,
    "start_time": "2024-03-23T14:21:08.678Z"
   },
   {
    "duration": 86,
    "start_time": "2024-03-23T14:21:11.515Z"
   },
   {
    "duration": 177,
    "start_time": "2024-03-23T14:21:11.602Z"
   },
   {
    "duration": 18,
    "start_time": "2024-03-23T14:21:11.781Z"
   },
   {
    "duration": 34,
    "start_time": "2024-03-23T14:21:11.800Z"
   },
   {
    "duration": 5,
    "start_time": "2024-03-23T14:21:11.835Z"
   },
   {
    "duration": 32,
    "start_time": "2024-03-23T14:21:11.841Z"
   },
   {
    "duration": 20,
    "start_time": "2024-03-23T14:21:11.874Z"
   },
   {
    "duration": 5,
    "start_time": "2024-03-23T14:21:11.896Z"
   },
   {
    "duration": 3,
    "start_time": "2024-03-23T14:21:11.902Z"
   },
   {
    "duration": 11,
    "start_time": "2024-03-23T14:21:11.907Z"
   },
   {
    "duration": 7057,
    "start_time": "2024-03-23T14:21:11.919Z"
   },
   {
    "duration": 533,
    "start_time": "2024-03-23T14:21:18.977Z"
   },
   {
    "duration": 9,
    "start_time": "2024-03-23T14:21:19.564Z"
   },
   {
    "duration": 229,
    "start_time": "2024-03-23T14:21:19.575Z"
   },
   {
    "duration": 122978,
    "start_time": "2024-03-23T14:21:19.806Z"
   },
   {
    "duration": 85,
    "start_time": "2024-03-23T14:23:22.786Z"
   },
   {
    "duration": 4409,
    "start_time": "2024-03-23T14:23:22.873Z"
   },
   {
    "duration": 1892,
    "start_time": "2024-03-23T14:23:27.284Z"
   },
   {
    "duration": 9,
    "start_time": "2024-03-23T14:23:29.178Z"
   },
   {
    "duration": 2,
    "start_time": "2024-03-23T14:23:29.189Z"
   },
   {
    "duration": 233309,
    "start_time": "2024-03-23T14:23:29.193Z"
   },
   {
    "duration": 0,
    "start_time": "2024-03-23T14:27:22.504Z"
   },
   {
    "duration": 0,
    "start_time": "2024-03-23T14:27:22.506Z"
   },
   {
    "duration": 0,
    "start_time": "2024-03-23T14:27:22.507Z"
   },
   {
    "duration": 0,
    "start_time": "2024-03-23T14:27:22.509Z"
   },
   {
    "duration": 14,
    "start_time": "2024-03-23T14:27:27.821Z"
   },
   {
    "duration": 1530641,
    "start_time": "2024-03-23T14:27:36.561Z"
   },
   {
    "duration": 6,
    "start_time": "2024-03-23T15:02:20.830Z"
   },
   {
    "duration": 598651,
    "start_time": "2024-03-23T15:02:25.450Z"
   },
   {
    "duration": 10599,
    "start_time": "2024-03-23T15:12:40.154Z"
   },
   {
    "duration": 11,
    "start_time": "2024-03-23T15:12:50.755Z"
   },
   {
    "duration": 3247,
    "start_time": "2024-03-23T17:29:37.119Z"
   },
   {
    "duration": 1770,
    "start_time": "2024-03-23T17:29:40.368Z"
   },
   {
    "duration": 0,
    "start_time": "2024-03-23T17:29:42.146Z"
   },
   {
    "duration": 0,
    "start_time": "2024-03-23T17:29:42.147Z"
   },
   {
    "duration": 0,
    "start_time": "2024-03-23T17:29:42.148Z"
   },
   {
    "duration": 0,
    "start_time": "2024-03-23T17:29:42.151Z"
   },
   {
    "duration": 0,
    "start_time": "2024-03-23T17:29:42.152Z"
   },
   {
    "duration": 0,
    "start_time": "2024-03-23T17:29:42.154Z"
   },
   {
    "duration": 0,
    "start_time": "2024-03-23T17:29:42.155Z"
   },
   {
    "duration": 0,
    "start_time": "2024-03-23T17:29:42.156Z"
   },
   {
    "duration": 0,
    "start_time": "2024-03-23T17:29:42.158Z"
   },
   {
    "duration": 0,
    "start_time": "2024-03-23T17:29:42.159Z"
   },
   {
    "duration": 0,
    "start_time": "2024-03-23T17:29:42.160Z"
   },
   {
    "duration": 0,
    "start_time": "2024-03-23T17:29:42.161Z"
   },
   {
    "duration": 0,
    "start_time": "2024-03-23T17:29:42.162Z"
   },
   {
    "duration": 0,
    "start_time": "2024-03-23T17:29:42.163Z"
   },
   {
    "duration": 0,
    "start_time": "2024-03-23T17:29:42.164Z"
   },
   {
    "duration": 0,
    "start_time": "2024-03-23T17:29:42.165Z"
   },
   {
    "duration": 0,
    "start_time": "2024-03-23T17:29:42.166Z"
   },
   {
    "duration": 1,
    "start_time": "2024-03-23T17:29:42.167Z"
   },
   {
    "duration": 0,
    "start_time": "2024-03-23T17:29:42.169Z"
   },
   {
    "duration": 0,
    "start_time": "2024-03-23T17:29:42.170Z"
   },
   {
    "duration": 0,
    "start_time": "2024-03-23T17:29:42.172Z"
   },
   {
    "duration": 0,
    "start_time": "2024-03-23T17:29:42.173Z"
   },
   {
    "duration": 0,
    "start_time": "2024-03-23T17:29:42.174Z"
   },
   {
    "duration": 0,
    "start_time": "2024-03-23T17:29:42.175Z"
   },
   {
    "duration": 0,
    "start_time": "2024-03-23T17:29:42.176Z"
   },
   {
    "duration": 0,
    "start_time": "2024-03-23T17:29:42.177Z"
   },
   {
    "duration": 0,
    "start_time": "2024-03-23T17:29:42.178Z"
   },
   {
    "duration": 0,
    "start_time": "2024-03-23T17:29:42.179Z"
   },
   {
    "duration": 0,
    "start_time": "2024-03-23T17:29:42.180Z"
   },
   {
    "duration": 0,
    "start_time": "2024-03-23T17:29:42.182Z"
   },
   {
    "duration": 0,
    "start_time": "2024-03-23T17:29:42.183Z"
   },
   {
    "duration": 0,
    "start_time": "2024-03-23T17:29:42.184Z"
   },
   {
    "duration": 0,
    "start_time": "2024-03-23T17:29:42.185Z"
   },
   {
    "duration": 0,
    "start_time": "2024-03-23T17:29:42.186Z"
   },
   {
    "duration": 0,
    "start_time": "2024-03-23T17:29:42.187Z"
   },
   {
    "duration": 0,
    "start_time": "2024-03-23T17:29:42.188Z"
   },
   {
    "duration": 0,
    "start_time": "2024-03-23T17:29:42.250Z"
   },
   {
    "duration": 0,
    "start_time": "2024-03-23T17:29:42.252Z"
   },
   {
    "duration": 0,
    "start_time": "2024-03-23T17:29:42.254Z"
   },
   {
    "duration": 0,
    "start_time": "2024-03-23T17:29:42.255Z"
   },
   {
    "duration": 0,
    "start_time": "2024-03-23T17:29:42.256Z"
   },
   {
    "duration": 0,
    "start_time": "2024-03-23T17:29:42.257Z"
   },
   {
    "duration": 0,
    "start_time": "2024-03-23T17:29:42.259Z"
   },
   {
    "duration": 0,
    "start_time": "2024-03-23T17:29:42.260Z"
   },
   {
    "duration": 0,
    "start_time": "2024-03-23T17:29:42.261Z"
   },
   {
    "duration": 0,
    "start_time": "2024-03-23T17:29:42.264Z"
   },
   {
    "duration": 0,
    "start_time": "2024-03-23T17:29:42.265Z"
   },
   {
    "duration": 0,
    "start_time": "2024-03-23T17:29:42.267Z"
   },
   {
    "duration": 0,
    "start_time": "2024-03-23T17:29:42.268Z"
   },
   {
    "duration": 0,
    "start_time": "2024-03-23T17:29:42.269Z"
   },
   {
    "duration": 0,
    "start_time": "2024-03-23T17:29:42.270Z"
   },
   {
    "duration": 0,
    "start_time": "2024-03-23T17:29:42.271Z"
   },
   {
    "duration": 0,
    "start_time": "2024-03-23T17:29:42.272Z"
   },
   {
    "duration": 0,
    "start_time": "2024-03-23T17:29:42.273Z"
   },
   {
    "duration": 0,
    "start_time": "2024-03-23T17:29:42.275Z"
   },
   {
    "duration": 0,
    "start_time": "2024-03-23T17:29:42.276Z"
   },
   {
    "duration": 0,
    "start_time": "2024-03-23T17:29:42.277Z"
   },
   {
    "duration": 0,
    "start_time": "2024-03-23T17:29:42.278Z"
   },
   {
    "duration": 0,
    "start_time": "2024-03-23T17:29:42.280Z"
   },
   {
    "duration": 0,
    "start_time": "2024-03-23T17:29:42.281Z"
   },
   {
    "duration": 0,
    "start_time": "2024-03-23T17:29:42.282Z"
   },
   {
    "duration": 0,
    "start_time": "2024-03-23T17:29:42.283Z"
   },
   {
    "duration": 1,
    "start_time": "2024-03-23T17:29:42.284Z"
   },
   {
    "duration": 0,
    "start_time": "2024-03-23T17:29:42.285Z"
   },
   {
    "duration": 0,
    "start_time": "2024-03-23T17:29:42.287Z"
   },
   {
    "duration": 0,
    "start_time": "2024-03-23T17:29:42.288Z"
   },
   {
    "duration": 0,
    "start_time": "2024-03-23T17:29:42.345Z"
   },
   {
    "duration": 0,
    "start_time": "2024-03-23T17:29:42.347Z"
   },
   {
    "duration": 0,
    "start_time": "2024-03-23T17:29:42.348Z"
   },
   {
    "duration": 0,
    "start_time": "2024-03-23T17:29:42.349Z"
   },
   {
    "duration": 0,
    "start_time": "2024-03-23T17:29:42.350Z"
   },
   {
    "duration": 1,
    "start_time": "2024-03-23T17:29:42.350Z"
   },
   {
    "duration": 0,
    "start_time": "2024-03-23T17:29:42.351Z"
   },
   {
    "duration": 0,
    "start_time": "2024-03-23T17:29:42.352Z"
   },
   {
    "duration": 0,
    "start_time": "2024-03-23T17:29:42.353Z"
   },
   {
    "duration": 1,
    "start_time": "2024-03-23T17:29:42.354Z"
   },
   {
    "duration": 0,
    "start_time": "2024-03-23T17:29:42.355Z"
   },
   {
    "duration": 0,
    "start_time": "2024-03-23T17:29:42.359Z"
   },
   {
    "duration": 0,
    "start_time": "2024-03-23T17:29:42.360Z"
   },
   {
    "duration": 0,
    "start_time": "2024-03-23T17:29:42.362Z"
   },
   {
    "duration": 0,
    "start_time": "2024-03-23T17:29:42.363Z"
   },
   {
    "duration": 0,
    "start_time": "2024-03-23T17:29:42.363Z"
   },
   {
    "duration": 0,
    "start_time": "2024-03-23T17:29:42.364Z"
   },
   {
    "duration": 2291,
    "start_time": "2024-03-23T17:30:18.402Z"
   },
   {
    "duration": 1440,
    "start_time": "2024-03-23T17:30:20.695Z"
   },
   {
    "duration": 0,
    "start_time": "2024-03-23T17:30:22.138Z"
   },
   {
    "duration": 0,
    "start_time": "2024-03-23T17:30:22.140Z"
   },
   {
    "duration": 0,
    "start_time": "2024-03-23T17:30:22.141Z"
   },
   {
    "duration": 0,
    "start_time": "2024-03-23T17:30:22.142Z"
   },
   {
    "duration": 0,
    "start_time": "2024-03-23T17:30:22.143Z"
   },
   {
    "duration": 0,
    "start_time": "2024-03-23T17:30:22.143Z"
   },
   {
    "duration": 0,
    "start_time": "2024-03-23T17:30:22.145Z"
   },
   {
    "duration": 0,
    "start_time": "2024-03-23T17:30:22.147Z"
   },
   {
    "duration": 0,
    "start_time": "2024-03-23T17:30:22.148Z"
   },
   {
    "duration": 0,
    "start_time": "2024-03-23T17:30:22.149Z"
   },
   {
    "duration": 0,
    "start_time": "2024-03-23T17:30:22.150Z"
   },
   {
    "duration": 0,
    "start_time": "2024-03-23T17:30:22.152Z"
   },
   {
    "duration": 0,
    "start_time": "2024-03-23T17:30:22.153Z"
   },
   {
    "duration": 0,
    "start_time": "2024-03-23T17:30:22.157Z"
   },
   {
    "duration": 0,
    "start_time": "2024-03-23T17:30:22.158Z"
   },
   {
    "duration": 0,
    "start_time": "2024-03-23T17:30:22.159Z"
   },
   {
    "duration": 0,
    "start_time": "2024-03-23T17:30:22.161Z"
   },
   {
    "duration": 0,
    "start_time": "2024-03-23T17:30:22.162Z"
   },
   {
    "duration": 0,
    "start_time": "2024-03-23T17:30:22.164Z"
   },
   {
    "duration": 0,
    "start_time": "2024-03-23T17:30:22.164Z"
   },
   {
    "duration": 0,
    "start_time": "2024-03-23T17:30:22.166Z"
   },
   {
    "duration": 0,
    "start_time": "2024-03-23T17:30:22.167Z"
   },
   {
    "duration": 0,
    "start_time": "2024-03-23T17:30:22.168Z"
   },
   {
    "duration": 0,
    "start_time": "2024-03-23T17:30:22.168Z"
   },
   {
    "duration": 0,
    "start_time": "2024-03-23T17:30:22.169Z"
   },
   {
    "duration": 0,
    "start_time": "2024-03-23T17:30:22.170Z"
   },
   {
    "duration": 0,
    "start_time": "2024-03-23T17:30:22.171Z"
   },
   {
    "duration": 0,
    "start_time": "2024-03-23T17:30:22.172Z"
   },
   {
    "duration": 0,
    "start_time": "2024-03-23T17:30:22.173Z"
   },
   {
    "duration": 0,
    "start_time": "2024-03-23T17:30:22.174Z"
   },
   {
    "duration": 0,
    "start_time": "2024-03-23T17:30:22.174Z"
   },
   {
    "duration": 0,
    "start_time": "2024-03-23T17:30:22.175Z"
   },
   {
    "duration": 0,
    "start_time": "2024-03-23T17:30:22.176Z"
   },
   {
    "duration": 0,
    "start_time": "2024-03-23T17:30:22.177Z"
   },
   {
    "duration": 0,
    "start_time": "2024-03-23T17:30:22.178Z"
   },
   {
    "duration": 0,
    "start_time": "2024-03-23T17:30:22.179Z"
   },
   {
    "duration": 0,
    "start_time": "2024-03-23T17:30:22.180Z"
   },
   {
    "duration": 0,
    "start_time": "2024-03-23T17:30:22.181Z"
   },
   {
    "duration": 0,
    "start_time": "2024-03-23T17:30:22.181Z"
   },
   {
    "duration": 0,
    "start_time": "2024-03-23T17:30:22.182Z"
   },
   {
    "duration": 0,
    "start_time": "2024-03-23T17:30:22.183Z"
   },
   {
    "duration": 0,
    "start_time": "2024-03-23T17:30:22.184Z"
   },
   {
    "duration": 0,
    "start_time": "2024-03-23T17:30:22.185Z"
   },
   {
    "duration": 0,
    "start_time": "2024-03-23T17:30:22.185Z"
   },
   {
    "duration": 0,
    "start_time": "2024-03-23T17:30:22.186Z"
   },
   {
    "duration": 0,
    "start_time": "2024-03-23T17:30:22.187Z"
   },
   {
    "duration": 0,
    "start_time": "2024-03-23T17:30:22.188Z"
   },
   {
    "duration": 0,
    "start_time": "2024-03-23T17:30:22.244Z"
   },
   {
    "duration": 0,
    "start_time": "2024-03-23T17:30:22.246Z"
   },
   {
    "duration": 0,
    "start_time": "2024-03-23T17:30:22.247Z"
   },
   {
    "duration": 0,
    "start_time": "2024-03-23T17:30:22.248Z"
   },
   {
    "duration": 0,
    "start_time": "2024-03-23T17:30:22.250Z"
   },
   {
    "duration": 0,
    "start_time": "2024-03-23T17:30:22.251Z"
   },
   {
    "duration": 0,
    "start_time": "2024-03-23T17:30:22.252Z"
   },
   {
    "duration": 0,
    "start_time": "2024-03-23T17:30:22.254Z"
   },
   {
    "duration": 0,
    "start_time": "2024-03-23T17:30:22.255Z"
   },
   {
    "duration": 0,
    "start_time": "2024-03-23T17:30:22.257Z"
   },
   {
    "duration": 0,
    "start_time": "2024-03-23T17:30:22.258Z"
   },
   {
    "duration": 0,
    "start_time": "2024-03-23T17:30:22.264Z"
   },
   {
    "duration": 0,
    "start_time": "2024-03-23T17:30:22.265Z"
   },
   {
    "duration": 0,
    "start_time": "2024-03-23T17:30:22.267Z"
   },
   {
    "duration": 0,
    "start_time": "2024-03-23T17:30:22.268Z"
   },
   {
    "duration": 0,
    "start_time": "2024-03-23T17:30:22.269Z"
   },
   {
    "duration": 0,
    "start_time": "2024-03-23T17:30:22.270Z"
   },
   {
    "duration": 0,
    "start_time": "2024-03-23T17:30:22.272Z"
   },
   {
    "duration": 0,
    "start_time": "2024-03-23T17:30:22.273Z"
   },
   {
    "duration": 0,
    "start_time": "2024-03-23T17:30:22.274Z"
   },
   {
    "duration": 0,
    "start_time": "2024-03-23T17:30:22.276Z"
   },
   {
    "duration": 0,
    "start_time": "2024-03-23T17:30:22.277Z"
   },
   {
    "duration": 0,
    "start_time": "2024-03-23T17:30:22.279Z"
   },
   {
    "duration": 0,
    "start_time": "2024-03-23T17:30:22.280Z"
   },
   {
    "duration": 0,
    "start_time": "2024-03-23T17:30:22.281Z"
   },
   {
    "duration": 0,
    "start_time": "2024-03-23T17:30:22.282Z"
   },
   {
    "duration": 0,
    "start_time": "2024-03-23T17:30:22.284Z"
   },
   {
    "duration": 0,
    "start_time": "2024-03-23T17:30:22.285Z"
   },
   {
    "duration": 0,
    "start_time": "2024-03-23T17:30:22.345Z"
   },
   {
    "duration": 0,
    "start_time": "2024-03-23T17:30:22.347Z"
   },
   {
    "duration": 0,
    "start_time": "2024-03-23T17:30:22.348Z"
   },
   {
    "duration": 0,
    "start_time": "2024-03-23T17:30:22.349Z"
   },
   {
    "duration": 0,
    "start_time": "2024-03-23T17:30:22.350Z"
   },
   {
    "duration": 0,
    "start_time": "2024-03-23T17:30:22.351Z"
   },
   {
    "duration": 0,
    "start_time": "2024-03-23T17:30:22.352Z"
   },
   {
    "duration": 0,
    "start_time": "2024-03-23T17:30:22.353Z"
   },
   {
    "duration": 3523,
    "start_time": "2024-03-23T17:31:05.857Z"
   },
   {
    "duration": 13,
    "start_time": "2024-03-23T17:31:09.382Z"
   },
   {
    "duration": 75,
    "start_time": "2024-03-23T17:31:19.289Z"
   },
   {
    "duration": 2309,
    "start_time": "2024-03-23T17:31:34.960Z"
   },
   {
    "duration": 3313,
    "start_time": "2024-03-23T17:31:37.271Z"
   },
   {
    "duration": 680,
    "start_time": "2024-03-23T17:31:40.585Z"
   },
   {
    "duration": 0,
    "start_time": "2024-03-23T17:31:41.268Z"
   },
   {
    "duration": 0,
    "start_time": "2024-03-23T17:31:41.269Z"
   },
   {
    "duration": 0,
    "start_time": "2024-03-23T17:31:41.270Z"
   },
   {
    "duration": 0,
    "start_time": "2024-03-23T17:31:41.271Z"
   },
   {
    "duration": 0,
    "start_time": "2024-03-23T17:31:41.272Z"
   },
   {
    "duration": 0,
    "start_time": "2024-03-23T17:31:41.273Z"
   },
   {
    "duration": 0,
    "start_time": "2024-03-23T17:31:41.274Z"
   },
   {
    "duration": 0,
    "start_time": "2024-03-23T17:31:41.274Z"
   },
   {
    "duration": 0,
    "start_time": "2024-03-23T17:31:41.275Z"
   },
   {
    "duration": 0,
    "start_time": "2024-03-23T17:31:41.276Z"
   },
   {
    "duration": 0,
    "start_time": "2024-03-23T17:31:41.277Z"
   },
   {
    "duration": 0,
    "start_time": "2024-03-23T17:31:41.278Z"
   },
   {
    "duration": 0,
    "start_time": "2024-03-23T17:31:41.278Z"
   },
   {
    "duration": 0,
    "start_time": "2024-03-23T17:31:41.279Z"
   },
   {
    "duration": 0,
    "start_time": "2024-03-23T17:31:41.280Z"
   },
   {
    "duration": 0,
    "start_time": "2024-03-23T17:31:41.281Z"
   },
   {
    "duration": 0,
    "start_time": "2024-03-23T17:31:41.282Z"
   },
   {
    "duration": 0,
    "start_time": "2024-03-23T17:31:41.282Z"
   },
   {
    "duration": 0,
    "start_time": "2024-03-23T17:31:41.283Z"
   },
   {
    "duration": 0,
    "start_time": "2024-03-23T17:31:41.284Z"
   },
   {
    "duration": 0,
    "start_time": "2024-03-23T17:31:41.285Z"
   },
   {
    "duration": 0,
    "start_time": "2024-03-23T17:31:41.286Z"
   },
   {
    "duration": 0,
    "start_time": "2024-03-23T17:31:41.286Z"
   },
   {
    "duration": 0,
    "start_time": "2024-03-23T17:31:41.287Z"
   },
   {
    "duration": 0,
    "start_time": "2024-03-23T17:31:41.288Z"
   },
   {
    "duration": 0,
    "start_time": "2024-03-23T17:31:41.289Z"
   },
   {
    "duration": 0,
    "start_time": "2024-03-23T17:31:41.290Z"
   },
   {
    "duration": 0,
    "start_time": "2024-03-23T17:31:41.290Z"
   },
   {
    "duration": 0,
    "start_time": "2024-03-23T17:31:41.291Z"
   },
   {
    "duration": 0,
    "start_time": "2024-03-23T17:31:41.292Z"
   },
   {
    "duration": 0,
    "start_time": "2024-03-23T17:31:41.293Z"
   },
   {
    "duration": 0,
    "start_time": "2024-03-23T17:31:41.294Z"
   },
   {
    "duration": 0,
    "start_time": "2024-03-23T17:31:41.295Z"
   },
   {
    "duration": 0,
    "start_time": "2024-03-23T17:31:41.296Z"
   },
   {
    "duration": 0,
    "start_time": "2024-03-23T17:31:41.297Z"
   },
   {
    "duration": 0,
    "start_time": "2024-03-23T17:31:41.297Z"
   },
   {
    "duration": 0,
    "start_time": "2024-03-23T17:31:41.298Z"
   },
   {
    "duration": 0,
    "start_time": "2024-03-23T17:31:41.299Z"
   },
   {
    "duration": 0,
    "start_time": "2024-03-23T17:31:41.300Z"
   },
   {
    "duration": 0,
    "start_time": "2024-03-23T17:31:41.301Z"
   },
   {
    "duration": 0,
    "start_time": "2024-03-23T17:31:41.302Z"
   },
   {
    "duration": 0,
    "start_time": "2024-03-23T17:31:41.303Z"
   },
   {
    "duration": 0,
    "start_time": "2024-03-23T17:31:41.303Z"
   },
   {
    "duration": 0,
    "start_time": "2024-03-23T17:31:41.304Z"
   },
   {
    "duration": 0,
    "start_time": "2024-03-23T17:31:41.305Z"
   },
   {
    "duration": 0,
    "start_time": "2024-03-23T17:31:41.306Z"
   },
   {
    "duration": 0,
    "start_time": "2024-03-23T17:31:41.307Z"
   },
   {
    "duration": 0,
    "start_time": "2024-03-23T17:31:41.307Z"
   },
   {
    "duration": 0,
    "start_time": "2024-03-23T17:31:41.308Z"
   },
   {
    "duration": 0,
    "start_time": "2024-03-23T17:31:41.311Z"
   },
   {
    "duration": 0,
    "start_time": "2024-03-23T17:31:41.312Z"
   },
   {
    "duration": 0,
    "start_time": "2024-03-23T17:31:41.313Z"
   },
   {
    "duration": 0,
    "start_time": "2024-03-23T17:31:41.314Z"
   },
   {
    "duration": 0,
    "start_time": "2024-03-23T17:31:41.314Z"
   },
   {
    "duration": 0,
    "start_time": "2024-03-23T17:31:41.345Z"
   },
   {
    "duration": 0,
    "start_time": "2024-03-23T17:31:41.347Z"
   },
   {
    "duration": 0,
    "start_time": "2024-03-23T17:31:41.348Z"
   },
   {
    "duration": 0,
    "start_time": "2024-03-23T17:31:41.354Z"
   },
   {
    "duration": 0,
    "start_time": "2024-03-23T17:31:41.356Z"
   },
   {
    "duration": 0,
    "start_time": "2024-03-23T17:31:41.357Z"
   },
   {
    "duration": 0,
    "start_time": "2024-03-23T17:31:41.359Z"
   },
   {
    "duration": 0,
    "start_time": "2024-03-23T17:31:41.360Z"
   },
   {
    "duration": 0,
    "start_time": "2024-03-23T17:31:41.361Z"
   },
   {
    "duration": 0,
    "start_time": "2024-03-23T17:31:41.362Z"
   },
   {
    "duration": 0,
    "start_time": "2024-03-23T17:31:41.363Z"
   },
   {
    "duration": 0,
    "start_time": "2024-03-23T17:31:41.363Z"
   },
   {
    "duration": 0,
    "start_time": "2024-03-23T17:31:41.364Z"
   },
   {
    "duration": 0,
    "start_time": "2024-03-23T17:31:41.365Z"
   },
   {
    "duration": 0,
    "start_time": "2024-03-23T17:31:41.366Z"
   },
   {
    "duration": 0,
    "start_time": "2024-03-23T17:31:41.367Z"
   },
   {
    "duration": 0,
    "start_time": "2024-03-23T17:31:41.367Z"
   },
   {
    "duration": 0,
    "start_time": "2024-03-23T17:31:41.368Z"
   },
   {
    "duration": 0,
    "start_time": "2024-03-23T17:31:41.369Z"
   },
   {
    "duration": 0,
    "start_time": "2024-03-23T17:31:41.370Z"
   },
   {
    "duration": 0,
    "start_time": "2024-03-23T17:31:41.371Z"
   },
   {
    "duration": 0,
    "start_time": "2024-03-23T17:31:41.372Z"
   },
   {
    "duration": 0,
    "start_time": "2024-03-23T17:31:41.373Z"
   },
   {
    "duration": 0,
    "start_time": "2024-03-23T17:31:41.374Z"
   },
   {
    "duration": 0,
    "start_time": "2024-03-23T17:31:41.375Z"
   },
   {
    "duration": 0,
    "start_time": "2024-03-23T17:31:41.376Z"
   },
   {
    "duration": 0,
    "start_time": "2024-03-23T17:31:41.377Z"
   },
   {
    "duration": 7512,
    "start_time": "2024-03-23T17:32:28.292Z"
   },
   {
    "duration": 14,
    "start_time": "2024-03-23T17:32:43.193Z"
   },
   {
    "duration": 2379,
    "start_time": "2024-03-23T17:33:01.548Z"
   },
   {
    "duration": 3,
    "start_time": "2024-03-23T17:33:03.930Z"
   },
   {
    "duration": 2911,
    "start_time": "2024-03-23T17:33:03.935Z"
   },
   {
    "duration": 2143,
    "start_time": "2024-03-23T17:33:06.849Z"
   },
   {
    "duration": 2,
    "start_time": "2024-03-23T17:33:08.994Z"
   },
   {
    "duration": 20,
    "start_time": "2024-03-23T17:33:08.998Z"
   },
   {
    "duration": 12,
    "start_time": "2024-03-23T17:33:09.020Z"
   },
   {
    "duration": 5,
    "start_time": "2024-03-23T17:33:09.034Z"
   },
   {
    "duration": 3020,
    "start_time": "2024-03-23T17:33:09.040Z"
   },
   {
    "duration": 198,
    "start_time": "2024-03-23T17:33:12.063Z"
   },
   {
    "duration": 859,
    "start_time": "2024-03-23T17:33:12.263Z"
   },
   {
    "duration": 958,
    "start_time": "2024-03-23T17:33:13.123Z"
   },
   {
    "duration": 16,
    "start_time": "2024-03-23T17:33:14.083Z"
   },
   {
    "duration": 186,
    "start_time": "2024-03-23T17:33:14.100Z"
   },
   {
    "duration": 1349,
    "start_time": "2024-03-23T17:33:14.287Z"
   },
   {
    "duration": 36,
    "start_time": "2024-03-23T17:33:15.638Z"
   },
   {
    "duration": 124,
    "start_time": "2024-03-23T17:33:15.676Z"
   },
   {
    "duration": 64,
    "start_time": "2024-03-23T17:33:15.802Z"
   },
   {
    "duration": 120,
    "start_time": "2024-03-23T17:33:15.867Z"
   },
   {
    "duration": 12,
    "start_time": "2024-03-23T17:33:15.988Z"
   },
   {
    "duration": 18,
    "start_time": "2024-03-23T17:33:16.002Z"
   },
   {
    "duration": 87,
    "start_time": "2024-03-23T17:33:16.021Z"
   },
   {
    "duration": 292,
    "start_time": "2024-03-23T17:33:16.110Z"
   },
   {
    "duration": 12,
    "start_time": "2024-03-23T17:33:16.403Z"
   },
   {
    "duration": 32,
    "start_time": "2024-03-23T17:33:16.416Z"
   },
   {
    "duration": 691,
    "start_time": "2024-03-23T17:33:16.450Z"
   },
   {
    "duration": 16,
    "start_time": "2024-03-23T17:33:17.143Z"
   },
   {
    "duration": 123,
    "start_time": "2024-03-23T17:33:17.166Z"
   },
   {
    "duration": 389,
    "start_time": "2024-03-23T17:33:17.291Z"
   },
   {
    "duration": 14,
    "start_time": "2024-03-23T17:33:17.681Z"
   },
   {
    "duration": 59,
    "start_time": "2024-03-23T17:33:17.697Z"
   },
   {
    "duration": 52,
    "start_time": "2024-03-23T17:33:17.758Z"
   },
   {
    "duration": 67,
    "start_time": "2024-03-23T17:33:17.811Z"
   },
   {
    "duration": 195,
    "start_time": "2024-03-23T17:33:17.880Z"
   },
   {
    "duration": 13,
    "start_time": "2024-03-23T17:33:18.076Z"
   },
   {
    "duration": 1189,
    "start_time": "2024-03-23T17:33:18.091Z"
   },
   {
    "duration": 113,
    "start_time": "2024-03-23T17:33:19.282Z"
   },
   {
    "duration": 136,
    "start_time": "2024-03-23T17:33:19.397Z"
   },
   {
    "duration": 98,
    "start_time": "2024-03-23T17:33:19.534Z"
   },
   {
    "duration": 44,
    "start_time": "2024-03-23T17:33:19.633Z"
   },
   {
    "duration": 14,
    "start_time": "2024-03-23T17:33:19.678Z"
   },
   {
    "duration": 27,
    "start_time": "2024-03-23T17:33:19.694Z"
   },
   {
    "duration": 54,
    "start_time": "2024-03-23T17:33:19.723Z"
   },
   {
    "duration": 14,
    "start_time": "2024-03-23T17:33:19.779Z"
   },
   {
    "duration": 26,
    "start_time": "2024-03-23T17:33:19.795Z"
   },
   {
    "duration": 55,
    "start_time": "2024-03-23T17:33:19.823Z"
   },
   {
    "duration": 33,
    "start_time": "2024-03-23T17:33:19.880Z"
   },
   {
    "duration": 42,
    "start_time": "2024-03-23T17:33:19.914Z"
   },
   {
    "duration": 19,
    "start_time": "2024-03-23T17:33:19.957Z"
   },
   {
    "duration": 23,
    "start_time": "2024-03-23T17:33:19.977Z"
   },
   {
    "duration": 61,
    "start_time": "2024-03-23T17:33:20.001Z"
   },
   {
    "duration": 265,
    "start_time": "2024-03-23T17:33:20.064Z"
   },
   {
    "duration": 36,
    "start_time": "2024-03-23T17:33:20.331Z"
   },
   {
    "duration": 26,
    "start_time": "2024-03-23T17:33:20.368Z"
   },
   {
    "duration": 14,
    "start_time": "2024-03-23T17:33:20.395Z"
   },
   {
    "duration": 48,
    "start_time": "2024-03-23T17:33:20.411Z"
   },
   {
    "duration": 222,
    "start_time": "2024-03-23T17:33:20.460Z"
   },
   {
    "duration": 10,
    "start_time": "2024-03-23T17:33:20.684Z"
   },
   {
    "duration": 4730,
    "start_time": "2024-03-23T17:33:20.695Z"
   },
   {
    "duration": 2984,
    "start_time": "2024-03-23T17:33:25.427Z"
   },
   {
    "duration": 95,
    "start_time": "2024-03-23T17:33:28.413Z"
   },
   {
    "duration": 170,
    "start_time": "2024-03-23T17:33:28.510Z"
   },
   {
    "duration": 18,
    "start_time": "2024-03-23T17:33:28.681Z"
   },
   {
    "duration": 45,
    "start_time": "2024-03-23T17:33:28.700Z"
   },
   {
    "duration": 5,
    "start_time": "2024-03-23T17:33:28.747Z"
   },
   {
    "duration": 13,
    "start_time": "2024-03-23T17:33:28.756Z"
   },
   {
    "duration": 15,
    "start_time": "2024-03-23T17:33:28.771Z"
   },
   {
    "duration": 7,
    "start_time": "2024-03-23T17:33:28.787Z"
   },
   {
    "duration": 14,
    "start_time": "2024-03-23T17:33:28.796Z"
   },
   {
    "duration": 16,
    "start_time": "2024-03-23T17:33:28.812Z"
   },
   {
    "duration": 5615,
    "start_time": "2024-03-23T17:33:28.831Z"
   },
   {
    "duration": 368,
    "start_time": "2024-03-23T17:33:34.448Z"
   },
   {
    "duration": 8,
    "start_time": "2024-03-23T17:33:34.817Z"
   },
   {
    "duration": 117,
    "start_time": "2024-03-23T17:33:34.826Z"
   },
   {
    "duration": 734301,
    "start_time": "2024-03-23T17:33:34.945Z"
   },
   {
    "duration": 8,
    "start_time": "2024-03-23T17:45:49.247Z"
   },
   {
    "duration": 2891,
    "start_time": "2024-03-23T17:45:49.256Z"
   },
   {
    "duration": 1796,
    "start_time": "2024-03-23T17:45:52.149Z"
   },
   {
    "duration": 9,
    "start_time": "2024-03-23T17:45:53.947Z"
   },
   {
    "duration": 11,
    "start_time": "2024-03-23T17:45:53.957Z"
   },
   {
    "duration": 9,
    "start_time": "2024-03-23T17:45:53.970Z"
   },
   {
    "duration": 7,
    "start_time": "2024-03-23T17:45:53.983Z"
   },
   {
    "duration": 558609,
    "start_time": "2024-03-23T17:45:53.991Z"
   },
   {
    "duration": 9724,
    "start_time": "2024-03-23T17:55:12.602Z"
   },
   {
    "duration": 8,
    "start_time": "2024-03-23T17:55:22.327Z"
   },
   {
    "duration": 5,
    "start_time": "2024-03-23T17:59:04.016Z"
   },
   {
    "duration": 4,
    "start_time": "2024-03-23T18:00:10.565Z"
   },
   {
    "duration": 10,
    "start_time": "2024-03-23T18:00:31.904Z"
   },
   {
    "duration": 8,
    "start_time": "2024-03-23T18:00:41.850Z"
   },
   {
    "duration": 9,
    "start_time": "2024-03-23T18:00:46.231Z"
   },
   {
    "duration": 10,
    "start_time": "2024-03-23T18:00:58.248Z"
   },
   {
    "duration": 10,
    "start_time": "2024-03-23T18:01:04.738Z"
   },
   {
    "duration": 8,
    "start_time": "2024-03-23T18:01:23.374Z"
   }
  ],
  "kernelspec": {
   "display_name": "Python 3 (ipykernel)",
   "language": "python",
   "name": "python3"
  },
  "language_info": {
   "codemirror_mode": {
    "name": "ipython",
    "version": 3
   },
   "file_extension": ".py",
   "mimetype": "text/x-python",
   "name": "python",
   "nbconvert_exporter": "python",
   "pygments_lexer": "ipython3",
   "version": "3.11.5"
  },
  "toc": {
   "base_numbering": 1,
   "nav_menu": {},
   "number_sections": true,
   "sideBar": true,
   "skip_h1_title": true,
   "title_cell": "Table of Contents",
   "title_sidebar": "Contents",
   "toc_cell": false,
   "toc_position": {
    "height": "calc(100% - 180px)",
    "left": "10px",
    "top": "150px",
    "width": "288px"
   },
   "toc_section_display": true,
   "toc_window_display": true
  }
 },
 "nbformat": 4,
 "nbformat_minor": 2
}
